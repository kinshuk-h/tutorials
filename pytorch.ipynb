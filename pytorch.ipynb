{
 "cells": [
  {
   "cell_type": "markdown",
   "metadata": {
    "slideshow": {
     "slide_type": "slide"
    }
   },
   "source": [
    "# A Gentle Introduction to PyTorch\n",
    "\n",
    "Kinshuk Vasisht\n",
    "\n",
    "DS 207 - Introduction to NLP\n",
    "\n",
    "February 2025"
   ]
  },
  {
   "cell_type": "code",
   "execution_count": 2,
   "metadata": {
    "slideshow": {
     "slide_type": "skip"
    }
   },
   "outputs": [
    {
     "name": "stdout",
     "output_type": "stream",
     "text": [
      "env: CUDA_VISIBLE_DEVICES=0\n"
     ]
    }
   ],
   "source": [
    "%env CUDA_VISIBLE_DEVICES=0"
   ]
  },
  {
   "cell_type": "code",
   "execution_count": 3,
   "metadata": {
    "slideshow": {
     "slide_type": "skip"
    }
   },
   "outputs": [],
   "source": [
    "import gc\n",
    "\n",
    "import torch\n",
    "import numpy\n",
    "import torchviz\n",
    "import tqdm.auto as tqdm\n",
    "from matplotlib import pyplot\n",
    "\n",
    "from lib import draw_examples as _draw_examples\n",
    "\n",
    "def draw(*args, title='', **kwargs):\n",
    "    if args: kwargs[''] = args\n",
    "    examples = [\n",
    "        { name: _eg for name, _eg in zip(kwargs.keys(), eg) }\n",
    "        for eg in zip(*list(kwargs.values()))\n",
    "    ]\n",
    "    return _draw_examples(title, examples)"
   ]
  },
  {
   "cell_type": "markdown",
   "metadata": {
    "slideshow": {
     "slide_type": "slide"
    },
    "vscode": {
     "languageId": "plaintext"
    }
   },
   "source": [
    "### PyTorch\n",
    "\n",
    "Python-based scientific computing package serving two broad purposes:\n",
    "\n",
    "- A replacement for NumPy to utilize GPUs and other accelerators.\n",
    "- An automatic differentiation library that is useful to implement neural networks."
   ]
  },
  {
   "cell_type": "markdown",
   "metadata": {
    "slideshow": {
     "slide_type": "slide"
    }
   },
   "source": [
    "### Installation"
   ]
  },
  {
   "cell_type": "markdown",
   "metadata": {
    "slideshow": {
     "slide_type": "fragment"
    }
   },
   "source": [
    "- Available install options: https://pytorch.org/get-started/locally/\n",
    "- `pip` (preferred):\n",
    "```bash\n",
    "pip install torch\n",
    "```"
   ]
  },
  {
   "cell_type": "markdown",
   "metadata": {
    "slideshow": {
     "slide_type": "fragment"
    }
   },
   "source": [
    "- `conda` (deprecated from v2.5 onwards):\n",
    "```bash\n",
    "conda install -c pytorch pytorch\n",
    "```"
   ]
  },
  {
   "cell_type": "markdown",
   "metadata": {
    "slideshow": {
     "slide_type": "subslide"
    }
   },
   "source": [
    "- CUDA versions require additional index URLs specific to CUDA toolkit version:\n",
    "```bash\n",
    "# assuming cuda-toolkit 12.4 is available\n",
    "pip install --index-url https://download.pytorch.org/whl/cu124\n",
    "# or if via conda\n",
    "conda install -c pytorch -c nvidia pytorch pytorch-cuda=12.4\n",
    "```"
   ]
  },
  {
   "cell_type": "markdown",
   "metadata": {
    "slideshow": {
     "slide_type": "slide"
    },
    "vscode": {
     "languageId": "plaintext"
    }
   },
   "source": [
    "### Quickstart - Tensors"
   ]
  },
  {
   "cell_type": "markdown",
   "metadata": {
    "slideshow": {
     "slide_type": "fragment"
    }
   },
   "source": [
    "- Creation: `torch.tensor`, `torch.as_tensor`\n",
    "- Utilities: `torch.rand`, `torch.ones`, `torch.arange`, etc."
   ]
  },
  {
   "cell_type": "code",
   "execution_count": 4,
   "metadata": {
    "slideshow": {
     "slide_type": "fragment"
    }
   },
   "outputs": [
    {
     "data": {
      "image/svg+xml": [
       "<?xml version=\"1.0\" encoding=\"utf-8\" ?>\n",
       "<svg baseProfile=\"full\" height=\"300\" version=\"1.1\" width=\"839\" xmlns=\"http://www.w3.org/2000/svg\" xmlns:ev=\"http://www.w3.org/2001/xml-events\" xmlns:xlink=\"http://www.w3.org/1999/xlink\"><defs><marker id=\"arrow\" markerHeight=\"3.5\" markerWidth=\"5\" orient=\"auto\" refX=\"5.0\" refY=\"1.7\"><polygon points=\"0,0 5,1.75 0,3.5\" /></marker></defs><g style=\"fill:white;\"><g transform=\"matrix(1.0, 0.0, 0.0, 1.0, 419.99460010799794, 150.0)\"><g transform=\"matrix(47.61809525714248, 0.0, 0.0, 47.61809525714248, 0.0, 0.0)\"><g><g transform=\"matrix(1.0, 0.0, 0.0, 1.0, -0.0, 2.220446049250313e-16)\"><g><g style=\"fill: #ffffff;stroke: black;stroke-width: 2.517;\" transform=\"matrix(1.0, 0.0, 0.0, 1.0, -8.40006, -3.0000599999999995)\"><path d=\"M 0.0 0.0 L 16.80012 0.0 L 16.80012 6.000119999999999 L 0.0 6.000119999999999 L 0.0 0.0 Z\" style=\"vector-effect: non-scaling-stroke;\" /></g><g transform=\"matrix(1.0, 0.0, 0.0, 1.0, -0.0, -2.40006)\"><g><g style=\"stroke: black;stroke-width: 2.517;\" transform=\"matrix(1.0, 0.0, 0.0, 1.0, 0.0, 0.0)\"><g /></g><g style=\"fill: #000000;stroke: black;stroke-width: 0.0;\" transform=\"matrix(1.0, 0.0, 0.0, 1.0, 0.0, 0.5)\"><text style=\"text-align:center; text-anchor:middle; dominant-baseline:middle;&#10;                      font-family:sans-serif; font-weight: bold;&#10;                      font-size:0.75px;&#10;                      vector-effect: non-scaling-stroke;\" transform=\"translate(-5e-05, 0)\" /></g><g style=\"stroke: black;stroke-width: 2.517;\" transform=\"matrix(1.0, 0.0, 0.0, 1.0, 0.0, 1.0001)\"><g /></g><g transform=\"matrix(1.0, 0.0, 0.0, 1.0, 0.0, 3.0000999999999998)\"><g transform=\"matrix(1.0, 0.0, 0.0, 1.0, -7.0, -0.5)\"><g><g transform=\"matrix(1.0, 0.0, 0.0, 1.0, -5e-05, -0.25005)\"><g><g style=\"stroke: black;stroke-width: 2.517;\" transform=\"matrix(1.0, 0.0, 0.0, 1.0, 0.0, 0.0)\"><g /></g><g style=\"fill: #000000;stroke: black;stroke-width: 0.0;\" transform=\"matrix(1.0, 0.0, 0.0, 1.0, 0.0, 0.25)\"><text style=\"text-align:center; text-anchor:middle; dominant-baseline:middle;&#10;                      font-family:sans-serif; font-weight: bold;&#10;                      font-size:0.5px;&#10;                      vector-effect: non-scaling-stroke;\" transform=\"translate(-5e-05, 0)\" /></g><g style=\"stroke: black;stroke-width: 2.517;\" transform=\"matrix(1.0, 0.0, 0.0, 1.0, 0.0, 0.5001)\"><g /></g></g></g><g /><g style=\"stroke: black;stroke-width: 2.517;\" transform=\"matrix(1.0, 0.0, 0.0, 1.0, 0.50005, 0.0)\"><g /></g><g transform=\"matrix(1.0, 0.0, 0.0, 1.0, 2.50005, 0.0)\"><g><g transform=\"matrix(1.0, 0.0, 0.0, 1.0, -1.0, -0.0)\"><g><g style=\"fill: #ffa500;stroke: black;stroke-width: 2.517;fill-opacity: 0.46;\" transform=\"matrix(1.0, 0.0, 0.0, 1.0, -0.5, -0.5)\"><path d=\"M 0.0 0.0 L 1.0 0.0 L 1.0 1.0 L 0.0 1.0 L 0.0 0.0 Z\" style=\"vector-effect: non-scaling-stroke;\" /></g><g transform=\"matrix(1.0, 0.0, 0.0, 1.0, 0.5, 0.0)\"><g transform=\"matrix(1.0, -0.0, 0.0, 1.0, 0.0, 0.0)\"><g /></g></g><g transform=\"matrix(1.0, 0.0, 0.0, 1.0, 1.0, 0.0)\"><g><g style=\"fill: #ffa500;stroke: black;stroke-width: 2.517;fill-opacity: 0.52;\" transform=\"matrix(1.0, 0.0, 0.0, 1.0, -0.5, -0.5)\"><path d=\"M 0.0 0.0 L 1.0 0.0 L 1.0 1.0 L 0.0 1.0 L 0.0 0.0 Z\" style=\"vector-effect: non-scaling-stroke;\" /></g><g transform=\"matrix(1.0, 0.0, 0.0, 1.0, 0.5, 0.0)\"><g transform=\"matrix(1.0, -0.0, 0.0, 1.0, 0.0, 0.0)\"><g /></g></g><g style=\"fill: #0000ff;stroke: black;stroke-width: 2.517;fill-opacity: 0.9400000000000001;\" transform=\"matrix(1.0, 0.0, 0.0, 1.0, 0.5, -0.5)\"><path d=\"M 0.0 0.0 L 1.0 0.0 L 1.0 1.0 L 0.0 1.0 L 0.0 0.0 Z\" style=\"vector-effect: non-scaling-stroke;\" /></g></g></g><g transform=\"matrix(1.0, 0.0, 0.0, 1.0, 0.0, 0.5)\"><g transform=\"matrix(0.0, -1.0, 1.0, 0.0, 0.0, 0.0)\"><g /></g></g><g transform=\"matrix(1.0, 0.0, 0.0, 1.0, 0.0, 0.5)\"><g /></g></g></g><g /><g style=\"stroke: black;stroke-width: 2.517;\" transform=\"matrix(1.0, 0.0, 0.0, 1.0, 2.0, 0.0)\"><g /></g><g transform=\"matrix(1.0, 0.0, 0.0, 1.0, 5.0, 0.0)\"><g><g transform=\"matrix(1.0, 0.0, 0.0, 1.0, -2.0, -0.0)\"><g><g style=\"stroke: black;stroke-width: 2.517;\" transform=\"matrix(1.0, 0.0, 0.0, 1.0, -0.5, -0.5)\"><path d=\"M 0.0 0.0 L 1.0 0.0 L 1.0 1.0 L 0.0 1.0 L 0.0 0.0 Z\" style=\"vector-effect: non-scaling-stroke;\" /></g><g transform=\"matrix(1.0, 0.0, 0.0, 1.0, 0.5, 0.0)\"><g transform=\"matrix(1.0, -0.0, 0.0, 1.0, 0.0, 0.0)\"><g /></g></g><g transform=\"matrix(1.0, 0.0, 0.0, 1.0, 1.0, 0.0)\"><g><g style=\"fill: #ffa500;stroke: black;stroke-width: 2.517;fill-opacity: 0.46;\" transform=\"matrix(1.0, 0.0, 0.0, 1.0, -0.5, -0.5)\"><path d=\"M 0.0 0.0 L 1.0 0.0 L 1.0 1.0 L 0.0 1.0 L 0.0 0.0 Z\" style=\"vector-effect: non-scaling-stroke;\" /></g><g transform=\"matrix(1.0, 0.0, 0.0, 1.0, 0.5, 0.0)\"><g transform=\"matrix(1.0, -0.0, 0.0, 1.0, 0.0, 0.0)\"><g /></g></g><g style=\"fill: #ffa500;stroke: black;stroke-width: 2.517;fill-opacity: 0.52;\" transform=\"matrix(1.0, 0.0, 0.0, 1.0, 0.5, -0.5)\"><path d=\"M 0.0 0.0 L 1.0 0.0 L 1.0 1.0 L 0.0 1.0 L 0.0 0.0 Z\" style=\"vector-effect: non-scaling-stroke;\" /></g><g transform=\"matrix(1.0, 0.0, 0.0, 1.0, 1.5, 0.0)\"><g transform=\"matrix(1.0, -0.0, 0.0, 1.0, 0.0, 0.0)\"><g /></g></g><g transform=\"matrix(1.0, 0.0, 0.0, 1.0, 2.0, 0.0)\"><g><g style=\"fill: #ffa500;stroke: black;stroke-width: 2.517;fill-opacity: 0.5800000000000001;\" transform=\"matrix(1.0, 0.0, 0.0, 1.0, -0.5, -0.5)\"><path d=\"M 0.0 0.0 L 1.0 0.0 L 1.0 1.0 L 0.0 1.0 L 0.0 0.0 Z\" style=\"vector-effect: non-scaling-stroke;\" /></g><g transform=\"matrix(1.0, 0.0, 0.0, 1.0, 0.5, 0.0)\"><g transform=\"matrix(1.0, -0.0, 0.0, 1.0, 0.0, 0.0)\"><g /></g></g><g style=\"fill: #ffa500;stroke: black;stroke-width: 2.517;fill-opacity: 0.64;\" transform=\"matrix(1.0, 0.0, 0.0, 1.0, 0.5, -0.5)\"><path d=\"M 0.0 0.0 L 1.0 0.0 L 1.0 1.0 L 0.0 1.0 L 0.0 0.0 Z\" style=\"vector-effect: non-scaling-stroke;\" /></g></g></g></g></g><g transform=\"matrix(1.0, 0.0, 0.0, 1.0, 0.0, 0.5)\"><g transform=\"matrix(0.0, -1.0, 1.0, 0.0, 0.0, 0.0)\"><g /></g></g><g transform=\"matrix(1.0, 0.0, 0.0, 1.0, 0.0, 0.5)\"><g /></g></g></g><g /></g></g><g style=\"stroke: black;stroke-width: 2.517;\" transform=\"matrix(1.0, 0.0, 0.0, 1.0, 8.0, 0.0)\"><g /></g><g transform=\"matrix(1.0, 0.0, 0.0, 1.0, 10.0, 0.0)\"><g><g transform=\"matrix(1.0, 0.0, 0.0, 1.0, -1.0, -0.5)\"><g><g style=\"stroke: black;stroke-width: 2.517;\" transform=\"matrix(1.0, 0.0, 0.0, 1.0, -0.5, -0.5)\"><path d=\"M 0.0 0.0 L 1.0 0.0 L 1.0 1.0 L 0.0 1.0 L 0.0 0.0 Z\" style=\"vector-effect: non-scaling-stroke;\" /></g><g transform=\"matrix(1.0, 0.0, 0.0, 1.0, 0.5, 0.0)\"><g transform=\"matrix(1.0, -0.0, 0.0, 1.0, 0.0, 0.0)\"><g /></g></g><g transform=\"matrix(1.0, 0.0, 0.0, 1.0, 1.0, 0.0)\"><g><g style=\"stroke: black;stroke-width: 2.517;\" transform=\"matrix(1.0, 0.0, 0.0, 1.0, -0.5, -0.5)\"><path d=\"M 0.0 0.0 L 1.0 0.0 L 1.0 1.0 L 0.0 1.0 L 0.0 0.0 Z\" style=\"vector-effect: non-scaling-stroke;\" /></g><g transform=\"matrix(1.0, 0.0, 0.0, 1.0, 0.5, 0.0)\"><g transform=\"matrix(1.0, -0.0, 0.0, 1.0, 0.0, 0.0)\"><g /></g></g><g style=\"stroke: black;stroke-width: 2.517;\" transform=\"matrix(1.0, 0.0, 0.0, 1.0, 0.5, -0.5)\"><path d=\"M 0.0 0.0 L 1.0 0.0 L 1.0 1.0 L 0.0 1.0 L 0.0 0.0 Z\" style=\"vector-effect: non-scaling-stroke;\" /></g></g></g><g transform=\"matrix(1.0, 0.0, 0.0, 1.0, 0.0, 0.5)\"><g transform=\"matrix(0.0, -1.0, 1.0, 0.0, 0.0, 0.0)\"><g /></g></g><g transform=\"matrix(1.0, 0.0, 0.0, 1.0, 0.0, 1.0)\"><g><g style=\"stroke: black;stroke-width: 2.517;\" transform=\"matrix(1.0, 0.0, 0.0, 1.0, -0.5, -0.5)\"><path d=\"M 0.0 0.0 L 1.0 0.0 L 1.0 1.0 L 0.0 1.0 L 0.0 0.0 Z\" style=\"vector-effect: non-scaling-stroke;\" /></g><g transform=\"matrix(1.0, 0.0, 0.0, 1.0, 0.5, 0.0)\"><g transform=\"matrix(1.0, -0.0, 0.0, 1.0, 0.0, 0.0)\"><g /></g></g><g transform=\"matrix(1.0, 0.0, 0.0, 1.0, 1.0, 0.0)\"><g><g style=\"stroke: black;stroke-width: 2.517;\" transform=\"matrix(1.0, 0.0, 0.0, 1.0, -0.5, -0.5)\"><path d=\"M 0.0 0.0 L 1.0 0.0 L 1.0 1.0 L 0.0 1.0 L 0.0 0.0 Z\" style=\"vector-effect: non-scaling-stroke;\" /></g><g transform=\"matrix(1.0, 0.0, 0.0, 1.0, 0.5, 0.0)\"><g transform=\"matrix(1.0, -0.0, 0.0, 1.0, 0.0, 0.0)\"><g /></g></g><g style=\"stroke: black;stroke-width: 2.517;\" transform=\"matrix(1.0, 0.0, 0.0, 1.0, 0.5, -0.5)\"><path d=\"M 0.0 0.0 L 1.0 0.0 L 1.0 1.0 L 0.0 1.0 L 0.0 0.0 Z\" style=\"vector-effect: non-scaling-stroke;\" /></g></g></g></g></g></g></g><g /></g></g></g></g><g style=\"stroke: black;stroke-width: 2.517;\" transform=\"matrix(0.0, -1.0, 1.0, 0.0, 0.0, 1.5)\"><g /></g><g transform=\"matrix(1.0, 0.0, 0.0, 1.0, 0.0, 2.0)\"><g /></g></g></g></g><g /></g></g></g></g><g /></g></g></g></g></svg>"
      ],
      "text/html": [
       "<?xml version=\"1.0\" encoding=\"utf-8\" ?>\n",
       "<svg baseProfile=\"full\" height=\"300\" version=\"1.1\" width=\"839\" xmlns=\"http://www.w3.org/2000/svg\" xmlns:ev=\"http://www.w3.org/2001/xml-events\" xmlns:xlink=\"http://www.w3.org/1999/xlink\"><defs><marker id=\"arrow\" markerHeight=\"3.5\" markerWidth=\"5\" orient=\"auto\" refX=\"5.0\" refY=\"1.7\"><polygon points=\"0,0 5,1.75 0,3.5\" /></marker></defs><g style=\"fill:white;\"><g transform=\"matrix(1.0, 0.0, 0.0, 1.0, 419.99460010799794, 150.0)\"><g transform=\"matrix(47.61809525714248, 0.0, 0.0, 47.61809525714248, 0.0, 0.0)\"><g><g transform=\"matrix(1.0, 0.0, 0.0, 1.0, -0.0, 2.220446049250313e-16)\"><g><g style=\"fill: #ffffff;stroke: black;stroke-width: 2.517;\" transform=\"matrix(1.0, 0.0, 0.0, 1.0, -8.40006, -3.0000599999999995)\"><path d=\"M 0.0 0.0 L 16.80012 0.0 L 16.80012 6.000119999999999 L 0.0 6.000119999999999 L 0.0 0.0 Z\" style=\"vector-effect: non-scaling-stroke;\" /></g><g transform=\"matrix(1.0, 0.0, 0.0, 1.0, -0.0, -2.40006)\"><g><g style=\"stroke: black;stroke-width: 2.517;\" transform=\"matrix(1.0, 0.0, 0.0, 1.0, 0.0, 0.0)\"><g /></g><g style=\"fill: #000000;stroke: black;stroke-width: 0.0;\" transform=\"matrix(1.0, 0.0, 0.0, 1.0, 0.0, 0.5)\"><text style=\"text-align:center; text-anchor:middle; dominant-baseline:middle;&#10;                      font-family:sans-serif; font-weight: bold;&#10;                      font-size:0.75px;&#10;                      vector-effect: non-scaling-stroke;\" transform=\"translate(-5e-05, 0)\" /></g><g style=\"stroke: black;stroke-width: 2.517;\" transform=\"matrix(1.0, 0.0, 0.0, 1.0, 0.0, 1.0001)\"><g /></g><g transform=\"matrix(1.0, 0.0, 0.0, 1.0, 0.0, 3.0000999999999998)\"><g transform=\"matrix(1.0, 0.0, 0.0, 1.0, -7.0, -0.5)\"><g><g transform=\"matrix(1.0, 0.0, 0.0, 1.0, -5e-05, -0.25005)\"><g><g style=\"stroke: black;stroke-width: 2.517;\" transform=\"matrix(1.0, 0.0, 0.0, 1.0, 0.0, 0.0)\"><g /></g><g style=\"fill: #000000;stroke: black;stroke-width: 0.0;\" transform=\"matrix(1.0, 0.0, 0.0, 1.0, 0.0, 0.25)\"><text style=\"text-align:center; text-anchor:middle; dominant-baseline:middle;&#10;                      font-family:sans-serif; font-weight: bold;&#10;                      font-size:0.5px;&#10;                      vector-effect: non-scaling-stroke;\" transform=\"translate(-5e-05, 0)\" /></g><g style=\"stroke: black;stroke-width: 2.517;\" transform=\"matrix(1.0, 0.0, 0.0, 1.0, 0.0, 0.5001)\"><g /></g></g></g><g /><g style=\"stroke: black;stroke-width: 2.517;\" transform=\"matrix(1.0, 0.0, 0.0, 1.0, 0.50005, 0.0)\"><g /></g><g transform=\"matrix(1.0, 0.0, 0.0, 1.0, 2.50005, 0.0)\"><g><g transform=\"matrix(1.0, 0.0, 0.0, 1.0, -1.0, -0.0)\"><g><g style=\"fill: #ffa500;stroke: black;stroke-width: 2.517;fill-opacity: 0.46;\" transform=\"matrix(1.0, 0.0, 0.0, 1.0, -0.5, -0.5)\"><path d=\"M 0.0 0.0 L 1.0 0.0 L 1.0 1.0 L 0.0 1.0 L 0.0 0.0 Z\" style=\"vector-effect: non-scaling-stroke;\" /></g><g transform=\"matrix(1.0, 0.0, 0.0, 1.0, 0.5, 0.0)\"><g transform=\"matrix(1.0, -0.0, 0.0, 1.0, 0.0, 0.0)\"><g /></g></g><g transform=\"matrix(1.0, 0.0, 0.0, 1.0, 1.0, 0.0)\"><g><g style=\"fill: #ffa500;stroke: black;stroke-width: 2.517;fill-opacity: 0.52;\" transform=\"matrix(1.0, 0.0, 0.0, 1.0, -0.5, -0.5)\"><path d=\"M 0.0 0.0 L 1.0 0.0 L 1.0 1.0 L 0.0 1.0 L 0.0 0.0 Z\" style=\"vector-effect: non-scaling-stroke;\" /></g><g transform=\"matrix(1.0, 0.0, 0.0, 1.0, 0.5, 0.0)\"><g transform=\"matrix(1.0, -0.0, 0.0, 1.0, 0.0, 0.0)\"><g /></g></g><g style=\"fill: #0000ff;stroke: black;stroke-width: 2.517;fill-opacity: 0.9400000000000001;\" transform=\"matrix(1.0, 0.0, 0.0, 1.0, 0.5, -0.5)\"><path d=\"M 0.0 0.0 L 1.0 0.0 L 1.0 1.0 L 0.0 1.0 L 0.0 0.0 Z\" style=\"vector-effect: non-scaling-stroke;\" /></g></g></g><g transform=\"matrix(1.0, 0.0, 0.0, 1.0, 0.0, 0.5)\"><g transform=\"matrix(0.0, -1.0, 1.0, 0.0, 0.0, 0.0)\"><g /></g></g><g transform=\"matrix(1.0, 0.0, 0.0, 1.0, 0.0, 0.5)\"><g /></g></g></g><g /><g style=\"stroke: black;stroke-width: 2.517;\" transform=\"matrix(1.0, 0.0, 0.0, 1.0, 2.0, 0.0)\"><g /></g><g transform=\"matrix(1.0, 0.0, 0.0, 1.0, 5.0, 0.0)\"><g><g transform=\"matrix(1.0, 0.0, 0.0, 1.0, -2.0, -0.0)\"><g><g style=\"stroke: black;stroke-width: 2.517;\" transform=\"matrix(1.0, 0.0, 0.0, 1.0, -0.5, -0.5)\"><path d=\"M 0.0 0.0 L 1.0 0.0 L 1.0 1.0 L 0.0 1.0 L 0.0 0.0 Z\" style=\"vector-effect: non-scaling-stroke;\" /></g><g transform=\"matrix(1.0, 0.0, 0.0, 1.0, 0.5, 0.0)\"><g transform=\"matrix(1.0, -0.0, 0.0, 1.0, 0.0, 0.0)\"><g /></g></g><g transform=\"matrix(1.0, 0.0, 0.0, 1.0, 1.0, 0.0)\"><g><g style=\"fill: #ffa500;stroke: black;stroke-width: 2.517;fill-opacity: 0.46;\" transform=\"matrix(1.0, 0.0, 0.0, 1.0, -0.5, -0.5)\"><path d=\"M 0.0 0.0 L 1.0 0.0 L 1.0 1.0 L 0.0 1.0 L 0.0 0.0 Z\" style=\"vector-effect: non-scaling-stroke;\" /></g><g transform=\"matrix(1.0, 0.0, 0.0, 1.0, 0.5, 0.0)\"><g transform=\"matrix(1.0, -0.0, 0.0, 1.0, 0.0, 0.0)\"><g /></g></g><g style=\"fill: #ffa500;stroke: black;stroke-width: 2.517;fill-opacity: 0.52;\" transform=\"matrix(1.0, 0.0, 0.0, 1.0, 0.5, -0.5)\"><path d=\"M 0.0 0.0 L 1.0 0.0 L 1.0 1.0 L 0.0 1.0 L 0.0 0.0 Z\" style=\"vector-effect: non-scaling-stroke;\" /></g><g transform=\"matrix(1.0, 0.0, 0.0, 1.0, 1.5, 0.0)\"><g transform=\"matrix(1.0, -0.0, 0.0, 1.0, 0.0, 0.0)\"><g /></g></g><g transform=\"matrix(1.0, 0.0, 0.0, 1.0, 2.0, 0.0)\"><g><g style=\"fill: #ffa500;stroke: black;stroke-width: 2.517;fill-opacity: 0.5800000000000001;\" transform=\"matrix(1.0, 0.0, 0.0, 1.0, -0.5, -0.5)\"><path d=\"M 0.0 0.0 L 1.0 0.0 L 1.0 1.0 L 0.0 1.0 L 0.0 0.0 Z\" style=\"vector-effect: non-scaling-stroke;\" /></g><g transform=\"matrix(1.0, 0.0, 0.0, 1.0, 0.5, 0.0)\"><g transform=\"matrix(1.0, -0.0, 0.0, 1.0, 0.0, 0.0)\"><g /></g></g><g style=\"fill: #ffa500;stroke: black;stroke-width: 2.517;fill-opacity: 0.64;\" transform=\"matrix(1.0, 0.0, 0.0, 1.0, 0.5, -0.5)\"><path d=\"M 0.0 0.0 L 1.0 0.0 L 1.0 1.0 L 0.0 1.0 L 0.0 0.0 Z\" style=\"vector-effect: non-scaling-stroke;\" /></g></g></g></g></g><g transform=\"matrix(1.0, 0.0, 0.0, 1.0, 0.0, 0.5)\"><g transform=\"matrix(0.0, -1.0, 1.0, 0.0, 0.0, 0.0)\"><g /></g></g><g transform=\"matrix(1.0, 0.0, 0.0, 1.0, 0.0, 0.5)\"><g /></g></g></g><g /></g></g><g style=\"stroke: black;stroke-width: 2.517;\" transform=\"matrix(1.0, 0.0, 0.0, 1.0, 8.0, 0.0)\"><g /></g><g transform=\"matrix(1.0, 0.0, 0.0, 1.0, 10.0, 0.0)\"><g><g transform=\"matrix(1.0, 0.0, 0.0, 1.0, -1.0, -0.5)\"><g><g style=\"stroke: black;stroke-width: 2.517;\" transform=\"matrix(1.0, 0.0, 0.0, 1.0, -0.5, -0.5)\"><path d=\"M 0.0 0.0 L 1.0 0.0 L 1.0 1.0 L 0.0 1.0 L 0.0 0.0 Z\" style=\"vector-effect: non-scaling-stroke;\" /></g><g transform=\"matrix(1.0, 0.0, 0.0, 1.0, 0.5, 0.0)\"><g transform=\"matrix(1.0, -0.0, 0.0, 1.0, 0.0, 0.0)\"><g /></g></g><g transform=\"matrix(1.0, 0.0, 0.0, 1.0, 1.0, 0.0)\"><g><g style=\"stroke: black;stroke-width: 2.517;\" transform=\"matrix(1.0, 0.0, 0.0, 1.0, -0.5, -0.5)\"><path d=\"M 0.0 0.0 L 1.0 0.0 L 1.0 1.0 L 0.0 1.0 L 0.0 0.0 Z\" style=\"vector-effect: non-scaling-stroke;\" /></g><g transform=\"matrix(1.0, 0.0, 0.0, 1.0, 0.5, 0.0)\"><g transform=\"matrix(1.0, -0.0, 0.0, 1.0, 0.0, 0.0)\"><g /></g></g><g style=\"stroke: black;stroke-width: 2.517;\" transform=\"matrix(1.0, 0.0, 0.0, 1.0, 0.5, -0.5)\"><path d=\"M 0.0 0.0 L 1.0 0.0 L 1.0 1.0 L 0.0 1.0 L 0.0 0.0 Z\" style=\"vector-effect: non-scaling-stroke;\" /></g></g></g><g transform=\"matrix(1.0, 0.0, 0.0, 1.0, 0.0, 0.5)\"><g transform=\"matrix(0.0, -1.0, 1.0, 0.0, 0.0, 0.0)\"><g /></g></g><g transform=\"matrix(1.0, 0.0, 0.0, 1.0, 0.0, 1.0)\"><g><g style=\"stroke: black;stroke-width: 2.517;\" transform=\"matrix(1.0, 0.0, 0.0, 1.0, -0.5, -0.5)\"><path d=\"M 0.0 0.0 L 1.0 0.0 L 1.0 1.0 L 0.0 1.0 L 0.0 0.0 Z\" style=\"vector-effect: non-scaling-stroke;\" /></g><g transform=\"matrix(1.0, 0.0, 0.0, 1.0, 0.5, 0.0)\"><g transform=\"matrix(1.0, -0.0, 0.0, 1.0, 0.0, 0.0)\"><g /></g></g><g transform=\"matrix(1.0, 0.0, 0.0, 1.0, 1.0, 0.0)\"><g><g style=\"stroke: black;stroke-width: 2.517;\" transform=\"matrix(1.0, 0.0, 0.0, 1.0, -0.5, -0.5)\"><path d=\"M 0.0 0.0 L 1.0 0.0 L 1.0 1.0 L 0.0 1.0 L 0.0 0.0 Z\" style=\"vector-effect: non-scaling-stroke;\" /></g><g transform=\"matrix(1.0, 0.0, 0.0, 1.0, 0.5, 0.0)\"><g transform=\"matrix(1.0, -0.0, 0.0, 1.0, 0.0, 0.0)\"><g /></g></g><g style=\"stroke: black;stroke-width: 2.517;\" transform=\"matrix(1.0, 0.0, 0.0, 1.0, 0.5, -0.5)\"><path d=\"M 0.0 0.0 L 1.0 0.0 L 1.0 1.0 L 0.0 1.0 L 0.0 0.0 Z\" style=\"vector-effect: non-scaling-stroke;\" /></g></g></g></g></g></g></g><g /></g></g></g></g><g style=\"stroke: black;stroke-width: 2.517;\" transform=\"matrix(0.0, -1.0, 1.0, 0.0, 0.0, 1.5)\"><g /></g><g transform=\"matrix(1.0, 0.0, 0.0, 1.0, 0.0, 2.0)\"><g /></g></g></g></g><g /></g></g></g></g><g /></g></g></g></g></svg>"
      ],
      "text/plain": [
       "Compose(envelope=<chalk.envelope.Envelope object at 0x7149b030d810>, diagrams=[Primitive(shape=Path(loc_trails=[Located(trail=Trail(segments=[Segment(offset=Vec2(16.80012, 0.0), origin=Vec2(0.0, 0.0)), Segment(offset=Vec2(0.0, 6.000119999999999), origin=Vec2(0.0, 0.0)), Segment(offset=Vec2(-16.80012, 0.0), origin=Vec2(0.0, 0.0)), Segment(offset=Vec2(0.0, -6.000119999999999), origin=Vec2(0.0, 0.0))], closed=True), location=Vec2(0.0, 0.0))]), style=Style(line_width_=None, line_color_=None, fill_color_=<Color white>, fill_opacity_=None, dashing_=None, output_size=None), transform=Affine(1.0, 0.0, -8.40006,\n",
       "       0.0, 1.0, -3.0000599999999995)), ApplyTransform(transform=Affine(1.0, 0.0, -0.0,\n",
       "       0.0, 1.0, -2.40006), diagram=Compose(envelope=<chalk.envelope.Envelope object at 0x7149b030d390>, diagrams=[Primitive(shape=Spacer(width=0, height=1), style=Style(line_width_=None, line_color_=None, fill_color_=None, fill_opacity_=None, dashing_=None, output_size=None), transform=Affine(1.0, 0.0, 0.0,\n",
       "       0.0, 1.0, 0.0)), Primitive(shape=Text(text='', font_size=0.75), style=Style(line_width_=(<WidthType.NORMALIZED: 2>, 0), line_color_=None, fill_color_=<Color black>, fill_opacity_=None, dashing_=None, output_size=None), transform=Affine(1.0, 0.0, 0.0,\n",
       "       0.0, 1.0, 0.5)), Primitive(shape=Spacer(width=0, height=1), style=Style(line_width_=None, line_color_=None, fill_color_=None, fill_opacity_=None, dashing_=None, output_size=None), transform=Affine(1.0, 0.0, 0.0,\n",
       "       0.0, 1.0, 1.0001)), ApplyTransform(transform=Affine(1.0, 0.0, 0.0,\n",
       "       0.0, 1.0, 3.0000999999999998), diagram=ApplyTransform(transform=Affine(1.0, 0.0, -7.0,\n",
       "       0.0, 1.0, -0.5), diagram=Compose(envelope=<chalk.envelope.Envelope object at 0x7149b030cd90>, diagrams=[ApplyTransform(transform=Affine(1.0, 0.0, -5e-05,\n",
       "       0.0, 1.0, -0.25005), diagram=Compose(envelope=<chalk.envelope.Envelope object at 0x7149c1aaa310>, diagrams=[Primitive(shape=Spacer(width=0, height=0.5), style=Style(line_width_=None, line_color_=None, fill_color_=None, fill_opacity_=None, dashing_=None, output_size=None), transform=Affine(1.0, 0.0, 0.0,\n",
       "       0.0, 1.0, 0.0)), Primitive(shape=Text(text='', font_size=0.5), style=Style(line_width_=(<WidthType.NORMALIZED: 2>, 0.0), line_color_=None, fill_color_=<Color black>, fill_opacity_=None, dashing_=None, output_size=None), transform=Affine(1.0, 0.0, 0.0,\n",
       "       0.0, 1.0, 0.25)), Primitive(shape=Spacer(width=0, height=0.5), style=Style(line_width_=None, line_color_=None, fill_color_=None, fill_opacity_=None, dashing_=None, output_size=None), transform=Affine(1.0, 0.0, 0.0,\n",
       "       0.0, 1.0, 0.5001))])), Empty(), Primitive(shape=Spacer(width=1.0, height=0), style=Style(line_width_=None, line_color_=None, fill_color_=None, fill_opacity_=None, dashing_=None, output_size=None), transform=Affine(1.0, 0.0, 0.50005,\n",
       "       0.0, 1.0, 0.0)), ApplyTransform(transform=Affine(1.0, 0.0, 2.50005,\n",
       "       0.0, 1.0, 0.0), diagram=Compose(envelope=<chalk.envelope.Envelope object at 0x7149b030c990>, diagrams=[ApplyTransform(transform=Affine(1.0, 0.0, -1.0,\n",
       "       0.0, 1.0, -0.0), diagram=Compose(envelope=<chalk.envelope.Envelope object at 0x7149b2dd9290>, diagrams=[Primitive(shape=Path(loc_trails=[Located(trail=Trail(segments=[Segment(offset=Vec2(1.0, 0.0), origin=Vec2(0.0, 0.0)), Segment(offset=Vec2(0.0, 1.0), origin=Vec2(0.0, 0.0)), Segment(offset=Vec2(-1.0, 0.0), origin=Vec2(0.0, 0.0)), Segment(offset=Vec2(0.0, -1.0), origin=Vec2(0.0, 0.0))], closed=True), location=Vec2(0.0, 0.0))]), style=Style(line_width_=None, line_color_=None, fill_color_=<Color orange>, fill_opacity_=0.46, dashing_=None, output_size=None), transform=Affine(1.0, 0.0, -0.5,\n",
       "       0.0, 1.0, -0.5)), ApplyTransform(transform=Affine(1.0, 0.0, 0.5,\n",
       "       0.0, 1.0, 0.0), diagram=ApplyTransform(transform=Affine(1.0, 0.0, 0.0,\n",
       "       -0.0, 1.0, 0.0), diagram=Empty())), ApplyTransform(transform=Affine(1.0, 0.0, 1.0,\n",
       "       0.0, 1.0, 0.0), diagram=Compose(envelope=<chalk.envelope.Envelope object at 0x7149b57a95d0>, diagrams=[Primitive(shape=Path(loc_trails=[Located(trail=Trail(segments=[Segment(offset=Vec2(1.0, 0.0), origin=Vec2(0.0, 0.0)), Segment(offset=Vec2(0.0, 1.0), origin=Vec2(0.0, 0.0)), Segment(offset=Vec2(-1.0, 0.0), origin=Vec2(0.0, 0.0)), Segment(offset=Vec2(0.0, -1.0), origin=Vec2(0.0, 0.0))], closed=True), location=Vec2(0.0, 0.0))]), style=Style(line_width_=None, line_color_=None, fill_color_=<Color orange>, fill_opacity_=0.52, dashing_=None, output_size=None), transform=Affine(1.0, 0.0, -0.5,\n",
       "       0.0, 1.0, -0.5)), ApplyTransform(transform=Affine(1.0, 0.0, 0.5,\n",
       "       0.0, 1.0, 0.0), diagram=ApplyTransform(transform=Affine(1.0, 0.0, 0.0,\n",
       "       -0.0, 1.0, 0.0), diagram=Empty())), Primitive(shape=Path(loc_trails=[Located(trail=Trail(segments=[Segment(offset=Vec2(1.0, 0.0), origin=Vec2(0.0, 0.0)), Segment(offset=Vec2(0.0, 1.0), origin=Vec2(0.0, 0.0)), Segment(offset=Vec2(-1.0, 0.0), origin=Vec2(0.0, 0.0)), Segment(offset=Vec2(0.0, -1.0), origin=Vec2(0.0, 0.0))], closed=True), location=Vec2(0.0, 0.0))]), style=Style(line_width_=None, line_color_=None, fill_color_=<Color blue>, fill_opacity_=0.9400000000000001, dashing_=None, output_size=None), transform=Affine(1.0, 0.0, 0.5,\n",
       "       0.0, 1.0, -0.5))])), ApplyTransform(transform=Affine(1.0, 0.0, 0.0,\n",
       "       0.0, 1.0, 0.5), diagram=ApplyTransform(transform=Affine(0.0, 1.0, 0.0,\n",
       "       -1.0, 0.0, 0.0), diagram=Empty())), ApplyTransform(transform=Affine(1.0, 0.0, 0.0,\n",
       "       0.0, 1.0, 0.5), diagram=Empty())])), Empty(), Primitive(shape=Spacer(width=1.0, height=0), style=Style(line_width_=None, line_color_=None, fill_color_=None, fill_opacity_=None, dashing_=None, output_size=None), transform=Affine(1.0, 0.0, 2.0,\n",
       "       0.0, 1.0, 0.0)), ApplyTransform(transform=Affine(1.0, 0.0, 5.0,\n",
       "       0.0, 1.0, 0.0), diagram=Compose(envelope=<chalk.envelope.Envelope object at 0x7149b2de7f50>, diagrams=[ApplyTransform(transform=Affine(1.0, 0.0, -2.0,\n",
       "       0.0, 1.0, -0.0), diagram=Compose(envelope=<chalk.envelope.Envelope object at 0x7149b2dbbf50>, diagrams=[Primitive(shape=Path(loc_trails=[Located(trail=Trail(segments=[Segment(offset=Vec2(1.0, 0.0), origin=Vec2(0.0, 0.0)), Segment(offset=Vec2(0.0, 1.0), origin=Vec2(0.0, 0.0)), Segment(offset=Vec2(-1.0, 0.0), origin=Vec2(0.0, 0.0)), Segment(offset=Vec2(0.0, -1.0), origin=Vec2(0.0, 0.0))], closed=True), location=Vec2(0.0, 0.0))]), style=Style(line_width_=None, line_color_=None, fill_color_=None, fill_opacity_=None, dashing_=None, output_size=None), transform=Affine(1.0, 0.0, -0.5,\n",
       "       0.0, 1.0, -0.5)), ApplyTransform(transform=Affine(1.0, 0.0, 0.5,\n",
       "       0.0, 1.0, 0.0), diagram=ApplyTransform(transform=Affine(1.0, 0.0, 0.0,\n",
       "       -0.0, 1.0, 0.0), diagram=Empty())), ApplyTransform(transform=Affine(1.0, 0.0, 1.0,\n",
       "       0.0, 1.0, 0.0), diagram=Compose(envelope=<chalk.envelope.Envelope object at 0x7149b2dba790>, diagrams=[Primitive(shape=Path(loc_trails=[Located(trail=Trail(segments=[Segment(offset=Vec2(1.0, 0.0), origin=Vec2(0.0, 0.0)), Segment(offset=Vec2(0.0, 1.0), origin=Vec2(0.0, 0.0)), Segment(offset=Vec2(-1.0, 0.0), origin=Vec2(0.0, 0.0)), Segment(offset=Vec2(0.0, -1.0), origin=Vec2(0.0, 0.0))], closed=True), location=Vec2(0.0, 0.0))]), style=Style(line_width_=None, line_color_=None, fill_color_=<Color orange>, fill_opacity_=0.46, dashing_=None, output_size=None), transform=Affine(1.0, 0.0, -0.5,\n",
       "       0.0, 1.0, -0.5)), ApplyTransform(transform=Affine(1.0, 0.0, 0.5,\n",
       "       0.0, 1.0, 0.0), diagram=ApplyTransform(transform=Affine(1.0, 0.0, 0.0,\n",
       "       -0.0, 1.0, 0.0), diagram=Empty())), Primitive(shape=Path(loc_trails=[Located(trail=Trail(segments=[Segment(offset=Vec2(1.0, 0.0), origin=Vec2(0.0, 0.0)), Segment(offset=Vec2(0.0, 1.0), origin=Vec2(0.0, 0.0)), Segment(offset=Vec2(-1.0, 0.0), origin=Vec2(0.0, 0.0)), Segment(offset=Vec2(0.0, -1.0), origin=Vec2(0.0, 0.0))], closed=True), location=Vec2(0.0, 0.0))]), style=Style(line_width_=None, line_color_=None, fill_color_=<Color orange>, fill_opacity_=0.52, dashing_=None, output_size=None), transform=Affine(1.0, 0.0, 0.5,\n",
       "       0.0, 1.0, -0.5)), ApplyTransform(transform=Affine(1.0, 0.0, 1.5,\n",
       "       0.0, 1.0, 0.0), diagram=ApplyTransform(transform=Affine(1.0, 0.0, 0.0,\n",
       "       -0.0, 1.0, 0.0), diagram=Empty())), ApplyTransform(transform=Affine(1.0, 0.0, 2.0,\n",
       "       0.0, 1.0, 0.0), diagram=Compose(envelope=<chalk.envelope.Envelope object at 0x7149b2dba110>, diagrams=[Primitive(shape=Path(loc_trails=[Located(trail=Trail(segments=[Segment(offset=Vec2(1.0, 0.0), origin=Vec2(0.0, 0.0)), Segment(offset=Vec2(0.0, 1.0), origin=Vec2(0.0, 0.0)), Segment(offset=Vec2(-1.0, 0.0), origin=Vec2(0.0, 0.0)), Segment(offset=Vec2(0.0, -1.0), origin=Vec2(0.0, 0.0))], closed=True), location=Vec2(0.0, 0.0))]), style=Style(line_width_=None, line_color_=None, fill_color_=<Color orange>, fill_opacity_=0.5800000000000001, dashing_=None, output_size=None), transform=Affine(1.0, 0.0, -0.5,\n",
       "       0.0, 1.0, -0.5)), ApplyTransform(transform=Affine(1.0, 0.0, 0.5,\n",
       "       0.0, 1.0, 0.0), diagram=ApplyTransform(transform=Affine(1.0, 0.0, 0.0,\n",
       "       -0.0, 1.0, 0.0), diagram=Empty())), Primitive(shape=Path(loc_trails=[Located(trail=Trail(segments=[Segment(offset=Vec2(1.0, 0.0), origin=Vec2(0.0, 0.0)), Segment(offset=Vec2(0.0, 1.0), origin=Vec2(0.0, 0.0)), Segment(offset=Vec2(-1.0, 0.0), origin=Vec2(0.0, 0.0)), Segment(offset=Vec2(0.0, -1.0), origin=Vec2(0.0, 0.0))], closed=True), location=Vec2(0.0, 0.0))]), style=Style(line_width_=None, line_color_=None, fill_color_=<Color orange>, fill_opacity_=0.64, dashing_=None, output_size=None), transform=Affine(1.0, 0.0, 0.5,\n",
       "       0.0, 1.0, -0.5))]))])), ApplyTransform(transform=Affine(1.0, 0.0, 0.0,\n",
       "       0.0, 1.0, 0.5), diagram=ApplyTransform(transform=Affine(0.0, 1.0, 0.0,\n",
       "       -1.0, 0.0, 0.0), diagram=Empty())), ApplyTransform(transform=Affine(1.0, 0.0, 0.0,\n",
       "       0.0, 1.0, 0.5), diagram=Empty())])), Empty()])), Primitive(shape=Spacer(width=1.0, height=0), style=Style(line_width_=None, line_color_=None, fill_color_=None, fill_opacity_=None, dashing_=None, output_size=None), transform=Affine(1.0, 0.0, 8.0,\n",
       "       0.0, 1.0, 0.0)), ApplyTransform(transform=Affine(1.0, 0.0, 10.0,\n",
       "       0.0, 1.0, 0.0), diagram=Compose(envelope=<chalk.envelope.Envelope object at 0x7149b2de7ed0>, diagrams=[ApplyTransform(transform=Affine(1.0, 0.0, -1.0,\n",
       "       0.0, 1.0, -0.5), diagram=Compose(envelope=<chalk.envelope.Envelope object at 0x7149b2de6b50>, diagrams=[Primitive(shape=Path(loc_trails=[Located(trail=Trail(segments=[Segment(offset=Vec2(1.0, 0.0), origin=Vec2(0.0, 0.0)), Segment(offset=Vec2(0.0, 1.0), origin=Vec2(0.0, 0.0)), Segment(offset=Vec2(-1.0, 0.0), origin=Vec2(0.0, 0.0)), Segment(offset=Vec2(0.0, -1.0), origin=Vec2(0.0, 0.0))], closed=True), location=Vec2(0.0, 0.0))]), style=Style(line_width_=None, line_color_=None, fill_color_=None, fill_opacity_=None, dashing_=None, output_size=None), transform=Affine(1.0, 0.0, -0.5,\n",
       "       0.0, 1.0, -0.5)), ApplyTransform(transform=Affine(1.0, 0.0, 0.5,\n",
       "       0.0, 1.0, 0.0), diagram=ApplyTransform(transform=Affine(1.0, 0.0, 0.0,\n",
       "       -0.0, 1.0, 0.0), diagram=Empty())), ApplyTransform(transform=Affine(1.0, 0.0, 1.0,\n",
       "       0.0, 1.0, 0.0), diagram=Compose(envelope=<chalk.envelope.Envelope object at 0x7149b2de49d0>, diagrams=[Primitive(shape=Path(loc_trails=[Located(trail=Trail(segments=[Segment(offset=Vec2(1.0, 0.0), origin=Vec2(0.0, 0.0)), Segment(offset=Vec2(0.0, 1.0), origin=Vec2(0.0, 0.0)), Segment(offset=Vec2(-1.0, 0.0), origin=Vec2(0.0, 0.0)), Segment(offset=Vec2(0.0, -1.0), origin=Vec2(0.0, 0.0))], closed=True), location=Vec2(0.0, 0.0))]), style=Style(line_width_=None, line_color_=None, fill_color_=None, fill_opacity_=None, dashing_=None, output_size=None), transform=Affine(1.0, 0.0, -0.5,\n",
       "       0.0, 1.0, -0.5)), ApplyTransform(transform=Affine(1.0, 0.0, 0.5,\n",
       "       0.0, 1.0, 0.0), diagram=ApplyTransform(transform=Affine(1.0, 0.0, 0.0,\n",
       "       -0.0, 1.0, 0.0), diagram=Empty())), Primitive(shape=Path(loc_trails=[Located(trail=Trail(segments=[Segment(offset=Vec2(1.0, 0.0), origin=Vec2(0.0, 0.0)), Segment(offset=Vec2(0.0, 1.0), origin=Vec2(0.0, 0.0)), Segment(offset=Vec2(-1.0, 0.0), origin=Vec2(0.0, 0.0)), Segment(offset=Vec2(0.0, -1.0), origin=Vec2(0.0, 0.0))], closed=True), location=Vec2(0.0, 0.0))]), style=Style(line_width_=None, line_color_=None, fill_color_=None, fill_opacity_=None, dashing_=None, output_size=None), transform=Affine(1.0, 0.0, 0.5,\n",
       "       0.0, 1.0, -0.5))])), ApplyTransform(transform=Affine(1.0, 0.0, 0.0,\n",
       "       0.0, 1.0, 0.5), diagram=ApplyTransform(transform=Affine(0.0, 1.0, 0.0,\n",
       "       -1.0, 0.0, 0.0), diagram=Empty())), ApplyTransform(transform=Affine(1.0, 0.0, 0.0,\n",
       "       0.0, 1.0, 1.0), diagram=Compose(envelope=<chalk.envelope.Envelope object at 0x7149b2de6bd0>, diagrams=[Primitive(shape=Path(loc_trails=[Located(trail=Trail(segments=[Segment(offset=Vec2(1.0, 0.0), origin=Vec2(0.0, 0.0)), Segment(offset=Vec2(0.0, 1.0), origin=Vec2(0.0, 0.0)), Segment(offset=Vec2(-1.0, 0.0), origin=Vec2(0.0, 0.0)), Segment(offset=Vec2(0.0, -1.0), origin=Vec2(0.0, 0.0))], closed=True), location=Vec2(0.0, 0.0))]), style=Style(line_width_=None, line_color_=None, fill_color_=None, fill_opacity_=None, dashing_=None, output_size=None), transform=Affine(1.0, 0.0, -0.5,\n",
       "       0.0, 1.0, -0.5)), ApplyTransform(transform=Affine(1.0, 0.0, 0.5,\n",
       "       0.0, 1.0, 0.0), diagram=ApplyTransform(transform=Affine(1.0, 0.0, 0.0,\n",
       "       -0.0, 1.0, 0.0), diagram=Empty())), ApplyTransform(transform=Affine(1.0, 0.0, 1.0,\n",
       "       0.0, 1.0, 0.0), diagram=Compose(envelope=<chalk.envelope.Envelope object at 0x7149b2de6350>, diagrams=[Primitive(shape=Path(loc_trails=[Located(trail=Trail(segments=[Segment(offset=Vec2(1.0, 0.0), origin=Vec2(0.0, 0.0)), Segment(offset=Vec2(0.0, 1.0), origin=Vec2(0.0, 0.0)), Segment(offset=Vec2(-1.0, 0.0), origin=Vec2(0.0, 0.0)), Segment(offset=Vec2(0.0, -1.0), origin=Vec2(0.0, 0.0))], closed=True), location=Vec2(0.0, 0.0))]), style=Style(line_width_=None, line_color_=None, fill_color_=None, fill_opacity_=None, dashing_=None, output_size=None), transform=Affine(1.0, 0.0, -0.5,\n",
       "       0.0, 1.0, -0.5)), ApplyTransform(transform=Affine(1.0, 0.0, 0.5,\n",
       "       0.0, 1.0, 0.0), diagram=ApplyTransform(transform=Affine(1.0, 0.0, 0.0,\n",
       "       -0.0, 1.0, 0.0), diagram=Empty())), Primitive(shape=Path(loc_trails=[Located(trail=Trail(segments=[Segment(offset=Vec2(1.0, 0.0), origin=Vec2(0.0, 0.0)), Segment(offset=Vec2(0.0, 1.0), origin=Vec2(0.0, 0.0)), Segment(offset=Vec2(-1.0, 0.0), origin=Vec2(0.0, 0.0)), Segment(offset=Vec2(0.0, -1.0), origin=Vec2(0.0, 0.0))], closed=True), location=Vec2(0.0, 0.0))]), style=Style(line_width_=None, line_color_=None, fill_color_=None, fill_opacity_=None, dashing_=None, output_size=None), transform=Affine(1.0, 0.0, 0.5,\n",
       "       0.0, 1.0, -0.5))]))]))])), Empty()]))])), Primitive(shape=Spacer(width=1.0, height=0), style=Style(line_width_=None, line_color_=None, fill_color_=None, fill_opacity_=None, dashing_=None, output_size=None), transform=Affine(0.0, 1.0, 0.0,\n",
       "       -1.0, 0.0, 1.5)), ApplyTransform(transform=Affine(1.0, 0.0, 0.0,\n",
       "       0.0, 1.0, 2.0), diagram=Empty())]))), Empty()]))])"
      ]
     },
     "execution_count": 4,
     "metadata": {},
     "output_type": "execute_result"
    }
   ],
   "source": [
    "data = torch.tensor([ 1, 2, -9 ])\n",
    "draw(data, torch.arange(5), torch.zeros((2, 3)))"
   ]
  },
  {
   "cell_type": "markdown",
   "metadata": {
    "slideshow": {
     "slide_type": "subslide"
    }
   },
   "source": [
    "#### `torch.tensor` vs `torch.as_tensor`"
   ]
  },
  {
   "cell_type": "code",
   "execution_count": 5,
   "metadata": {
    "slideshow": {
     "slide_type": "fragment"
    }
   },
   "outputs": [
    {
     "data": {
      "text/plain": [
       "tensor([1, 2, 3])"
      ]
     },
     "execution_count": 5,
     "metadata": {},
     "output_type": "execute_result"
    }
   ],
   "source": [
    "data = torch.as_tensor([ 1, 2, 3 ])\n",
    "data"
   ]
  },
  {
   "cell_type": "code",
   "execution_count": 9,
   "metadata": {
    "slideshow": {
     "slide_type": "fragment"
    }
   },
   "outputs": [
    {
     "data": {
      "text/plain": [
       "array([[1., 0., 0.],\n",
       "       [0., 1., 0.],\n",
       "       [0., 0., 1.]])"
      ]
     },
     "execution_count": 9,
     "metadata": {},
     "output_type": "execute_result"
    }
   ],
   "source": [
    "np_data = numpy.eye(3)\n",
    "pt_data = torch.tensor(np_data)\n",
    "pt_data[2, 1] = -5\n",
    "np_data"
   ]
  },
  {
   "cell_type": "markdown",
   "metadata": {
    "slideshow": {
     "slide_type": "subslide"
    }
   },
   "source": [
    "#### Tensor Properties\n",
    "- Dimensions: `shape` / `size` (`shape` in numpy)"
   ]
  },
  {
   "cell_type": "code",
   "execution_count": 10,
   "metadata": {
    "slideshow": {
     "slide_type": "fragment"
    }
   },
   "outputs": [
    {
     "data": {
      "text/plain": [
       "torch.Size([3, 3])"
      ]
     },
     "execution_count": 10,
     "metadata": {},
     "output_type": "execute_result"
    }
   ],
   "source": [
    "pt_data.shape"
   ]
  },
  {
   "cell_type": "markdown",
   "metadata": {
    "slideshow": {
     "slide_type": "fragment"
    }
   },
   "source": [
    "- Element datatype: `dtype`"
   ]
  },
  {
   "cell_type": "code",
   "execution_count": 11,
   "metadata": {
    "slideshow": {
     "slide_type": "fragment"
    }
   },
   "outputs": [
    {
     "data": {
      "text/plain": [
       "torch.float64"
      ]
     },
     "execution_count": 11,
     "metadata": {},
     "output_type": "execute_result"
    }
   ],
   "source": [
    "pt_data.dtype"
   ]
  },
  {
   "cell_type": "markdown",
   "metadata": {
    "slideshow": {
     "slide_type": "fragment"
    }
   },
   "source": [
    "- Device: `device`\n",
    "  - one of `cpu`, `cuda:{#N}` (GPU), `mps` (Apple Metal), etc."
   ]
  },
  {
   "cell_type": "code",
   "execution_count": 12,
   "metadata": {
    "slideshow": {
     "slide_type": "fragment"
    }
   },
   "outputs": [
    {
     "data": {
      "text/plain": [
       "device(type='cpu')"
      ]
     },
     "execution_count": 12,
     "metadata": {},
     "output_type": "execute_result"
    }
   ],
   "source": [
    "pt_data.device"
   ]
  },
  {
   "cell_type": "markdown",
   "metadata": {
    "slideshow": {
     "slide_type": "slide"
    }
   },
   "source": [
    "### Broadcasting\n",
    "\n",
    "- Seemingly non-compatible tensors get *broadcasted* for compatible operations.\n"
   ]
  },
  {
   "cell_type": "code",
   "execution_count": 13,
   "metadata": {
    "scrolled": true,
    "slideshow": {
     "slide_type": "fragment"
    }
   },
   "outputs": [
    {
     "data": {
      "image/svg+xml": [
       "<?xml version=\"1.0\" encoding=\"utf-8\" ?>\n",
       "<svg baseProfile=\"full\" height=\"300\" version=\"1.1\" width=\"599\" xmlns=\"http://www.w3.org/2000/svg\" xmlns:ev=\"http://www.w3.org/2001/xml-events\" xmlns:xlink=\"http://www.w3.org/1999/xlink\"><defs><marker id=\"arrow\" markerHeight=\"3.5\" markerWidth=\"5\" orient=\"auto\" refX=\"5.0\" refY=\"1.7\"><polygon points=\"0,0 5,1.75 0,3.5\" /></marker></defs><g style=\"fill:white;\"><g transform=\"matrix(1.0, 0.0, 0.0, 1.0, 299.997500041666, 150.0)\"><g transform=\"matrix(39.68187831790105, 0.0, 0.0, 39.68187831790105, 0.0, 0.0)\"><g><g transform=\"matrix(1.0, 0.0, 0.0, 1.0, -0.0, -0.0)\"><g><g style=\"fill: #ffffff;stroke: black;stroke-width: 1.797;\" transform=\"matrix(1.0, 0.0, 0.0, 1.0, -7.20006, -3.60006)\"><path d=\"M 0.0 0.0 L 14.40012 0.0 L 14.40012 7.20012 L 0.0 7.20012 L 0.0 0.0 Z\" style=\"vector-effect: non-scaling-stroke;\" /></g><g transform=\"matrix(1.0, 0.0, 0.0, 1.0, -0.0, -3.00006)\"><g><g style=\"stroke: black;stroke-width: 1.797;\" transform=\"matrix(1.0, 0.0, 0.0, 1.0, 0.0, 0.0)\"><g /></g><g style=\"fill: #000000;stroke: black;stroke-width: 0.0;\" transform=\"matrix(1.0, 0.0, 0.0, 1.0, 0.0, 0.5)\"><text style=\"text-align:center; text-anchor:middle; dominant-baseline:middle;&#10;                      font-family:sans-serif; font-weight: bold;&#10;                      font-size:0.75px;&#10;                      vector-effect: non-scaling-stroke;\" transform=\"translate(-5e-05, 0)\" /></g><g style=\"stroke: black;stroke-width: 1.797;\" transform=\"matrix(1.0, 0.0, 0.0, 1.0, 0.0, 1.0001)\"><g /></g><g transform=\"matrix(1.0, 0.0, 0.0, 1.0, 0.0, 3.5000999999999998)\"><g transform=\"matrix(1.0, 0.0, 0.0, 1.0, -6.0, -0.5)\"><g><g transform=\"matrix(1.0, 0.0, 0.0, 1.0, -5e-05, -0.25005)\"><g><g style=\"stroke: black;stroke-width: 1.797;\" transform=\"matrix(1.0, 0.0, 0.0, 1.0, 0.0, 0.0)\"><g /></g><g style=\"fill: #000000;stroke: black;stroke-width: 0.0;\" transform=\"matrix(1.0, 0.0, 0.0, 1.0, 0.0, 0.25)\"><text style=\"text-align:center; text-anchor:middle; dominant-baseline:middle;&#10;                      font-family:sans-serif; font-weight: bold;&#10;                      font-size:0.5px;&#10;                      vector-effect: non-scaling-stroke;\" transform=\"translate(-5e-05, 0)\" /></g><g style=\"stroke: black;stroke-width: 1.797;\" transform=\"matrix(1.0, 0.0, 0.0, 1.0, 0.0, 0.5001)\"><g /></g></g></g><g /><g style=\"stroke: black;stroke-width: 1.797;\" transform=\"matrix(1.0, 0.0, 0.0, 1.0, 0.50005, 0.0)\"><g /></g><g transform=\"matrix(1.0, 0.0, 0.0, 1.0, 3.00005, 0.0)\"><g><g transform=\"matrix(1.0, 0.0, 0.0, 1.0, -1.5, -0.0)\"><g><g style=\"stroke: black;stroke-width: 1.797;\" transform=\"matrix(1.0, 0.0, 0.0, 1.0, -0.5, -0.5)\"><path d=\"M 0.0 0.0 L 1.0 0.0 L 1.0 1.0 L 0.0 1.0 L 0.0 0.0 Z\" style=\"vector-effect: non-scaling-stroke;\" /></g><g transform=\"matrix(1.0, 0.0, 0.0, 1.0, 0.5, 0.0)\"><g transform=\"matrix(1.0, -0.0, 0.0, 1.0, 0.0, 0.0)\"><g /></g></g><g transform=\"matrix(1.0, 0.0, 0.0, 1.0, 1.0, 0.0)\"><g><g style=\"fill: #0000ff;stroke: black;stroke-width: 1.797;fill-opacity: 0.46;\" transform=\"matrix(1.0, 0.0, 0.0, 1.0, -0.5, -0.5)\"><path d=\"M 0.0 0.0 L 1.0 0.0 L 1.0 1.0 L 0.0 1.0 L 0.0 0.0 Z\" style=\"vector-effect: non-scaling-stroke;\" /></g><g transform=\"matrix(1.0, 0.0, 0.0, 1.0, 0.5, 0.0)\"><g transform=\"matrix(1.0, -0.0, 0.0, 1.0, 0.0, 0.0)\"><g /></g></g><g style=\"fill: #0000ff;stroke: black;stroke-width: 1.797;fill-opacity: 0.52;\" transform=\"matrix(1.0, 0.0, 0.0, 1.0, 0.5, -0.5)\"><path d=\"M 0.0 0.0 L 1.0 0.0 L 1.0 1.0 L 0.0 1.0 L 0.0 0.0 Z\" style=\"vector-effect: non-scaling-stroke;\" /></g><g transform=\"matrix(1.0, 0.0, 0.0, 1.0, 1.5, 0.0)\"><g transform=\"matrix(1.0, -0.0, 0.0, 1.0, 0.0, 0.0)\"><g /></g></g><g style=\"fill: #0000ff;stroke: black;stroke-width: 1.797;fill-opacity: 0.5800000000000001;\" transform=\"matrix(1.0, 0.0, 0.0, 1.0, 1.5, -0.5)\"><path d=\"M 0.0 0.0 L 1.0 0.0 L 1.0 1.0 L 0.0 1.0 L 0.0 0.0 Z\" style=\"vector-effect: non-scaling-stroke;\" /></g></g></g><g transform=\"matrix(1.0, 0.0, 0.0, 1.0, 0.0, 0.5)\"><g transform=\"matrix(0.0, -1.0, 1.0, 0.0, 0.0, 0.0)\"><g /></g></g><g transform=\"matrix(1.0, 0.0, 0.0, 1.0, 0.0, 0.5)\"><g /></g></g></g><g /><g style=\"stroke: black;stroke-width: 1.797;\" transform=\"matrix(1.0, 0.0, 0.0, 1.0, 2.5, 0.0)\"><g /></g><g transform=\"matrix(1.0, 0.0, 0.0, 1.0, 3.5, 0.0)\"><g><g transform=\"matrix(1.0, 0.0, 0.0, 1.0, -0.0, -1.0)\"><g><g style=\"stroke: black;stroke-width: 1.797;\" transform=\"matrix(1.0, 0.0, 0.0, 1.0, -0.5, -0.5)\"><path d=\"M 0.0 0.0 L 1.0 0.0 L 1.0 1.0 L 0.0 1.0 L 0.0 0.0 Z\" style=\"vector-effect: non-scaling-stroke;\" /></g><g transform=\"matrix(1.0, 0.0, 0.0, 1.0, 0.5, 0.0)\"><g transform=\"matrix(1.0, -0.0, 0.0, 1.0, 0.0, 0.0)\"><g /></g></g><g transform=\"matrix(1.0, 0.0, 0.0, 1.0, 0.5, 0.0)\"><g /></g><g transform=\"matrix(1.0, 0.0, 0.0, 1.0, 0.0, 0.5)\"><g transform=\"matrix(0.0, -1.0, 1.0, 0.0, 0.0, 0.0)\"><g /></g></g><g transform=\"matrix(1.0, 0.0, 0.0, 1.0, 0.0, 1.0)\"><g><g style=\"fill: #ffa500;stroke: black;stroke-width: 1.797;fill-opacity: 0.46;\" transform=\"matrix(1.0, 0.0, 0.0, 1.0, -0.5, -0.5)\"><path d=\"M 0.0 0.0 L 1.0 0.0 L 1.0 1.0 L 0.0 1.0 L 0.0 0.0 Z\" style=\"vector-effect: non-scaling-stroke;\" /></g><g transform=\"matrix(1.0, 0.0, 0.0, 1.0, 0.5, 0.0)\"><g transform=\"matrix(1.0, -0.0, 0.0, 1.0, 0.0, 0.0)\"><g /></g></g><g transform=\"matrix(1.0, 0.0, 0.0, 1.0, 0.5, 0.0)\"><g /></g><g transform=\"matrix(1.0, 0.0, 0.0, 1.0, 0.0, 0.5)\"><g transform=\"matrix(0.0, -1.0, 1.0, 0.0, 0.0, 0.0)\"><g /></g></g><g transform=\"matrix(1.0, 0.0, 0.0, 1.0, 0.0, 1.0)\"><g><g style=\"fill: #ffa500;stroke: black;stroke-width: 1.797;fill-opacity: 0.52;\" transform=\"matrix(1.0, 0.0, 0.0, 1.0, -0.5, -0.5)\"><path d=\"M 0.0 0.0 L 1.0 0.0 L 1.0 1.0 L 0.0 1.0 L 0.0 0.0 Z\" style=\"vector-effect: non-scaling-stroke;\" /></g><g transform=\"matrix(1.0, 0.0, 0.0, 1.0, 0.5, 0.0)\"><g transform=\"matrix(1.0, -0.0, 0.0, 1.0, 0.0, 0.0)\"><g /></g></g><g transform=\"matrix(1.0, 0.0, 0.0, 1.0, 0.5, 0.0)\"><g /></g></g></g></g></g></g></g><g /></g></g><g style=\"stroke: black;stroke-width: 1.797;\" transform=\"matrix(1.0, 0.0, 0.0, 1.0, 4.5, 0.0)\"><g /></g><g transform=\"matrix(1.0, 0.0, 0.0, 1.0, 7.0, 0.0)\"><g><g transform=\"matrix(1.0, 0.0, 0.0, 1.0, -1.5, -1.0)\"><g><g style=\"stroke: black;stroke-width: 1.797;\" transform=\"matrix(1.0, 0.0, 0.0, 1.0, -0.5, -0.5)\"><path d=\"M 0.0 0.0 L 1.0 0.0 L 1.0 1.0 L 0.0 1.0 L 0.0 0.0 Z\" style=\"vector-effect: non-scaling-stroke;\" /></g><g transform=\"matrix(1.0, 0.0, 0.0, 1.0, 0.5, 0.0)\"><g transform=\"matrix(1.0, -0.0, 0.0, 1.0, 0.0, 0.0)\"><g /></g></g><g transform=\"matrix(1.0, 0.0, 0.0, 1.0, 1.0, 0.0)\"><g><g style=\"fill: #0000ff;stroke: black;stroke-width: 1.797;fill-opacity: 0.46;\" transform=\"matrix(1.0, 0.0, 0.0, 1.0, -0.5, -0.5)\"><path d=\"M 0.0 0.0 L 1.0 0.0 L 1.0 1.0 L 0.0 1.0 L 0.0 0.0 Z\" style=\"vector-effect: non-scaling-stroke;\" /></g><g transform=\"matrix(1.0, 0.0, 0.0, 1.0, 0.5, 0.0)\"><g transform=\"matrix(1.0, -0.0, 0.0, 1.0, 0.0, 0.0)\"><g /></g></g><g style=\"fill: #0000ff;stroke: black;stroke-width: 1.797;fill-opacity: 0.52;\" transform=\"matrix(1.0, 0.0, 0.0, 1.0, 0.5, -0.5)\"><path d=\"M 0.0 0.0 L 1.0 0.0 L 1.0 1.0 L 0.0 1.0 L 0.0 0.0 Z\" style=\"vector-effect: non-scaling-stroke;\" /></g><g transform=\"matrix(1.0, 0.0, 0.0, 1.0, 1.5, 0.0)\"><g transform=\"matrix(1.0, -0.0, 0.0, 1.0, 0.0, 0.0)\"><g /></g></g><g style=\"fill: #0000ff;stroke: black;stroke-width: 1.797;fill-opacity: 0.5800000000000001;\" transform=\"matrix(1.0, 0.0, 0.0, 1.0, 1.5, -0.5)\"><path d=\"M 0.0 0.0 L 1.0 0.0 L 1.0 1.0 L 0.0 1.0 L 0.0 0.0 Z\" style=\"vector-effect: non-scaling-stroke;\" /></g></g></g><g transform=\"matrix(1.0, 0.0, 0.0, 1.0, 0.0, 0.5)\"><g transform=\"matrix(0.0, -1.0, 1.0, 0.0, 0.0, 0.0)\"><g /></g></g><g transform=\"matrix(1.0, 0.0, 0.0, 1.0, 0.0, 1.0)\"><g><g style=\"fill: #ffa500;stroke: black;stroke-width: 1.797;fill-opacity: 0.46;\" transform=\"matrix(1.0, 0.0, 0.0, 1.0, -0.5, -0.5)\"><path d=\"M 0.0 0.0 L 1.0 0.0 L 1.0 1.0 L 0.0 1.0 L 0.0 0.0 Z\" style=\"vector-effect: non-scaling-stroke;\" /></g><g transform=\"matrix(1.0, 0.0, 0.0, 1.0, 0.5, 0.0)\"><g transform=\"matrix(1.0, -0.0, 0.0, 1.0, 0.0, 0.0)\"><g /></g></g><g transform=\"matrix(1.0, 0.0, 0.0, 1.0, 1.0, 0.0)\"><g><g style=\"stroke: black;stroke-width: 1.797;\" transform=\"matrix(1.0, 0.0, 0.0, 1.0, -0.5, -0.5)\"><path d=\"M 0.0 0.0 L 1.0 0.0 L 1.0 1.0 L 0.0 1.0 L 0.0 0.0 Z\" style=\"vector-effect: non-scaling-stroke;\" /></g><g transform=\"matrix(1.0, 0.0, 0.0, 1.0, 0.5, 0.0)\"><g transform=\"matrix(1.0, -0.0, 0.0, 1.0, 0.0, 0.0)\"><g /></g></g><g style=\"fill: #0000ff;stroke: black;stroke-width: 1.797;fill-opacity: 0.46;\" transform=\"matrix(1.0, 0.0, 0.0, 1.0, 0.5, -0.5)\"><path d=\"M 0.0 0.0 L 1.0 0.0 L 1.0 1.0 L 0.0 1.0 L 0.0 0.0 Z\" style=\"vector-effect: non-scaling-stroke;\" /></g><g transform=\"matrix(1.0, 0.0, 0.0, 1.0, 1.5, 0.0)\"><g transform=\"matrix(1.0, -0.0, 0.0, 1.0, 0.0, 0.0)\"><g /></g></g><g style=\"fill: #0000ff;stroke: black;stroke-width: 1.797;fill-opacity: 0.52;\" transform=\"matrix(1.0, 0.0, 0.0, 1.0, 1.5, -0.5)\"><path d=\"M 0.0 0.0 L 1.0 0.0 L 1.0 1.0 L 0.0 1.0 L 0.0 0.0 Z\" style=\"vector-effect: non-scaling-stroke;\" /></g></g></g><g transform=\"matrix(1.0, 0.0, 0.0, 1.0, 0.0, 0.5)\"><g transform=\"matrix(0.0, -1.0, 1.0, 0.0, 0.0, 0.0)\"><g /></g></g><g transform=\"matrix(1.0, 0.0, 0.0, 1.0, 0.0, 1.0)\"><g><g style=\"fill: #ffa500;stroke: black;stroke-width: 1.797;fill-opacity: 0.52;\" transform=\"matrix(1.0, 0.0, 0.0, 1.0, -0.5, -0.5)\"><path d=\"M 0.0 0.0 L 1.0 0.0 L 1.0 1.0 L 0.0 1.0 L 0.0 0.0 Z\" style=\"vector-effect: non-scaling-stroke;\" /></g><g transform=\"matrix(1.0, 0.0, 0.0, 1.0, 0.5, 0.0)\"><g transform=\"matrix(1.0, -0.0, 0.0, 1.0, 0.0, 0.0)\"><g /></g></g><g transform=\"matrix(1.0, 0.0, 0.0, 1.0, 1.0, 0.0)\"><g><g style=\"fill: #ffa500;stroke: black;stroke-width: 1.797;fill-opacity: 0.46;\" transform=\"matrix(1.0, 0.0, 0.0, 1.0, -0.5, -0.5)\"><path d=\"M 0.0 0.0 L 1.0 0.0 L 1.0 1.0 L 0.0 1.0 L 0.0 0.0 Z\" style=\"vector-effect: non-scaling-stroke;\" /></g><g transform=\"matrix(1.0, 0.0, 0.0, 1.0, 0.5, 0.0)\"><g transform=\"matrix(1.0, -0.0, 0.0, 1.0, 0.0, 0.0)\"><g /></g></g><g style=\"stroke: black;stroke-width: 1.797;\" transform=\"matrix(1.0, 0.0, 0.0, 1.0, 0.5, -0.5)\"><path d=\"M 0.0 0.0 L 1.0 0.0 L 1.0 1.0 L 0.0 1.0 L 0.0 0.0 Z\" style=\"vector-effect: non-scaling-stroke;\" /></g><g transform=\"matrix(1.0, 0.0, 0.0, 1.0, 1.5, 0.0)\"><g transform=\"matrix(1.0, -0.0, 0.0, 1.0, 0.0, 0.0)\"><g /></g></g><g style=\"fill: #0000ff;stroke: black;stroke-width: 1.797;fill-opacity: 0.46;\" transform=\"matrix(1.0, 0.0, 0.0, 1.0, 1.5, -0.5)\"><path d=\"M 0.0 0.0 L 1.0 0.0 L 1.0 1.0 L 0.0 1.0 L 0.0 0.0 Z\" style=\"vector-effect: non-scaling-stroke;\" /></g></g></g></g></g></g></g></g></g><g /></g></g></g></g><g style=\"stroke: black;stroke-width: 1.797;\" transform=\"matrix(0.0, -1.0, 1.0, 0.0, 0.0, 2.0)\"><g /></g><g transform=\"matrix(1.0, 0.0, 0.0, 1.0, 0.0, 2.5)\"><g /></g></g></g></g><g /></g></g></g></g><g /></g></g></g></g></svg>"
      ],
      "text/html": [
       "<?xml version=\"1.0\" encoding=\"utf-8\" ?>\n",
       "<svg baseProfile=\"full\" height=\"300\" version=\"1.1\" width=\"599\" xmlns=\"http://www.w3.org/2000/svg\" xmlns:ev=\"http://www.w3.org/2001/xml-events\" xmlns:xlink=\"http://www.w3.org/1999/xlink\"><defs><marker id=\"arrow\" markerHeight=\"3.5\" markerWidth=\"5\" orient=\"auto\" refX=\"5.0\" refY=\"1.7\"><polygon points=\"0,0 5,1.75 0,3.5\" /></marker></defs><g style=\"fill:white;\"><g transform=\"matrix(1.0, 0.0, 0.0, 1.0, 299.997500041666, 150.0)\"><g transform=\"matrix(39.68187831790105, 0.0, 0.0, 39.68187831790105, 0.0, 0.0)\"><g><g transform=\"matrix(1.0, 0.0, 0.0, 1.0, -0.0, -0.0)\"><g><g style=\"fill: #ffffff;stroke: black;stroke-width: 1.797;\" transform=\"matrix(1.0, 0.0, 0.0, 1.0, -7.20006, -3.60006)\"><path d=\"M 0.0 0.0 L 14.40012 0.0 L 14.40012 7.20012 L 0.0 7.20012 L 0.0 0.0 Z\" style=\"vector-effect: non-scaling-stroke;\" /></g><g transform=\"matrix(1.0, 0.0, 0.0, 1.0, -0.0, -3.00006)\"><g><g style=\"stroke: black;stroke-width: 1.797;\" transform=\"matrix(1.0, 0.0, 0.0, 1.0, 0.0, 0.0)\"><g /></g><g style=\"fill: #000000;stroke: black;stroke-width: 0.0;\" transform=\"matrix(1.0, 0.0, 0.0, 1.0, 0.0, 0.5)\"><text style=\"text-align:center; text-anchor:middle; dominant-baseline:middle;&#10;                      font-family:sans-serif; font-weight: bold;&#10;                      font-size:0.75px;&#10;                      vector-effect: non-scaling-stroke;\" transform=\"translate(-5e-05, 0)\" /></g><g style=\"stroke: black;stroke-width: 1.797;\" transform=\"matrix(1.0, 0.0, 0.0, 1.0, 0.0, 1.0001)\"><g /></g><g transform=\"matrix(1.0, 0.0, 0.0, 1.0, 0.0, 3.5000999999999998)\"><g transform=\"matrix(1.0, 0.0, 0.0, 1.0, -6.0, -0.5)\"><g><g transform=\"matrix(1.0, 0.0, 0.0, 1.0, -5e-05, -0.25005)\"><g><g style=\"stroke: black;stroke-width: 1.797;\" transform=\"matrix(1.0, 0.0, 0.0, 1.0, 0.0, 0.0)\"><g /></g><g style=\"fill: #000000;stroke: black;stroke-width: 0.0;\" transform=\"matrix(1.0, 0.0, 0.0, 1.0, 0.0, 0.25)\"><text style=\"text-align:center; text-anchor:middle; dominant-baseline:middle;&#10;                      font-family:sans-serif; font-weight: bold;&#10;                      font-size:0.5px;&#10;                      vector-effect: non-scaling-stroke;\" transform=\"translate(-5e-05, 0)\" /></g><g style=\"stroke: black;stroke-width: 1.797;\" transform=\"matrix(1.0, 0.0, 0.0, 1.0, 0.0, 0.5001)\"><g /></g></g></g><g /><g style=\"stroke: black;stroke-width: 1.797;\" transform=\"matrix(1.0, 0.0, 0.0, 1.0, 0.50005, 0.0)\"><g /></g><g transform=\"matrix(1.0, 0.0, 0.0, 1.0, 3.00005, 0.0)\"><g><g transform=\"matrix(1.0, 0.0, 0.0, 1.0, -1.5, -0.0)\"><g><g style=\"stroke: black;stroke-width: 1.797;\" transform=\"matrix(1.0, 0.0, 0.0, 1.0, -0.5, -0.5)\"><path d=\"M 0.0 0.0 L 1.0 0.0 L 1.0 1.0 L 0.0 1.0 L 0.0 0.0 Z\" style=\"vector-effect: non-scaling-stroke;\" /></g><g transform=\"matrix(1.0, 0.0, 0.0, 1.0, 0.5, 0.0)\"><g transform=\"matrix(1.0, -0.0, 0.0, 1.0, 0.0, 0.0)\"><g /></g></g><g transform=\"matrix(1.0, 0.0, 0.0, 1.0, 1.0, 0.0)\"><g><g style=\"fill: #0000ff;stroke: black;stroke-width: 1.797;fill-opacity: 0.46;\" transform=\"matrix(1.0, 0.0, 0.0, 1.0, -0.5, -0.5)\"><path d=\"M 0.0 0.0 L 1.0 0.0 L 1.0 1.0 L 0.0 1.0 L 0.0 0.0 Z\" style=\"vector-effect: non-scaling-stroke;\" /></g><g transform=\"matrix(1.0, 0.0, 0.0, 1.0, 0.5, 0.0)\"><g transform=\"matrix(1.0, -0.0, 0.0, 1.0, 0.0, 0.0)\"><g /></g></g><g style=\"fill: #0000ff;stroke: black;stroke-width: 1.797;fill-opacity: 0.52;\" transform=\"matrix(1.0, 0.0, 0.0, 1.0, 0.5, -0.5)\"><path d=\"M 0.0 0.0 L 1.0 0.0 L 1.0 1.0 L 0.0 1.0 L 0.0 0.0 Z\" style=\"vector-effect: non-scaling-stroke;\" /></g><g transform=\"matrix(1.0, 0.0, 0.0, 1.0, 1.5, 0.0)\"><g transform=\"matrix(1.0, -0.0, 0.0, 1.0, 0.0, 0.0)\"><g /></g></g><g style=\"fill: #0000ff;stroke: black;stroke-width: 1.797;fill-opacity: 0.5800000000000001;\" transform=\"matrix(1.0, 0.0, 0.0, 1.0, 1.5, -0.5)\"><path d=\"M 0.0 0.0 L 1.0 0.0 L 1.0 1.0 L 0.0 1.0 L 0.0 0.0 Z\" style=\"vector-effect: non-scaling-stroke;\" /></g></g></g><g transform=\"matrix(1.0, 0.0, 0.0, 1.0, 0.0, 0.5)\"><g transform=\"matrix(0.0, -1.0, 1.0, 0.0, 0.0, 0.0)\"><g /></g></g><g transform=\"matrix(1.0, 0.0, 0.0, 1.0, 0.0, 0.5)\"><g /></g></g></g><g /><g style=\"stroke: black;stroke-width: 1.797;\" transform=\"matrix(1.0, 0.0, 0.0, 1.0, 2.5, 0.0)\"><g /></g><g transform=\"matrix(1.0, 0.0, 0.0, 1.0, 3.5, 0.0)\"><g><g transform=\"matrix(1.0, 0.0, 0.0, 1.0, -0.0, -1.0)\"><g><g style=\"stroke: black;stroke-width: 1.797;\" transform=\"matrix(1.0, 0.0, 0.0, 1.0, -0.5, -0.5)\"><path d=\"M 0.0 0.0 L 1.0 0.0 L 1.0 1.0 L 0.0 1.0 L 0.0 0.0 Z\" style=\"vector-effect: non-scaling-stroke;\" /></g><g transform=\"matrix(1.0, 0.0, 0.0, 1.0, 0.5, 0.0)\"><g transform=\"matrix(1.0, -0.0, 0.0, 1.0, 0.0, 0.0)\"><g /></g></g><g transform=\"matrix(1.0, 0.0, 0.0, 1.0, 0.5, 0.0)\"><g /></g><g transform=\"matrix(1.0, 0.0, 0.0, 1.0, 0.0, 0.5)\"><g transform=\"matrix(0.0, -1.0, 1.0, 0.0, 0.0, 0.0)\"><g /></g></g><g transform=\"matrix(1.0, 0.0, 0.0, 1.0, 0.0, 1.0)\"><g><g style=\"fill: #ffa500;stroke: black;stroke-width: 1.797;fill-opacity: 0.46;\" transform=\"matrix(1.0, 0.0, 0.0, 1.0, -0.5, -0.5)\"><path d=\"M 0.0 0.0 L 1.0 0.0 L 1.0 1.0 L 0.0 1.0 L 0.0 0.0 Z\" style=\"vector-effect: non-scaling-stroke;\" /></g><g transform=\"matrix(1.0, 0.0, 0.0, 1.0, 0.5, 0.0)\"><g transform=\"matrix(1.0, -0.0, 0.0, 1.0, 0.0, 0.0)\"><g /></g></g><g transform=\"matrix(1.0, 0.0, 0.0, 1.0, 0.5, 0.0)\"><g /></g><g transform=\"matrix(1.0, 0.0, 0.0, 1.0, 0.0, 0.5)\"><g transform=\"matrix(0.0, -1.0, 1.0, 0.0, 0.0, 0.0)\"><g /></g></g><g transform=\"matrix(1.0, 0.0, 0.0, 1.0, 0.0, 1.0)\"><g><g style=\"fill: #ffa500;stroke: black;stroke-width: 1.797;fill-opacity: 0.52;\" transform=\"matrix(1.0, 0.0, 0.0, 1.0, -0.5, -0.5)\"><path d=\"M 0.0 0.0 L 1.0 0.0 L 1.0 1.0 L 0.0 1.0 L 0.0 0.0 Z\" style=\"vector-effect: non-scaling-stroke;\" /></g><g transform=\"matrix(1.0, 0.0, 0.0, 1.0, 0.5, 0.0)\"><g transform=\"matrix(1.0, -0.0, 0.0, 1.0, 0.0, 0.0)\"><g /></g></g><g transform=\"matrix(1.0, 0.0, 0.0, 1.0, 0.5, 0.0)\"><g /></g></g></g></g></g></g></g><g /></g></g><g style=\"stroke: black;stroke-width: 1.797;\" transform=\"matrix(1.0, 0.0, 0.0, 1.0, 4.5, 0.0)\"><g /></g><g transform=\"matrix(1.0, 0.0, 0.0, 1.0, 7.0, 0.0)\"><g><g transform=\"matrix(1.0, 0.0, 0.0, 1.0, -1.5, -1.0)\"><g><g style=\"stroke: black;stroke-width: 1.797;\" transform=\"matrix(1.0, 0.0, 0.0, 1.0, -0.5, -0.5)\"><path d=\"M 0.0 0.0 L 1.0 0.0 L 1.0 1.0 L 0.0 1.0 L 0.0 0.0 Z\" style=\"vector-effect: non-scaling-stroke;\" /></g><g transform=\"matrix(1.0, 0.0, 0.0, 1.0, 0.5, 0.0)\"><g transform=\"matrix(1.0, -0.0, 0.0, 1.0, 0.0, 0.0)\"><g /></g></g><g transform=\"matrix(1.0, 0.0, 0.0, 1.0, 1.0, 0.0)\"><g><g style=\"fill: #0000ff;stroke: black;stroke-width: 1.797;fill-opacity: 0.46;\" transform=\"matrix(1.0, 0.0, 0.0, 1.0, -0.5, -0.5)\"><path d=\"M 0.0 0.0 L 1.0 0.0 L 1.0 1.0 L 0.0 1.0 L 0.0 0.0 Z\" style=\"vector-effect: non-scaling-stroke;\" /></g><g transform=\"matrix(1.0, 0.0, 0.0, 1.0, 0.5, 0.0)\"><g transform=\"matrix(1.0, -0.0, 0.0, 1.0, 0.0, 0.0)\"><g /></g></g><g style=\"fill: #0000ff;stroke: black;stroke-width: 1.797;fill-opacity: 0.52;\" transform=\"matrix(1.0, 0.0, 0.0, 1.0, 0.5, -0.5)\"><path d=\"M 0.0 0.0 L 1.0 0.0 L 1.0 1.0 L 0.0 1.0 L 0.0 0.0 Z\" style=\"vector-effect: non-scaling-stroke;\" /></g><g transform=\"matrix(1.0, 0.0, 0.0, 1.0, 1.5, 0.0)\"><g transform=\"matrix(1.0, -0.0, 0.0, 1.0, 0.0, 0.0)\"><g /></g></g><g style=\"fill: #0000ff;stroke: black;stroke-width: 1.797;fill-opacity: 0.5800000000000001;\" transform=\"matrix(1.0, 0.0, 0.0, 1.0, 1.5, -0.5)\"><path d=\"M 0.0 0.0 L 1.0 0.0 L 1.0 1.0 L 0.0 1.0 L 0.0 0.0 Z\" style=\"vector-effect: non-scaling-stroke;\" /></g></g></g><g transform=\"matrix(1.0, 0.0, 0.0, 1.0, 0.0, 0.5)\"><g transform=\"matrix(0.0, -1.0, 1.0, 0.0, 0.0, 0.0)\"><g /></g></g><g transform=\"matrix(1.0, 0.0, 0.0, 1.0, 0.0, 1.0)\"><g><g style=\"fill: #ffa500;stroke: black;stroke-width: 1.797;fill-opacity: 0.46;\" transform=\"matrix(1.0, 0.0, 0.0, 1.0, -0.5, -0.5)\"><path d=\"M 0.0 0.0 L 1.0 0.0 L 1.0 1.0 L 0.0 1.0 L 0.0 0.0 Z\" style=\"vector-effect: non-scaling-stroke;\" /></g><g transform=\"matrix(1.0, 0.0, 0.0, 1.0, 0.5, 0.0)\"><g transform=\"matrix(1.0, -0.0, 0.0, 1.0, 0.0, 0.0)\"><g /></g></g><g transform=\"matrix(1.0, 0.0, 0.0, 1.0, 1.0, 0.0)\"><g><g style=\"stroke: black;stroke-width: 1.797;\" transform=\"matrix(1.0, 0.0, 0.0, 1.0, -0.5, -0.5)\"><path d=\"M 0.0 0.0 L 1.0 0.0 L 1.0 1.0 L 0.0 1.0 L 0.0 0.0 Z\" style=\"vector-effect: non-scaling-stroke;\" /></g><g transform=\"matrix(1.0, 0.0, 0.0, 1.0, 0.5, 0.0)\"><g transform=\"matrix(1.0, -0.0, 0.0, 1.0, 0.0, 0.0)\"><g /></g></g><g style=\"fill: #0000ff;stroke: black;stroke-width: 1.797;fill-opacity: 0.46;\" transform=\"matrix(1.0, 0.0, 0.0, 1.0, 0.5, -0.5)\"><path d=\"M 0.0 0.0 L 1.0 0.0 L 1.0 1.0 L 0.0 1.0 L 0.0 0.0 Z\" style=\"vector-effect: non-scaling-stroke;\" /></g><g transform=\"matrix(1.0, 0.0, 0.0, 1.0, 1.5, 0.0)\"><g transform=\"matrix(1.0, -0.0, 0.0, 1.0, 0.0, 0.0)\"><g /></g></g><g style=\"fill: #0000ff;stroke: black;stroke-width: 1.797;fill-opacity: 0.52;\" transform=\"matrix(1.0, 0.0, 0.0, 1.0, 1.5, -0.5)\"><path d=\"M 0.0 0.0 L 1.0 0.0 L 1.0 1.0 L 0.0 1.0 L 0.0 0.0 Z\" style=\"vector-effect: non-scaling-stroke;\" /></g></g></g><g transform=\"matrix(1.0, 0.0, 0.0, 1.0, 0.0, 0.5)\"><g transform=\"matrix(0.0, -1.0, 1.0, 0.0, 0.0, 0.0)\"><g /></g></g><g transform=\"matrix(1.0, 0.0, 0.0, 1.0, 0.0, 1.0)\"><g><g style=\"fill: #ffa500;stroke: black;stroke-width: 1.797;fill-opacity: 0.52;\" transform=\"matrix(1.0, 0.0, 0.0, 1.0, -0.5, -0.5)\"><path d=\"M 0.0 0.0 L 1.0 0.0 L 1.0 1.0 L 0.0 1.0 L 0.0 0.0 Z\" style=\"vector-effect: non-scaling-stroke;\" /></g><g transform=\"matrix(1.0, 0.0, 0.0, 1.0, 0.5, 0.0)\"><g transform=\"matrix(1.0, -0.0, 0.0, 1.0, 0.0, 0.0)\"><g /></g></g><g transform=\"matrix(1.0, 0.0, 0.0, 1.0, 1.0, 0.0)\"><g><g style=\"fill: #ffa500;stroke: black;stroke-width: 1.797;fill-opacity: 0.46;\" transform=\"matrix(1.0, 0.0, 0.0, 1.0, -0.5, -0.5)\"><path d=\"M 0.0 0.0 L 1.0 0.0 L 1.0 1.0 L 0.0 1.0 L 0.0 0.0 Z\" style=\"vector-effect: non-scaling-stroke;\" /></g><g transform=\"matrix(1.0, 0.0, 0.0, 1.0, 0.5, 0.0)\"><g transform=\"matrix(1.0, -0.0, 0.0, 1.0, 0.0, 0.0)\"><g /></g></g><g style=\"stroke: black;stroke-width: 1.797;\" transform=\"matrix(1.0, 0.0, 0.0, 1.0, 0.5, -0.5)\"><path d=\"M 0.0 0.0 L 1.0 0.0 L 1.0 1.0 L 0.0 1.0 L 0.0 0.0 Z\" style=\"vector-effect: non-scaling-stroke;\" /></g><g transform=\"matrix(1.0, 0.0, 0.0, 1.0, 1.5, 0.0)\"><g transform=\"matrix(1.0, -0.0, 0.0, 1.0, 0.0, 0.0)\"><g /></g></g><g style=\"fill: #0000ff;stroke: black;stroke-width: 1.797;fill-opacity: 0.46;\" transform=\"matrix(1.0, 0.0, 0.0, 1.0, 1.5, -0.5)\"><path d=\"M 0.0 0.0 L 1.0 0.0 L 1.0 1.0 L 0.0 1.0 L 0.0 0.0 Z\" style=\"vector-effect: non-scaling-stroke;\" /></g></g></g></g></g></g></g></g></g><g /></g></g></g></g><g style=\"stroke: black;stroke-width: 1.797;\" transform=\"matrix(0.0, -1.0, 1.0, 0.0, 0.0, 2.0)\"><g /></g><g transform=\"matrix(1.0, 0.0, 0.0, 1.0, 0.0, 2.5)\"><g /></g></g></g></g><g /></g></g></g></g><g /></g></g></g></g></svg>"
      ],
      "text/plain": [
       "Compose(envelope=<chalk.envelope.Envelope object at 0x7149b033d010>, diagrams=[Primitive(shape=Path(loc_trails=[Located(trail=Trail(segments=[Segment(offset=Vec2(14.40012, 0.0), origin=Vec2(0.0, 0.0)), Segment(offset=Vec2(0.0, 7.20012), origin=Vec2(0.0, 0.0)), Segment(offset=Vec2(-14.40012, 0.0), origin=Vec2(0.0, 0.0)), Segment(offset=Vec2(0.0, -7.20012), origin=Vec2(0.0, 0.0))], closed=True), location=Vec2(0.0, 0.0))]), style=Style(line_width_=None, line_color_=None, fill_color_=<Color white>, fill_opacity_=None, dashing_=None, output_size=None), transform=Affine(1.0, 0.0, -7.20006,\n",
       "       0.0, 1.0, -3.60006)), ApplyTransform(transform=Affine(1.0, 0.0, -0.0,\n",
       "       0.0, 1.0, -3.00006), diagram=Compose(envelope=<chalk.envelope.Envelope object at 0x7149b57eeb10>, diagrams=[Primitive(shape=Spacer(width=0, height=1), style=Style(line_width_=None, line_color_=None, fill_color_=None, fill_opacity_=None, dashing_=None, output_size=None), transform=Affine(1.0, 0.0, 0.0,\n",
       "       0.0, 1.0, 0.0)), Primitive(shape=Text(text='', font_size=0.75), style=Style(line_width_=(<WidthType.NORMALIZED: 2>, 0), line_color_=None, fill_color_=<Color black>, fill_opacity_=None, dashing_=None, output_size=None), transform=Affine(1.0, 0.0, 0.0,\n",
       "       0.0, 1.0, 0.5)), Primitive(shape=Spacer(width=0, height=1), style=Style(line_width_=None, line_color_=None, fill_color_=None, fill_opacity_=None, dashing_=None, output_size=None), transform=Affine(1.0, 0.0, 0.0,\n",
       "       0.0, 1.0, 1.0001)), ApplyTransform(transform=Affine(1.0, 0.0, 0.0,\n",
       "       0.0, 1.0, 3.5000999999999998), diagram=ApplyTransform(transform=Affine(1.0, 0.0, -6.0,\n",
       "       0.0, 1.0, -0.5), diagram=Compose(envelope=<chalk.envelope.Envelope object at 0x7149b57eef50>, diagrams=[ApplyTransform(transform=Affine(1.0, 0.0, -5e-05,\n",
       "       0.0, 1.0, -0.25005), diagram=Compose(envelope=<chalk.envelope.Envelope object at 0x7149b033c5d0>, diagrams=[Primitive(shape=Spacer(width=0, height=0.5), style=Style(line_width_=None, line_color_=None, fill_color_=None, fill_opacity_=None, dashing_=None, output_size=None), transform=Affine(1.0, 0.0, 0.0,\n",
       "       0.0, 1.0, 0.0)), Primitive(shape=Text(text='', font_size=0.5), style=Style(line_width_=(<WidthType.NORMALIZED: 2>, 0.0), line_color_=None, fill_color_=<Color black>, fill_opacity_=None, dashing_=None, output_size=None), transform=Affine(1.0, 0.0, 0.0,\n",
       "       0.0, 1.0, 0.25)), Primitive(shape=Spacer(width=0, height=0.5), style=Style(line_width_=None, line_color_=None, fill_color_=None, fill_opacity_=None, dashing_=None, output_size=None), transform=Affine(1.0, 0.0, 0.0,\n",
       "       0.0, 1.0, 0.5001))])), Empty(), Primitive(shape=Spacer(width=1.0, height=0), style=Style(line_width_=None, line_color_=None, fill_color_=None, fill_opacity_=None, dashing_=None, output_size=None), transform=Affine(1.0, 0.0, 0.50005,\n",
       "       0.0, 1.0, 0.0)), ApplyTransform(transform=Affine(1.0, 0.0, 3.00005,\n",
       "       0.0, 1.0, 0.0), diagram=Compose(envelope=<chalk.envelope.Envelope object at 0x7149b57ec510>, diagrams=[ApplyTransform(transform=Affine(1.0, 0.0, -1.5,\n",
       "       0.0, 1.0, -0.0), diagram=Compose(envelope=<chalk.envelope.Envelope object at 0x7149b033e2d0>, diagrams=[Primitive(shape=Path(loc_trails=[Located(trail=Trail(segments=[Segment(offset=Vec2(1.0, 0.0), origin=Vec2(0.0, 0.0)), Segment(offset=Vec2(0.0, 1.0), origin=Vec2(0.0, 0.0)), Segment(offset=Vec2(-1.0, 0.0), origin=Vec2(0.0, 0.0)), Segment(offset=Vec2(0.0, -1.0), origin=Vec2(0.0, 0.0))], closed=True), location=Vec2(0.0, 0.0))]), style=Style(line_width_=None, line_color_=None, fill_color_=None, fill_opacity_=None, dashing_=None, output_size=None), transform=Affine(1.0, 0.0, -0.5,\n",
       "       0.0, 1.0, -0.5)), ApplyTransform(transform=Affine(1.0, 0.0, 0.5,\n",
       "       0.0, 1.0, 0.0), diagram=ApplyTransform(transform=Affine(1.0, 0.0, 0.0,\n",
       "       -0.0, 1.0, 0.0), diagram=Empty())), ApplyTransform(transform=Affine(1.0, 0.0, 1.0,\n",
       "       0.0, 1.0, 0.0), diagram=Compose(envelope=<chalk.envelope.Envelope object at 0x7149b033f8d0>, diagrams=[Primitive(shape=Path(loc_trails=[Located(trail=Trail(segments=[Segment(offset=Vec2(1.0, 0.0), origin=Vec2(0.0, 0.0)), Segment(offset=Vec2(0.0, 1.0), origin=Vec2(0.0, 0.0)), Segment(offset=Vec2(-1.0, 0.0), origin=Vec2(0.0, 0.0)), Segment(offset=Vec2(0.0, -1.0), origin=Vec2(0.0, 0.0))], closed=True), location=Vec2(0.0, 0.0))]), style=Style(line_width_=None, line_color_=None, fill_color_=<Color blue>, fill_opacity_=0.46, dashing_=None, output_size=None), transform=Affine(1.0, 0.0, -0.5,\n",
       "       0.0, 1.0, -0.5)), ApplyTransform(transform=Affine(1.0, 0.0, 0.5,\n",
       "       0.0, 1.0, 0.0), diagram=ApplyTransform(transform=Affine(1.0, 0.0, 0.0,\n",
       "       -0.0, 1.0, 0.0), diagram=Empty())), Primitive(shape=Path(loc_trails=[Located(trail=Trail(segments=[Segment(offset=Vec2(1.0, 0.0), origin=Vec2(0.0, 0.0)), Segment(offset=Vec2(0.0, 1.0), origin=Vec2(0.0, 0.0)), Segment(offset=Vec2(-1.0, 0.0), origin=Vec2(0.0, 0.0)), Segment(offset=Vec2(0.0, -1.0), origin=Vec2(0.0, 0.0))], closed=True), location=Vec2(0.0, 0.0))]), style=Style(line_width_=None, line_color_=None, fill_color_=<Color blue>, fill_opacity_=0.52, dashing_=None, output_size=None), transform=Affine(1.0, 0.0, 0.5,\n",
       "       0.0, 1.0, -0.5)), ApplyTransform(transform=Affine(1.0, 0.0, 1.5,\n",
       "       0.0, 1.0, 0.0), diagram=ApplyTransform(transform=Affine(1.0, 0.0, 0.0,\n",
       "       -0.0, 1.0, 0.0), diagram=Empty())), Primitive(shape=Path(loc_trails=[Located(trail=Trail(segments=[Segment(offset=Vec2(1.0, 0.0), origin=Vec2(0.0, 0.0)), Segment(offset=Vec2(0.0, 1.0), origin=Vec2(0.0, 0.0)), Segment(offset=Vec2(-1.0, 0.0), origin=Vec2(0.0, 0.0)), Segment(offset=Vec2(0.0, -1.0), origin=Vec2(0.0, 0.0))], closed=True), location=Vec2(0.0, 0.0))]), style=Style(line_width_=None, line_color_=None, fill_color_=<Color blue>, fill_opacity_=0.5800000000000001, dashing_=None, output_size=None), transform=Affine(1.0, 0.0, 1.5,\n",
       "       0.0, 1.0, -0.5))])), ApplyTransform(transform=Affine(1.0, 0.0, 0.0,\n",
       "       0.0, 1.0, 0.5), diagram=ApplyTransform(transform=Affine(0.0, 1.0, 0.0,\n",
       "       -1.0, 0.0, 0.0), diagram=Empty())), ApplyTransform(transform=Affine(1.0, 0.0, 0.0,\n",
       "       0.0, 1.0, 0.5), diagram=Empty())])), Empty(), Primitive(shape=Spacer(width=1.0, height=0), style=Style(line_width_=None, line_color_=None, fill_color_=None, fill_opacity_=None, dashing_=None, output_size=None), transform=Affine(1.0, 0.0, 2.5,\n",
       "       0.0, 1.0, 0.0)), ApplyTransform(transform=Affine(1.0, 0.0, 3.5,\n",
       "       0.0, 1.0, 0.0), diagram=Compose(envelope=<chalk.envelope.Envelope object at 0x7149b57d6990>, diagrams=[ApplyTransform(transform=Affine(1.0, 0.0, -0.0,\n",
       "       0.0, 1.0, -1.0), diagram=Compose(envelope=<chalk.envelope.Envelope object at 0x7149b03349d0>, diagrams=[Primitive(shape=Path(loc_trails=[Located(trail=Trail(segments=[Segment(offset=Vec2(1.0, 0.0), origin=Vec2(0.0, 0.0)), Segment(offset=Vec2(0.0, 1.0), origin=Vec2(0.0, 0.0)), Segment(offset=Vec2(-1.0, 0.0), origin=Vec2(0.0, 0.0)), Segment(offset=Vec2(0.0, -1.0), origin=Vec2(0.0, 0.0))], closed=True), location=Vec2(0.0, 0.0))]), style=Style(line_width_=None, line_color_=None, fill_color_=None, fill_opacity_=None, dashing_=None, output_size=None), transform=Affine(1.0, 0.0, -0.5,\n",
       "       0.0, 1.0, -0.5)), ApplyTransform(transform=Affine(1.0, 0.0, 0.5,\n",
       "       0.0, 1.0, 0.0), diagram=ApplyTransform(transform=Affine(1.0, 0.0, 0.0,\n",
       "       -0.0, 1.0, 0.0), diagram=Empty())), ApplyTransform(transform=Affine(1.0, 0.0, 0.5,\n",
       "       0.0, 1.0, 0.0), diagram=Empty()), ApplyTransform(transform=Affine(1.0, 0.0, 0.0,\n",
       "       0.0, 1.0, 0.5), diagram=ApplyTransform(transform=Affine(0.0, 1.0, 0.0,\n",
       "       -1.0, 0.0, 0.0), diagram=Empty())), ApplyTransform(transform=Affine(1.0, 0.0, 0.0,\n",
       "       0.0, 1.0, 1.0), diagram=Compose(envelope=<chalk.envelope.Envelope object at 0x7149b0334710>, diagrams=[Primitive(shape=Path(loc_trails=[Located(trail=Trail(segments=[Segment(offset=Vec2(1.0, 0.0), origin=Vec2(0.0, 0.0)), Segment(offset=Vec2(0.0, 1.0), origin=Vec2(0.0, 0.0)), Segment(offset=Vec2(-1.0, 0.0), origin=Vec2(0.0, 0.0)), Segment(offset=Vec2(0.0, -1.0), origin=Vec2(0.0, 0.0))], closed=True), location=Vec2(0.0, 0.0))]), style=Style(line_width_=None, line_color_=None, fill_color_=<Color orange>, fill_opacity_=0.46, dashing_=None, output_size=None), transform=Affine(1.0, 0.0, -0.5,\n",
       "       0.0, 1.0, -0.5)), ApplyTransform(transform=Affine(1.0, 0.0, 0.5,\n",
       "       0.0, 1.0, 0.0), diagram=ApplyTransform(transform=Affine(1.0, 0.0, 0.0,\n",
       "       -0.0, 1.0, 0.0), diagram=Empty())), ApplyTransform(transform=Affine(1.0, 0.0, 0.5,\n",
       "       0.0, 1.0, 0.0), diagram=Empty()), ApplyTransform(transform=Affine(1.0, 0.0, 0.0,\n",
       "       0.0, 1.0, 0.5), diagram=ApplyTransform(transform=Affine(0.0, 1.0, 0.0,\n",
       "       -1.0, 0.0, 0.0), diagram=Empty())), ApplyTransform(transform=Affine(1.0, 0.0, 0.0,\n",
       "       0.0, 1.0, 1.0), diagram=Compose(envelope=<chalk.envelope.Envelope object at 0x7149b03340d0>, diagrams=[Primitive(shape=Path(loc_trails=[Located(trail=Trail(segments=[Segment(offset=Vec2(1.0, 0.0), origin=Vec2(0.0, 0.0)), Segment(offset=Vec2(0.0, 1.0), origin=Vec2(0.0, 0.0)), Segment(offset=Vec2(-1.0, 0.0), origin=Vec2(0.0, 0.0)), Segment(offset=Vec2(0.0, -1.0), origin=Vec2(0.0, 0.0))], closed=True), location=Vec2(0.0, 0.0))]), style=Style(line_width_=None, line_color_=None, fill_color_=<Color orange>, fill_opacity_=0.52, dashing_=None, output_size=None), transform=Affine(1.0, 0.0, -0.5,\n",
       "       0.0, 1.0, -0.5)), ApplyTransform(transform=Affine(1.0, 0.0, 0.5,\n",
       "       0.0, 1.0, 0.0), diagram=ApplyTransform(transform=Affine(1.0, 0.0, 0.0,\n",
       "       -0.0, 1.0, 0.0), diagram=Empty())), ApplyTransform(transform=Affine(1.0, 0.0, 0.5,\n",
       "       0.0, 1.0, 0.0), diagram=Empty())]))]))])), Empty()])), Primitive(shape=Spacer(width=1.0, height=0), style=Style(line_width_=None, line_color_=None, fill_color_=None, fill_opacity_=None, dashing_=None, output_size=None), transform=Affine(1.0, 0.0, 4.5,\n",
       "       0.0, 1.0, 0.0)), ApplyTransform(transform=Affine(1.0, 0.0, 7.0,\n",
       "       0.0, 1.0, 0.0), diagram=Compose(envelope=<chalk.envelope.Envelope object at 0x7149b57d4890>, diagrams=[ApplyTransform(transform=Affine(1.0, 0.0, -1.5,\n",
       "       0.0, 1.0, -1.0), diagram=Compose(envelope=<chalk.envelope.Envelope object at 0x7149b57d7d90>, diagrams=[Primitive(shape=Path(loc_trails=[Located(trail=Trail(segments=[Segment(offset=Vec2(1.0, 0.0), origin=Vec2(0.0, 0.0)), Segment(offset=Vec2(0.0, 1.0), origin=Vec2(0.0, 0.0)), Segment(offset=Vec2(-1.0, 0.0), origin=Vec2(0.0, 0.0)), Segment(offset=Vec2(0.0, -1.0), origin=Vec2(0.0, 0.0))], closed=True), location=Vec2(0.0, 0.0))]), style=Style(line_width_=None, line_color_=None, fill_color_=None, fill_opacity_=None, dashing_=None, output_size=None), transform=Affine(1.0, 0.0, -0.5,\n",
       "       0.0, 1.0, -0.5)), ApplyTransform(transform=Affine(1.0, 0.0, 0.5,\n",
       "       0.0, 1.0, 0.0), diagram=ApplyTransform(transform=Affine(1.0, 0.0, 0.0,\n",
       "       -0.0, 1.0, 0.0), diagram=Empty())), ApplyTransform(transform=Affine(1.0, 0.0, 1.0,\n",
       "       0.0, 1.0, 0.0), diagram=Compose(envelope=<chalk.envelope.Envelope object at 0x7149b57dfdd0>, diagrams=[Primitive(shape=Path(loc_trails=[Located(trail=Trail(segments=[Segment(offset=Vec2(1.0, 0.0), origin=Vec2(0.0, 0.0)), Segment(offset=Vec2(0.0, 1.0), origin=Vec2(0.0, 0.0)), Segment(offset=Vec2(-1.0, 0.0), origin=Vec2(0.0, 0.0)), Segment(offset=Vec2(0.0, -1.0), origin=Vec2(0.0, 0.0))], closed=True), location=Vec2(0.0, 0.0))]), style=Style(line_width_=None, line_color_=None, fill_color_=<Color blue>, fill_opacity_=0.46, dashing_=None, output_size=None), transform=Affine(1.0, 0.0, -0.5,\n",
       "       0.0, 1.0, -0.5)), ApplyTransform(transform=Affine(1.0, 0.0, 0.5,\n",
       "       0.0, 1.0, 0.0), diagram=ApplyTransform(transform=Affine(1.0, 0.0, 0.0,\n",
       "       -0.0, 1.0, 0.0), diagram=Empty())), Primitive(shape=Path(loc_trails=[Located(trail=Trail(segments=[Segment(offset=Vec2(1.0, 0.0), origin=Vec2(0.0, 0.0)), Segment(offset=Vec2(0.0, 1.0), origin=Vec2(0.0, 0.0)), Segment(offset=Vec2(-1.0, 0.0), origin=Vec2(0.0, 0.0)), Segment(offset=Vec2(0.0, -1.0), origin=Vec2(0.0, 0.0))], closed=True), location=Vec2(0.0, 0.0))]), style=Style(line_width_=None, line_color_=None, fill_color_=<Color blue>, fill_opacity_=0.52, dashing_=None, output_size=None), transform=Affine(1.0, 0.0, 0.5,\n",
       "       0.0, 1.0, -0.5)), ApplyTransform(transform=Affine(1.0, 0.0, 1.5,\n",
       "       0.0, 1.0, 0.0), diagram=ApplyTransform(transform=Affine(1.0, 0.0, 0.0,\n",
       "       -0.0, 1.0, 0.0), diagram=Empty())), Primitive(shape=Path(loc_trails=[Located(trail=Trail(segments=[Segment(offset=Vec2(1.0, 0.0), origin=Vec2(0.0, 0.0)), Segment(offset=Vec2(0.0, 1.0), origin=Vec2(0.0, 0.0)), Segment(offset=Vec2(-1.0, 0.0), origin=Vec2(0.0, 0.0)), Segment(offset=Vec2(0.0, -1.0), origin=Vec2(0.0, 0.0))], closed=True), location=Vec2(0.0, 0.0))]), style=Style(line_width_=None, line_color_=None, fill_color_=<Color blue>, fill_opacity_=0.5800000000000001, dashing_=None, output_size=None), transform=Affine(1.0, 0.0, 1.5,\n",
       "       0.0, 1.0, -0.5))])), ApplyTransform(transform=Affine(1.0, 0.0, 0.0,\n",
       "       0.0, 1.0, 0.5), diagram=ApplyTransform(transform=Affine(0.0, 1.0, 0.0,\n",
       "       -1.0, 0.0, 0.0), diagram=Empty())), ApplyTransform(transform=Affine(1.0, 0.0, 0.0,\n",
       "       0.0, 1.0, 1.0), diagram=Compose(envelope=<chalk.envelope.Envelope object at 0x7149b57d7f90>, diagrams=[Primitive(shape=Path(loc_trails=[Located(trail=Trail(segments=[Segment(offset=Vec2(1.0, 0.0), origin=Vec2(0.0, 0.0)), Segment(offset=Vec2(0.0, 1.0), origin=Vec2(0.0, 0.0)), Segment(offset=Vec2(-1.0, 0.0), origin=Vec2(0.0, 0.0)), Segment(offset=Vec2(0.0, -1.0), origin=Vec2(0.0, 0.0))], closed=True), location=Vec2(0.0, 0.0))]), style=Style(line_width_=None, line_color_=None, fill_color_=<Color orange>, fill_opacity_=0.46, dashing_=None, output_size=None), transform=Affine(1.0, 0.0, -0.5,\n",
       "       0.0, 1.0, -0.5)), ApplyTransform(transform=Affine(1.0, 0.0, 0.5,\n",
       "       0.0, 1.0, 0.0), diagram=ApplyTransform(transform=Affine(1.0, 0.0, 0.0,\n",
       "       -0.0, 1.0, 0.0), diagram=Empty())), ApplyTransform(transform=Affine(1.0, 0.0, 1.0,\n",
       "       0.0, 1.0, 0.0), diagram=Compose(envelope=<chalk.envelope.Envelope object at 0x7149b57e4110>, diagrams=[Primitive(shape=Path(loc_trails=[Located(trail=Trail(segments=[Segment(offset=Vec2(1.0, 0.0), origin=Vec2(0.0, 0.0)), Segment(offset=Vec2(0.0, 1.0), origin=Vec2(0.0, 0.0)), Segment(offset=Vec2(-1.0, 0.0), origin=Vec2(0.0, 0.0)), Segment(offset=Vec2(0.0, -1.0), origin=Vec2(0.0, 0.0))], closed=True), location=Vec2(0.0, 0.0))]), style=Style(line_width_=None, line_color_=None, fill_color_=None, fill_opacity_=None, dashing_=None, output_size=None), transform=Affine(1.0, 0.0, -0.5,\n",
       "       0.0, 1.0, -0.5)), ApplyTransform(transform=Affine(1.0, 0.0, 0.5,\n",
       "       0.0, 1.0, 0.0), diagram=ApplyTransform(transform=Affine(1.0, 0.0, 0.0,\n",
       "       -0.0, 1.0, 0.0), diagram=Empty())), Primitive(shape=Path(loc_trails=[Located(trail=Trail(segments=[Segment(offset=Vec2(1.0, 0.0), origin=Vec2(0.0, 0.0)), Segment(offset=Vec2(0.0, 1.0), origin=Vec2(0.0, 0.0)), Segment(offset=Vec2(-1.0, 0.0), origin=Vec2(0.0, 0.0)), Segment(offset=Vec2(0.0, -1.0), origin=Vec2(0.0, 0.0))], closed=True), location=Vec2(0.0, 0.0))]), style=Style(line_width_=None, line_color_=None, fill_color_=<Color blue>, fill_opacity_=0.46, dashing_=None, output_size=None), transform=Affine(1.0, 0.0, 0.5,\n",
       "       0.0, 1.0, -0.5)), ApplyTransform(transform=Affine(1.0, 0.0, 1.5,\n",
       "       0.0, 1.0, 0.0), diagram=ApplyTransform(transform=Affine(1.0, 0.0, 0.0,\n",
       "       -0.0, 1.0, 0.0), diagram=Empty())), Primitive(shape=Path(loc_trails=[Located(trail=Trail(segments=[Segment(offset=Vec2(1.0, 0.0), origin=Vec2(0.0, 0.0)), Segment(offset=Vec2(0.0, 1.0), origin=Vec2(0.0, 0.0)), Segment(offset=Vec2(-1.0, 0.0), origin=Vec2(0.0, 0.0)), Segment(offset=Vec2(0.0, -1.0), origin=Vec2(0.0, 0.0))], closed=True), location=Vec2(0.0, 0.0))]), style=Style(line_width_=None, line_color_=None, fill_color_=<Color blue>, fill_opacity_=0.52, dashing_=None, output_size=None), transform=Affine(1.0, 0.0, 1.5,\n",
       "       0.0, 1.0, -0.5))])), ApplyTransform(transform=Affine(1.0, 0.0, 0.0,\n",
       "       0.0, 1.0, 0.5), diagram=ApplyTransform(transform=Affine(0.0, 1.0, 0.0,\n",
       "       -1.0, 0.0, 0.0), diagram=Empty())), ApplyTransform(transform=Affine(1.0, 0.0, 0.0,\n",
       "       0.0, 1.0, 1.0), diagram=Compose(envelope=<chalk.envelope.Envelope object at 0x7149b57e8350>, diagrams=[Primitive(shape=Path(loc_trails=[Located(trail=Trail(segments=[Segment(offset=Vec2(1.0, 0.0), origin=Vec2(0.0, 0.0)), Segment(offset=Vec2(0.0, 1.0), origin=Vec2(0.0, 0.0)), Segment(offset=Vec2(-1.0, 0.0), origin=Vec2(0.0, 0.0)), Segment(offset=Vec2(0.0, -1.0), origin=Vec2(0.0, 0.0))], closed=True), location=Vec2(0.0, 0.0))]), style=Style(line_width_=None, line_color_=None, fill_color_=<Color orange>, fill_opacity_=0.52, dashing_=None, output_size=None), transform=Affine(1.0, 0.0, -0.5,\n",
       "       0.0, 1.0, -0.5)), ApplyTransform(transform=Affine(1.0, 0.0, 0.5,\n",
       "       0.0, 1.0, 0.0), diagram=ApplyTransform(transform=Affine(1.0, 0.0, 0.0,\n",
       "       -0.0, 1.0, 0.0), diagram=Empty())), ApplyTransform(transform=Affine(1.0, 0.0, 1.0,\n",
       "       0.0, 1.0, 0.0), diagram=Compose(envelope=<chalk.envelope.Envelope object at 0x7149b57e8b10>, diagrams=[Primitive(shape=Path(loc_trails=[Located(trail=Trail(segments=[Segment(offset=Vec2(1.0, 0.0), origin=Vec2(0.0, 0.0)), Segment(offset=Vec2(0.0, 1.0), origin=Vec2(0.0, 0.0)), Segment(offset=Vec2(-1.0, 0.0), origin=Vec2(0.0, 0.0)), Segment(offset=Vec2(0.0, -1.0), origin=Vec2(0.0, 0.0))], closed=True), location=Vec2(0.0, 0.0))]), style=Style(line_width_=None, line_color_=None, fill_color_=<Color orange>, fill_opacity_=0.46, dashing_=None, output_size=None), transform=Affine(1.0, 0.0, -0.5,\n",
       "       0.0, 1.0, -0.5)), ApplyTransform(transform=Affine(1.0, 0.0, 0.5,\n",
       "       0.0, 1.0, 0.0), diagram=ApplyTransform(transform=Affine(1.0, 0.0, 0.0,\n",
       "       -0.0, 1.0, 0.0), diagram=Empty())), Primitive(shape=Path(loc_trails=[Located(trail=Trail(segments=[Segment(offset=Vec2(1.0, 0.0), origin=Vec2(0.0, 0.0)), Segment(offset=Vec2(0.0, 1.0), origin=Vec2(0.0, 0.0)), Segment(offset=Vec2(-1.0, 0.0), origin=Vec2(0.0, 0.0)), Segment(offset=Vec2(0.0, -1.0), origin=Vec2(0.0, 0.0))], closed=True), location=Vec2(0.0, 0.0))]), style=Style(line_width_=None, line_color_=None, fill_color_=None, fill_opacity_=None, dashing_=None, output_size=None), transform=Affine(1.0, 0.0, 0.5,\n",
       "       0.0, 1.0, -0.5)), ApplyTransform(transform=Affine(1.0, 0.0, 1.5,\n",
       "       0.0, 1.0, 0.0), diagram=ApplyTransform(transform=Affine(1.0, 0.0, 0.0,\n",
       "       -0.0, 1.0, 0.0), diagram=Empty())), Primitive(shape=Path(loc_trails=[Located(trail=Trail(segments=[Segment(offset=Vec2(1.0, 0.0), origin=Vec2(0.0, 0.0)), Segment(offset=Vec2(0.0, 1.0), origin=Vec2(0.0, 0.0)), Segment(offset=Vec2(-1.0, 0.0), origin=Vec2(0.0, 0.0)), Segment(offset=Vec2(0.0, -1.0), origin=Vec2(0.0, 0.0))], closed=True), location=Vec2(0.0, 0.0))]), style=Style(line_width_=None, line_color_=None, fill_color_=<Color blue>, fill_opacity_=0.46, dashing_=None, output_size=None), transform=Affine(1.0, 0.0, 1.5,\n",
       "       0.0, 1.0, -0.5))]))]))]))])), Empty()]))])), Primitive(shape=Spacer(width=1.0, height=0), style=Style(line_width_=None, line_color_=None, fill_color_=None, fill_opacity_=None, dashing_=None, output_size=None), transform=Affine(0.0, 1.0, 0.0,\n",
       "       -1.0, 0.0, 2.0)), ApplyTransform(transform=Affine(1.0, 0.0, 0.0,\n",
       "       0.0, 1.0, 2.5), diagram=Empty())]))), Empty()]))])"
      ]
     },
     "execution_count": 13,
     "metadata": {},
     "output_type": "execute_result"
    }
   ],
   "source": [
    "a = torch.arange(4) * -1 # (4,)\n",
    "b = torch.arange(3)[:, None] # (3, 1)\n",
    "draw(a, b, a + b)"
   ]
  },
  {
   "cell_type": "markdown",
   "metadata": {
    "slideshow": {
     "slide_type": "subslide"
    }
   },
   "source": [
    "### Broadcasting\n",
    "\n",
    "- Seemingly non-compatible tensors get *broadcasted* for compatible operations.\n"
   ]
  },
  {
   "cell_type": "code",
   "execution_count": 15,
   "metadata": {
    "slideshow": {
     "slide_type": "fragment"
    }
   },
   "outputs": [
    {
     "data": {
      "image/svg+xml": [
       "<?xml version=\"1.0\" encoding=\"utf-8\" ?>\n",
       "<svg baseProfile=\"full\" height=\"300\" version=\"1.1\" width=\"599\" xmlns=\"http://www.w3.org/2000/svg\" xmlns:ev=\"http://www.w3.org/2001/xml-events\" xmlns:xlink=\"http://www.w3.org/1999/xlink\"><defs><marker id=\"arrow\" markerHeight=\"3.5\" markerWidth=\"5\" orient=\"auto\" refX=\"5.0\" refY=\"1.7\"><polygon points=\"0,0 5,1.75 0,3.5\" /></marker></defs><g style=\"fill:white;\"><g transform=\"matrix(1.0, 0.0, 0.0, 1.0, 299.997857173469, 150.0)\"><g transform=\"matrix(34.01311954046915, 0.0, 0.0, 34.01311954046915, 0.0, 0.0)\"><g><g transform=\"matrix(1.0, 0.0, 0.0, 1.0, -0.0, -0.0)\"><g><g style=\"fill: #ffffff;stroke: black;stroke-width: 1.797;\" transform=\"matrix(1.0, 0.0, 0.0, 1.0, -8.40006, -4.20006)\"><path d=\"M 0.0 0.0 L 16.80012 0.0 L 16.80012 8.40012 L 0.0 8.40012 L 0.0 0.0 Z\" style=\"vector-effect: non-scaling-stroke;\" /></g><g transform=\"matrix(1.0, 0.0, 0.0, 1.0, -0.0, -3.60006)\"><g><g style=\"stroke: black;stroke-width: 1.797;\" transform=\"matrix(1.0, 0.0, 0.0, 1.0, 0.0, 0.0)\"><g /></g><g style=\"fill: #000000;stroke: black;stroke-width: 0.0;\" transform=\"matrix(1.0, 0.0, 0.0, 1.0, 0.0, 0.5)\"><text style=\"text-align:center; text-anchor:middle; dominant-baseline:middle;&#10;                      font-family:sans-serif; font-weight: bold;&#10;                      font-size:0.75px;&#10;                      vector-effect: non-scaling-stroke;\" transform=\"translate(-5e-05, 0)\" /></g><g style=\"stroke: black;stroke-width: 1.797;\" transform=\"matrix(1.0, 0.0, 0.0, 1.0, 0.0, 1.0001)\"><g /></g><g transform=\"matrix(1.0, 0.0, 0.0, 1.0, 0.0, 4.0001)\"><g transform=\"matrix(1.0, 0.0, 0.0, 1.0, -7.0, -0.5)\"><g><g transform=\"matrix(1.0, 0.0, 0.0, 1.0, -5e-05, -0.25005)\"><g><g style=\"stroke: black;stroke-width: 1.797;\" transform=\"matrix(1.0, 0.0, 0.0, 1.0, 0.0, 0.0)\"><g /></g><g style=\"fill: #000000;stroke: black;stroke-width: 0.0;\" transform=\"matrix(1.0, 0.0, 0.0, 1.0, 0.0, 0.25)\"><text style=\"text-align:center; text-anchor:middle; dominant-baseline:middle;&#10;                      font-family:sans-serif; font-weight: bold;&#10;                      font-size:0.5px;&#10;                      vector-effect: non-scaling-stroke;\" transform=\"translate(-5e-05, 0)\" /></g><g style=\"stroke: black;stroke-width: 1.797;\" transform=\"matrix(1.0, 0.0, 0.0, 1.0, 0.0, 0.5001)\"><g /></g></g></g><g /><g style=\"stroke: black;stroke-width: 1.797;\" transform=\"matrix(1.0, 0.0, 0.0, 1.0, 0.50005, 0.0)\"><g /></g><g transform=\"matrix(1.0, 0.0, 0.0, 1.0, 3.00005, 0.0)\"><g><g transform=\"matrix(1.0, 0.0, 0.0, 1.0, -1.5, -1.5)\"><g><g style=\"fill: #ffa500;stroke: black;stroke-width: 1.797;fill-opacity: 0.43906777262687685;\" transform=\"matrix(1.0, 0.0, 0.0, 1.0, -0.5, -0.5)\"><path d=\"M 0.0 0.0 L 1.0 0.0 L 1.0 1.0 L 0.0 1.0 L 0.0 0.0 Z\" style=\"vector-effect: non-scaling-stroke;\" /></g><g transform=\"matrix(1.0, 0.0, 0.0, 1.0, 0.5, 0.0)\"><g transform=\"matrix(1.0, -0.0, 0.0, 1.0, 0.0, 0.0)\"><g /></g></g><g transform=\"matrix(1.0, 0.0, 0.0, 1.0, 1.0, 0.0)\"><g><g style=\"fill: #ffa500;stroke: black;stroke-width: 1.797;fill-opacity: 0.4047591328620911;\" transform=\"matrix(1.0, 0.0, 0.0, 1.0, -0.5, -0.5)\"><path d=\"M 0.0 0.0 L 1.0 0.0 L 1.0 1.0 L 0.0 1.0 L 0.0 0.0 Z\" style=\"vector-effect: non-scaling-stroke;\" /></g><g transform=\"matrix(1.0, 0.0, 0.0, 1.0, 0.5, 0.0)\"><g transform=\"matrix(1.0, -0.0, 0.0, 1.0, 0.0, 0.0)\"><g /></g></g><g style=\"fill: #ffa500;stroke: black;stroke-width: 1.797;fill-opacity: 0.42161234974861145;\" transform=\"matrix(1.0, 0.0, 0.0, 1.0, 0.5, -0.5)\"><path d=\"M 0.0 0.0 L 1.0 0.0 L 1.0 1.0 L 0.0 1.0 L 0.0 0.0 Z\" style=\"vector-effect: non-scaling-stroke;\" /></g><g transform=\"matrix(1.0, 0.0, 0.0, 1.0, 1.5, 0.0)\"><g transform=\"matrix(1.0, -0.0, 0.0, 1.0, 0.0, 0.0)\"><g /></g></g><g style=\"fill: #ffa500;stroke: black;stroke-width: 1.797;fill-opacity: 0.41589053988456726;\" transform=\"matrix(1.0, 0.0, 0.0, 1.0, 1.5, -0.5)\"><path d=\"M 0.0 0.0 L 1.0 0.0 L 1.0 1.0 L 0.0 1.0 L 0.0 0.0 Z\" style=\"vector-effect: non-scaling-stroke;\" /></g></g></g><g transform=\"matrix(1.0, 0.0, 0.0, 1.0, 0.0, 0.5)\"><g transform=\"matrix(0.0, -1.0, 1.0, 0.0, 0.0, 0.0)\"><g /></g></g><g transform=\"matrix(1.0, 0.0, 0.0, 1.0, 0.0, 1.0)\"><g><g style=\"fill: #ffa500;stroke: black;stroke-width: 1.797;fill-opacity: 0.41450972437858585;\" transform=\"matrix(1.0, 0.0, 0.0, 1.0, -0.5, -0.5)\"><path d=\"M 0.0 0.0 L 1.0 0.0 L 1.0 1.0 L 0.0 1.0 L 0.0 0.0 Z\" style=\"vector-effect: non-scaling-stroke;\" /></g><g transform=\"matrix(1.0, 0.0, 0.0, 1.0, 0.5, 0.0)\"><g transform=\"matrix(1.0, -0.0, 0.0, 1.0, 0.0, 0.0)\"><g /></g></g><g transform=\"matrix(1.0, 0.0, 0.0, 1.0, 1.0, 0.0)\"><g><g style=\"fill: #ffa500;stroke: black;stroke-width: 1.797;fill-opacity: 0.43819357991218566;\" transform=\"matrix(1.0, 0.0, 0.0, 1.0, -0.5, -0.5)\"><path d=\"M 0.0 0.0 L 1.0 0.0 L 1.0 1.0 L 0.0 1.0 L 0.0 0.0 Z\" style=\"vector-effect: non-scaling-stroke;\" /></g><g transform=\"matrix(1.0, 0.0, 0.0, 1.0, 0.5, 0.0)\"><g transform=\"matrix(1.0, -0.0, 0.0, 1.0, 0.0, 0.0)\"><g /></g></g><g style=\"fill: #ffa500;stroke: black;stroke-width: 1.797;fill-opacity: 0.413243864774704;\" transform=\"matrix(1.0, 0.0, 0.0, 1.0, 0.5, -0.5)\"><path d=\"M 0.0 0.0 L 1.0 0.0 L 1.0 1.0 L 0.0 1.0 L 0.0 0.0 Z\" style=\"vector-effect: non-scaling-stroke;\" /></g><g transform=\"matrix(1.0, 0.0, 0.0, 1.0, 1.5, 0.0)\"><g transform=\"matrix(1.0, -0.0, 0.0, 1.0, 0.0, 0.0)\"><g /></g></g><g style=\"fill: #ffa500;stroke: black;stroke-width: 1.797;fill-opacity: 0.4035533332824707;\" transform=\"matrix(1.0, 0.0, 0.0, 1.0, 1.5, -0.5)\"><path d=\"M 0.0 0.0 L 1.0 0.0 L 1.0 1.0 L 0.0 1.0 L 0.0 0.0 Z\" style=\"vector-effect: non-scaling-stroke;\" /></g></g></g><g transform=\"matrix(1.0, 0.0, 0.0, 1.0, 0.0, 0.5)\"><g transform=\"matrix(0.0, -1.0, 1.0, 0.0, 0.0, 0.0)\"><g /></g></g><g transform=\"matrix(1.0, 0.0, 0.0, 1.0, 0.0, 1.0)\"><g><g style=\"fill: #ffa500;stroke: black;stroke-width: 1.797;fill-opacity: 0.4229780697822571;\" transform=\"matrix(1.0, 0.0, 0.0, 1.0, -0.5, -0.5)\"><path d=\"M 0.0 0.0 L 1.0 0.0 L 1.0 1.0 L 0.0 1.0 L 0.0 0.0 Z\" style=\"vector-effect: non-scaling-stroke;\" /></g><g transform=\"matrix(1.0, 0.0, 0.0, 1.0, 0.5, 0.0)\"><g transform=\"matrix(1.0, -0.0, 0.0, 1.0, 0.0, 0.0)\"><g /></g></g><g transform=\"matrix(1.0, 0.0, 0.0, 1.0, 1.0, 0.0)\"><g><g style=\"fill: #ffa500;stroke: black;stroke-width: 1.797;fill-opacity: 0.4166704905033112;\" transform=\"matrix(1.0, 0.0, 0.0, 1.0, -0.5, -0.5)\"><path d=\"M 0.0 0.0 L 1.0 0.0 L 1.0 1.0 L 0.0 1.0 L 0.0 0.0 Z\" style=\"vector-effect: non-scaling-stroke;\" /></g><g transform=\"matrix(1.0, 0.0, 0.0, 1.0, 0.5, 0.0)\"><g transform=\"matrix(1.0, -0.0, 0.0, 1.0, 0.0, 0.0)\"><g /></g></g><g style=\"fill: #ffa500;stroke: black;stroke-width: 1.797;fill-opacity: 0.4385308086872101;\" transform=\"matrix(1.0, 0.0, 0.0, 1.0, 0.5, -0.5)\"><path d=\"M 0.0 0.0 L 1.0 0.0 L 1.0 1.0 L 0.0 1.0 L 0.0 0.0 Z\" style=\"vector-effect: non-scaling-stroke;\" /></g><g transform=\"matrix(1.0, 0.0, 0.0, 1.0, 1.5, 0.0)\"><g transform=\"matrix(1.0, -0.0, 0.0, 1.0, 0.0, 0.0)\"><g /></g></g><g style=\"fill: #ffa500;stroke: black;stroke-width: 1.797;fill-opacity: 0.4007872533798218;\" transform=\"matrix(1.0, 0.0, 0.0, 1.0, 1.5, -0.5)\"><path d=\"M 0.0 0.0 L 1.0 0.0 L 1.0 1.0 L 0.0 1.0 L 0.0 0.0 Z\" style=\"vector-effect: non-scaling-stroke;\" /></g></g></g></g></g><g transform=\"matrix(1.0, 0.0, 0.0, 1.0, 0.0, 1.5)\"><g transform=\"matrix(0.0, -1.0, 1.0, 0.0, 0.0, 0.0)\"><g /></g></g><g transform=\"matrix(1.0, 0.0, 0.0, 1.0, 0.0, 2.0)\"><g><g style=\"fill: #ffa500;stroke: black;stroke-width: 1.797;fill-opacity: 0.45448628664016727;\" transform=\"matrix(1.0, 0.0, 0.0, 1.0, -0.5, -0.5)\"><path d=\"M 0.0 0.0 L 1.0 0.0 L 1.0 1.0 L 0.0 1.0 L 0.0 0.0 Z\" style=\"vector-effect: non-scaling-stroke;\" /></g><g transform=\"matrix(1.0, 0.0, 0.0, 1.0, 0.5, 0.0)\"><g transform=\"matrix(1.0, -0.0, 0.0, 1.0, 0.0, 0.0)\"><g /></g></g><g transform=\"matrix(1.0, 0.0, 0.0, 1.0, 1.0, 0.0)\"><g><g style=\"fill: #ffa500;stroke: black;stroke-width: 1.797;fill-opacity: 0.4430510747432709;\" transform=\"matrix(1.0, 0.0, 0.0, 1.0, -0.5, -0.5)\"><path d=\"M 0.0 0.0 L 1.0 0.0 L 1.0 1.0 L 0.0 1.0 L 0.0 0.0 Z\" style=\"vector-effect: non-scaling-stroke;\" /></g><g transform=\"matrix(1.0, 0.0, 0.0, 1.0, 0.5, 0.0)\"><g transform=\"matrix(1.0, -0.0, 0.0, 1.0, 0.0, 0.0)\"><g /></g></g><g style=\"fill: #ffa500;stroke: black;stroke-width: 1.797;fill-opacity: 0.4017047691345215;\" transform=\"matrix(1.0, 0.0, 0.0, 1.0, 0.5, -0.5)\"><path d=\"M 0.0 0.0 L 1.0 0.0 L 1.0 1.0 L 0.0 1.0 L 0.0 0.0 Z\" style=\"vector-effect: non-scaling-stroke;\" /></g><g transform=\"matrix(1.0, 0.0, 0.0, 1.0, 1.5, 0.0)\"><g transform=\"matrix(1.0, -0.0, 0.0, 1.0, 0.0, 0.0)\"><g /></g></g><g style=\"fill: #ffa500;stroke: black;stroke-width: 1.797;fill-opacity: 0.42067654848098757;\" transform=\"matrix(1.0, 0.0, 0.0, 1.0, 1.5, -0.5)\"><path d=\"M 0.0 0.0 L 1.0 0.0 L 1.0 1.0 L 0.0 1.0 L 0.0 0.0 Z\" style=\"vector-effect: non-scaling-stroke;\" /></g></g></g></g></g></g></g></g></g><g /><g style=\"stroke: black;stroke-width: 1.797;\" transform=\"matrix(1.0, 0.0, 0.0, 1.0, 2.5, 0.0)\"><g /></g><g transform=\"matrix(1.0, 0.0, 0.0, 1.0, 4.0, 0.0)\"><g><g transform=\"matrix(1.0, 0.0, 0.0, 1.0, -0.5, -1.5)\"><g><g style=\"fill: #ffa500;stroke: black;stroke-width: 1.797;fill-opacity: 0.4101760077476502;\" transform=\"matrix(1.0, 0.0, 0.0, 1.0, -0.5, -0.5)\"><path d=\"M 0.0 0.0 L 1.0 0.0 L 1.0 1.0 L 0.0 1.0 L 0.0 0.0 Z\" style=\"vector-effect: non-scaling-stroke;\" /></g><g transform=\"matrix(1.0, 0.0, 0.0, 1.0, 0.5, 0.0)\"><g transform=\"matrix(1.0, -0.0, 0.0, 1.0, 0.0, 0.0)\"><g /></g></g><g style=\"fill: #ffa500;stroke: black;stroke-width: 1.797;fill-opacity: 0.4279419052600861;\" transform=\"matrix(1.0, 0.0, 0.0, 1.0, 0.5, -0.5)\"><path d=\"M 0.0 0.0 L 1.0 0.0 L 1.0 1.0 L 0.0 1.0 L 0.0 0.0 Z\" style=\"vector-effect: non-scaling-stroke;\" /></g><g transform=\"matrix(1.0, 0.0, 0.0, 1.0, 0.0, 0.5)\"><g transform=\"matrix(0.0, -1.0, 1.0, 0.0, 0.0, 0.0)\"><g /></g></g><g transform=\"matrix(1.0, 0.0, 0.0, 1.0, 0.0, 1.0)\"><g><g style=\"fill: #ffa500;stroke: black;stroke-width: 1.797;fill-opacity: 0.4078980147838593;\" transform=\"matrix(1.0, 0.0, 0.0, 1.0, -0.5, -0.5)\"><path d=\"M 0.0 0.0 L 1.0 0.0 L 1.0 1.0 L 0.0 1.0 L 0.0 0.0 Z\" style=\"vector-effect: non-scaling-stroke;\" /></g><g transform=\"matrix(1.0, 0.0, 0.0, 1.0, 0.5, 0.0)\"><g transform=\"matrix(1.0, -0.0, 0.0, 1.0, 0.0, 0.0)\"><g /></g></g><g style=\"fill: #ffa500;stroke: black;stroke-width: 1.797;fill-opacity: 0.42774723410606386;\" transform=\"matrix(1.0, 0.0, 0.0, 1.0, 0.5, -0.5)\"><path d=\"M 0.0 0.0 L 1.0 0.0 L 1.0 1.0 L 0.0 1.0 L 0.0 0.0 Z\" style=\"vector-effect: non-scaling-stroke;\" /></g><g transform=\"matrix(1.0, 0.0, 0.0, 1.0, 0.0, 0.5)\"><g transform=\"matrix(0.0, -1.0, 1.0, 0.0, 0.0, 0.0)\"><g /></g></g><g transform=\"matrix(1.0, 0.0, 0.0, 1.0, 0.0, 1.0)\"><g><g style=\"fill: #ffa500;stroke: black;stroke-width: 1.797;fill-opacity: 0.40419675230979923;\" transform=\"matrix(1.0, 0.0, 0.0, 1.0, -0.5, -0.5)\"><path d=\"M 0.0 0.0 L 1.0 0.0 L 1.0 1.0 L 0.0 1.0 L 0.0 0.0 Z\" style=\"vector-effect: non-scaling-stroke;\" /></g><g transform=\"matrix(1.0, 0.0, 0.0, 1.0, 0.5, 0.0)\"><g transform=\"matrix(1.0, -0.0, 0.0, 1.0, 0.0, 0.0)\"><g /></g></g><g style=\"fill: #ffa500;stroke: black;stroke-width: 1.797;fill-opacity: 0.4396676826477051;\" transform=\"matrix(1.0, 0.0, 0.0, 1.0, 0.5, -0.5)\"><path d=\"M 0.0 0.0 L 1.0 0.0 L 1.0 1.0 L 0.0 1.0 L 0.0 0.0 Z\" style=\"vector-effect: non-scaling-stroke;\" /></g></g></g><g transform=\"matrix(1.0, 0.0, 0.0, 1.0, 0.0, 1.5)\"><g transform=\"matrix(0.0, -1.0, 1.0, 0.0, 0.0, 0.0)\"><g /></g></g><g transform=\"matrix(1.0, 0.0, 0.0, 1.0, 0.0, 2.0)\"><g><g style=\"fill: #ffa500;stroke: black;stroke-width: 1.797;fill-opacity: 0.4420761168003082;\" transform=\"matrix(1.0, 0.0, 0.0, 1.0, -0.5, -0.5)\"><path d=\"M 0.0 0.0 L 1.0 0.0 L 1.0 1.0 L 0.0 1.0 L 0.0 0.0 Z\" style=\"vector-effect: non-scaling-stroke;\" /></g><g transform=\"matrix(1.0, 0.0, 0.0, 1.0, 0.5, 0.0)\"><g transform=\"matrix(1.0, -0.0, 0.0, 1.0, 0.0, 0.0)\"><g /></g></g><g style=\"fill: #ffa500;stroke: black;stroke-width: 1.797;fill-opacity: 0.41032438397407534;\" transform=\"matrix(1.0, 0.0, 0.0, 1.0, 0.5, -0.5)\"><path d=\"M 0.0 0.0 L 1.0 0.0 L 1.0 1.0 L 0.0 1.0 L 0.0 0.0 Z\" style=\"vector-effect: non-scaling-stroke;\" /></g></g></g></g></g></g></g><g /></g></g><g style=\"stroke: black;stroke-width: 1.797;\" transform=\"matrix(1.0, 0.0, 0.0, 1.0, 5.5, 0.0)\"><g /></g><g transform=\"matrix(1.0, 0.0, 0.0, 1.0, 7.0, 0.0)\"><g><g transform=\"matrix(1.0, 0.0, 0.0, 1.0, -0.5, -0.0)\"><g><g style=\"fill: #0000ff;stroke: black;stroke-width: 1.797;fill-opacity: 0.4588446974754334;\" transform=\"matrix(1.0, 0.0, 0.0, 1.0, -0.5, -0.5)\"><path d=\"M 0.0 0.0 L 1.0 0.0 L 1.0 1.0 L 0.0 1.0 L 0.0 0.0 Z\" style=\"vector-effect: non-scaling-stroke;\" /></g><g transform=\"matrix(1.0, 0.0, 0.0, 1.0, 0.5, 0.0)\"><g transform=\"matrix(1.0, -0.0, 0.0, 1.0, 0.0, 0.0)\"><g /></g></g><g style=\"fill: #0000ff;stroke: black;stroke-width: 1.797;fill-opacity: 0.4254023396968842;\" transform=\"matrix(1.0, 0.0, 0.0, 1.0, 0.5, -0.5)\"><path d=\"M 0.0 0.0 L 1.0 0.0 L 1.0 1.0 L 0.0 1.0 L 0.0 0.0 Z\" style=\"vector-effect: non-scaling-stroke;\" /></g><g transform=\"matrix(1.0, 0.0, 0.0, 1.0, 0.0, 0.5)\"><g transform=\"matrix(0.0, -1.0, 1.0, 0.0, 0.0, 0.0)\"><g /></g></g><g transform=\"matrix(1.0, 0.0, 0.0, 1.0, 0.0, 0.5)\"><g /></g></g></g><g /><g style=\"stroke: black;stroke-width: 1.797;\" transform=\"matrix(1.0, 0.0, 0.0, 1.0, 1.5, 0.0)\"><g /></g><g transform=\"matrix(1.0, 0.0, 0.0, 1.0, 3.0, 0.0)\"><g><g transform=\"matrix(1.0, 0.0, 0.0, 1.0, -0.5, -1.5)\"><g><g style=\"fill: #0000ff;stroke: black;stroke-width: 1.797;fill-opacity: 0.43893710613250736;\" transform=\"matrix(1.0, 0.0, 0.0, 1.0, -0.5, -0.5)\"><path d=\"M 0.0 0.0 L 1.0 0.0 L 1.0 1.0 L 0.0 1.0 L 0.0 0.0 Z\" style=\"vector-effect: non-scaling-stroke;\" /></g><g transform=\"matrix(1.0, 0.0, 0.0, 1.0, 0.5, 0.0)\"><g transform=\"matrix(1.0, -0.0, 0.0, 1.0, 0.0, 0.0)\"><g /></g></g><g style=\"fill: #ffa500;stroke: black;stroke-width: 1.797;fill-opacity: 0.4120152056217194;\" transform=\"matrix(1.0, 0.0, 0.0, 1.0, 0.5, -0.5)\"><path d=\"M 0.0 0.0 L 1.0 0.0 L 1.0 1.0 L 0.0 1.0 L 0.0 0.0 Z\" style=\"vector-effect: non-scaling-stroke;\" /></g><g transform=\"matrix(1.0, 0.0, 0.0, 1.0, 0.0, 0.5)\"><g transform=\"matrix(0.0, -1.0, 1.0, 0.0, 0.0, 0.0)\"><g /></g></g><g transform=\"matrix(1.0, 0.0, 0.0, 1.0, 0.0, 1.0)\"><g><g style=\"fill: #0000ff;stroke: black;stroke-width: 1.797;fill-opacity: 0.44793809175491334;\" transform=\"matrix(1.0, 0.0, 0.0, 1.0, -0.5, -0.5)\"><path d=\"M 0.0 0.0 L 1.0 0.0 L 1.0 1.0 L 0.0 1.0 L 0.0 0.0 Z\" style=\"vector-effect: non-scaling-stroke;\" /></g><g transform=\"matrix(1.0, 0.0, 0.0, 1.0, 0.5, 0.0)\"><g transform=\"matrix(1.0, -0.0, 0.0, 1.0, 0.0, 0.0)\"><g /></g></g><g style=\"fill: #ffa500;stroke: black;stroke-width: 1.797;fill-opacity: 0.4083849108219147;\" transform=\"matrix(1.0, 0.0, 0.0, 1.0, 0.5, -0.5)\"><path d=\"M 0.0 0.0 L 1.0 0.0 L 1.0 1.0 L 0.0 1.0 L 0.0 0.0 Z\" style=\"vector-effect: non-scaling-stroke;\" /></g><g transform=\"matrix(1.0, 0.0, 0.0, 1.0, 0.0, 0.5)\"><g transform=\"matrix(0.0, -1.0, 1.0, 0.0, 0.0, 0.0)\"><g /></g></g><g transform=\"matrix(1.0, 0.0, 0.0, 1.0, 0.0, 1.0)\"><g><g style=\"fill: #0000ff;stroke: black;stroke-width: 1.797;fill-opacity: 0.4495060682296753;\" transform=\"matrix(1.0, 0.0, 0.0, 1.0, -0.5, -0.5)\"><path d=\"M 0.0 0.0 L 1.0 0.0 L 1.0 1.0 L 0.0 1.0 L 0.0 0.0 Z\" style=\"vector-effect: non-scaling-stroke;\" /></g><g transform=\"matrix(1.0, 0.0, 0.0, 1.0, 0.5, 0.0)\"><g transform=\"matrix(1.0, -0.0, 0.0, 1.0, 0.0, 0.0)\"><g /></g></g><g style=\"fill: #ffa500;stroke: black;stroke-width: 1.797;fill-opacity: 0.4186171090602875;\" transform=\"matrix(1.0, 0.0, 0.0, 1.0, 0.5, -0.5)\"><path d=\"M 0.0 0.0 L 1.0 0.0 L 1.0 1.0 L 0.0 1.0 L 0.0 0.0 Z\" style=\"vector-effect: non-scaling-stroke;\" /></g></g></g><g transform=\"matrix(1.0, 0.0, 0.0, 1.0, 0.0, 1.5)\"><g transform=\"matrix(0.0, -1.0, 1.0, 0.0, 0.0, 0.0)\"><g /></g></g><g transform=\"matrix(1.0, 0.0, 0.0, 1.0, 0.0, 2.0)\"><g><g style=\"fill: #0000ff;stroke: black;stroke-width: 1.797;fill-opacity: 0.4293177926540375;\" transform=\"matrix(1.0, 0.0, 0.0, 1.0, -0.5, -0.5)\"><path d=\"M 0.0 0.0 L 1.0 0.0 L 1.0 1.0 L 0.0 1.0 L 0.0 0.0 Z\" style=\"vector-effect: non-scaling-stroke;\" /></g><g transform=\"matrix(1.0, 0.0, 0.0, 1.0, 0.5, 0.0)\"><g transform=\"matrix(1.0, -0.0, 0.0, 1.0, 0.0, 0.0)\"><g /></g></g><g style=\"fill: #ffa500;stroke: black;stroke-width: 1.797;fill-opacity: 0.42456592679023747;\" transform=\"matrix(1.0, 0.0, 0.0, 1.0, 0.5, -0.5)\"><path d=\"M 0.0 0.0 L 1.0 0.0 L 1.0 1.0 L 0.0 1.0 L 0.0 0.0 Z\" style=\"vector-effect: non-scaling-stroke;\" /></g></g></g></g></g></g></g><g /></g></g></g></g></g></g><g style=\"stroke: black;stroke-width: 1.797;\" transform=\"matrix(0.0, -1.0, 1.0, 0.0, 0.0, 2.5)\"><g /></g><g transform=\"matrix(1.0, 0.0, 0.0, 1.0, 0.0, 3.0)\"><g /></g></g></g></g><g /></g></g></g></g><g /></g></g></g></g></svg>"
      ],
      "text/html": [
       "<?xml version=\"1.0\" encoding=\"utf-8\" ?>\n",
       "<svg baseProfile=\"full\" height=\"300\" version=\"1.1\" width=\"599\" xmlns=\"http://www.w3.org/2000/svg\" xmlns:ev=\"http://www.w3.org/2001/xml-events\" xmlns:xlink=\"http://www.w3.org/1999/xlink\"><defs><marker id=\"arrow\" markerHeight=\"3.5\" markerWidth=\"5\" orient=\"auto\" refX=\"5.0\" refY=\"1.7\"><polygon points=\"0,0 5,1.75 0,3.5\" /></marker></defs><g style=\"fill:white;\"><g transform=\"matrix(1.0, 0.0, 0.0, 1.0, 299.997857173469, 150.0)\"><g transform=\"matrix(34.01311954046915, 0.0, 0.0, 34.01311954046915, 0.0, 0.0)\"><g><g transform=\"matrix(1.0, 0.0, 0.0, 1.0, -0.0, -0.0)\"><g><g style=\"fill: #ffffff;stroke: black;stroke-width: 1.797;\" transform=\"matrix(1.0, 0.0, 0.0, 1.0, -8.40006, -4.20006)\"><path d=\"M 0.0 0.0 L 16.80012 0.0 L 16.80012 8.40012 L 0.0 8.40012 L 0.0 0.0 Z\" style=\"vector-effect: non-scaling-stroke;\" /></g><g transform=\"matrix(1.0, 0.0, 0.0, 1.0, -0.0, -3.60006)\"><g><g style=\"stroke: black;stroke-width: 1.797;\" transform=\"matrix(1.0, 0.0, 0.0, 1.0, 0.0, 0.0)\"><g /></g><g style=\"fill: #000000;stroke: black;stroke-width: 0.0;\" transform=\"matrix(1.0, 0.0, 0.0, 1.0, 0.0, 0.5)\"><text style=\"text-align:center; text-anchor:middle; dominant-baseline:middle;&#10;                      font-family:sans-serif; font-weight: bold;&#10;                      font-size:0.75px;&#10;                      vector-effect: non-scaling-stroke;\" transform=\"translate(-5e-05, 0)\" /></g><g style=\"stroke: black;stroke-width: 1.797;\" transform=\"matrix(1.0, 0.0, 0.0, 1.0, 0.0, 1.0001)\"><g /></g><g transform=\"matrix(1.0, 0.0, 0.0, 1.0, 0.0, 4.0001)\"><g transform=\"matrix(1.0, 0.0, 0.0, 1.0, -7.0, -0.5)\"><g><g transform=\"matrix(1.0, 0.0, 0.0, 1.0, -5e-05, -0.25005)\"><g><g style=\"stroke: black;stroke-width: 1.797;\" transform=\"matrix(1.0, 0.0, 0.0, 1.0, 0.0, 0.0)\"><g /></g><g style=\"fill: #000000;stroke: black;stroke-width: 0.0;\" transform=\"matrix(1.0, 0.0, 0.0, 1.0, 0.0, 0.25)\"><text style=\"text-align:center; text-anchor:middle; dominant-baseline:middle;&#10;                      font-family:sans-serif; font-weight: bold;&#10;                      font-size:0.5px;&#10;                      vector-effect: non-scaling-stroke;\" transform=\"translate(-5e-05, 0)\" /></g><g style=\"stroke: black;stroke-width: 1.797;\" transform=\"matrix(1.0, 0.0, 0.0, 1.0, 0.0, 0.5001)\"><g /></g></g></g><g /><g style=\"stroke: black;stroke-width: 1.797;\" transform=\"matrix(1.0, 0.0, 0.0, 1.0, 0.50005, 0.0)\"><g /></g><g transform=\"matrix(1.0, 0.0, 0.0, 1.0, 3.00005, 0.0)\"><g><g transform=\"matrix(1.0, 0.0, 0.0, 1.0, -1.5, -1.5)\"><g><g style=\"fill: #ffa500;stroke: black;stroke-width: 1.797;fill-opacity: 0.43906777262687685;\" transform=\"matrix(1.0, 0.0, 0.0, 1.0, -0.5, -0.5)\"><path d=\"M 0.0 0.0 L 1.0 0.0 L 1.0 1.0 L 0.0 1.0 L 0.0 0.0 Z\" style=\"vector-effect: non-scaling-stroke;\" /></g><g transform=\"matrix(1.0, 0.0, 0.0, 1.0, 0.5, 0.0)\"><g transform=\"matrix(1.0, -0.0, 0.0, 1.0, 0.0, 0.0)\"><g /></g></g><g transform=\"matrix(1.0, 0.0, 0.0, 1.0, 1.0, 0.0)\"><g><g style=\"fill: #ffa500;stroke: black;stroke-width: 1.797;fill-opacity: 0.4047591328620911;\" transform=\"matrix(1.0, 0.0, 0.0, 1.0, -0.5, -0.5)\"><path d=\"M 0.0 0.0 L 1.0 0.0 L 1.0 1.0 L 0.0 1.0 L 0.0 0.0 Z\" style=\"vector-effect: non-scaling-stroke;\" /></g><g transform=\"matrix(1.0, 0.0, 0.0, 1.0, 0.5, 0.0)\"><g transform=\"matrix(1.0, -0.0, 0.0, 1.0, 0.0, 0.0)\"><g /></g></g><g style=\"fill: #ffa500;stroke: black;stroke-width: 1.797;fill-opacity: 0.42161234974861145;\" transform=\"matrix(1.0, 0.0, 0.0, 1.0, 0.5, -0.5)\"><path d=\"M 0.0 0.0 L 1.0 0.0 L 1.0 1.0 L 0.0 1.0 L 0.0 0.0 Z\" style=\"vector-effect: non-scaling-stroke;\" /></g><g transform=\"matrix(1.0, 0.0, 0.0, 1.0, 1.5, 0.0)\"><g transform=\"matrix(1.0, -0.0, 0.0, 1.0, 0.0, 0.0)\"><g /></g></g><g style=\"fill: #ffa500;stroke: black;stroke-width: 1.797;fill-opacity: 0.41589053988456726;\" transform=\"matrix(1.0, 0.0, 0.0, 1.0, 1.5, -0.5)\"><path d=\"M 0.0 0.0 L 1.0 0.0 L 1.0 1.0 L 0.0 1.0 L 0.0 0.0 Z\" style=\"vector-effect: non-scaling-stroke;\" /></g></g></g><g transform=\"matrix(1.0, 0.0, 0.0, 1.0, 0.0, 0.5)\"><g transform=\"matrix(0.0, -1.0, 1.0, 0.0, 0.0, 0.0)\"><g /></g></g><g transform=\"matrix(1.0, 0.0, 0.0, 1.0, 0.0, 1.0)\"><g><g style=\"fill: #ffa500;stroke: black;stroke-width: 1.797;fill-opacity: 0.41450972437858585;\" transform=\"matrix(1.0, 0.0, 0.0, 1.0, -0.5, -0.5)\"><path d=\"M 0.0 0.0 L 1.0 0.0 L 1.0 1.0 L 0.0 1.0 L 0.0 0.0 Z\" style=\"vector-effect: non-scaling-stroke;\" /></g><g transform=\"matrix(1.0, 0.0, 0.0, 1.0, 0.5, 0.0)\"><g transform=\"matrix(1.0, -0.0, 0.0, 1.0, 0.0, 0.0)\"><g /></g></g><g transform=\"matrix(1.0, 0.0, 0.0, 1.0, 1.0, 0.0)\"><g><g style=\"fill: #ffa500;stroke: black;stroke-width: 1.797;fill-opacity: 0.43819357991218566;\" transform=\"matrix(1.0, 0.0, 0.0, 1.0, -0.5, -0.5)\"><path d=\"M 0.0 0.0 L 1.0 0.0 L 1.0 1.0 L 0.0 1.0 L 0.0 0.0 Z\" style=\"vector-effect: non-scaling-stroke;\" /></g><g transform=\"matrix(1.0, 0.0, 0.0, 1.0, 0.5, 0.0)\"><g transform=\"matrix(1.0, -0.0, 0.0, 1.0, 0.0, 0.0)\"><g /></g></g><g style=\"fill: #ffa500;stroke: black;stroke-width: 1.797;fill-opacity: 0.413243864774704;\" transform=\"matrix(1.0, 0.0, 0.0, 1.0, 0.5, -0.5)\"><path d=\"M 0.0 0.0 L 1.0 0.0 L 1.0 1.0 L 0.0 1.0 L 0.0 0.0 Z\" style=\"vector-effect: non-scaling-stroke;\" /></g><g transform=\"matrix(1.0, 0.0, 0.0, 1.0, 1.5, 0.0)\"><g transform=\"matrix(1.0, -0.0, 0.0, 1.0, 0.0, 0.0)\"><g /></g></g><g style=\"fill: #ffa500;stroke: black;stroke-width: 1.797;fill-opacity: 0.4035533332824707;\" transform=\"matrix(1.0, 0.0, 0.0, 1.0, 1.5, -0.5)\"><path d=\"M 0.0 0.0 L 1.0 0.0 L 1.0 1.0 L 0.0 1.0 L 0.0 0.0 Z\" style=\"vector-effect: non-scaling-stroke;\" /></g></g></g><g transform=\"matrix(1.0, 0.0, 0.0, 1.0, 0.0, 0.5)\"><g transform=\"matrix(0.0, -1.0, 1.0, 0.0, 0.0, 0.0)\"><g /></g></g><g transform=\"matrix(1.0, 0.0, 0.0, 1.0, 0.0, 1.0)\"><g><g style=\"fill: #ffa500;stroke: black;stroke-width: 1.797;fill-opacity: 0.4229780697822571;\" transform=\"matrix(1.0, 0.0, 0.0, 1.0, -0.5, -0.5)\"><path d=\"M 0.0 0.0 L 1.0 0.0 L 1.0 1.0 L 0.0 1.0 L 0.0 0.0 Z\" style=\"vector-effect: non-scaling-stroke;\" /></g><g transform=\"matrix(1.0, 0.0, 0.0, 1.0, 0.5, 0.0)\"><g transform=\"matrix(1.0, -0.0, 0.0, 1.0, 0.0, 0.0)\"><g /></g></g><g transform=\"matrix(1.0, 0.0, 0.0, 1.0, 1.0, 0.0)\"><g><g style=\"fill: #ffa500;stroke: black;stroke-width: 1.797;fill-opacity: 0.4166704905033112;\" transform=\"matrix(1.0, 0.0, 0.0, 1.0, -0.5, -0.5)\"><path d=\"M 0.0 0.0 L 1.0 0.0 L 1.0 1.0 L 0.0 1.0 L 0.0 0.0 Z\" style=\"vector-effect: non-scaling-stroke;\" /></g><g transform=\"matrix(1.0, 0.0, 0.0, 1.0, 0.5, 0.0)\"><g transform=\"matrix(1.0, -0.0, 0.0, 1.0, 0.0, 0.0)\"><g /></g></g><g style=\"fill: #ffa500;stroke: black;stroke-width: 1.797;fill-opacity: 0.4385308086872101;\" transform=\"matrix(1.0, 0.0, 0.0, 1.0, 0.5, -0.5)\"><path d=\"M 0.0 0.0 L 1.0 0.0 L 1.0 1.0 L 0.0 1.0 L 0.0 0.0 Z\" style=\"vector-effect: non-scaling-stroke;\" /></g><g transform=\"matrix(1.0, 0.0, 0.0, 1.0, 1.5, 0.0)\"><g transform=\"matrix(1.0, -0.0, 0.0, 1.0, 0.0, 0.0)\"><g /></g></g><g style=\"fill: #ffa500;stroke: black;stroke-width: 1.797;fill-opacity: 0.4007872533798218;\" transform=\"matrix(1.0, 0.0, 0.0, 1.0, 1.5, -0.5)\"><path d=\"M 0.0 0.0 L 1.0 0.0 L 1.0 1.0 L 0.0 1.0 L 0.0 0.0 Z\" style=\"vector-effect: non-scaling-stroke;\" /></g></g></g></g></g><g transform=\"matrix(1.0, 0.0, 0.0, 1.0, 0.0, 1.5)\"><g transform=\"matrix(0.0, -1.0, 1.0, 0.0, 0.0, 0.0)\"><g /></g></g><g transform=\"matrix(1.0, 0.0, 0.0, 1.0, 0.0, 2.0)\"><g><g style=\"fill: #ffa500;stroke: black;stroke-width: 1.797;fill-opacity: 0.45448628664016727;\" transform=\"matrix(1.0, 0.0, 0.0, 1.0, -0.5, -0.5)\"><path d=\"M 0.0 0.0 L 1.0 0.0 L 1.0 1.0 L 0.0 1.0 L 0.0 0.0 Z\" style=\"vector-effect: non-scaling-stroke;\" /></g><g transform=\"matrix(1.0, 0.0, 0.0, 1.0, 0.5, 0.0)\"><g transform=\"matrix(1.0, -0.0, 0.0, 1.0, 0.0, 0.0)\"><g /></g></g><g transform=\"matrix(1.0, 0.0, 0.0, 1.0, 1.0, 0.0)\"><g><g style=\"fill: #ffa500;stroke: black;stroke-width: 1.797;fill-opacity: 0.4430510747432709;\" transform=\"matrix(1.0, 0.0, 0.0, 1.0, -0.5, -0.5)\"><path d=\"M 0.0 0.0 L 1.0 0.0 L 1.0 1.0 L 0.0 1.0 L 0.0 0.0 Z\" style=\"vector-effect: non-scaling-stroke;\" /></g><g transform=\"matrix(1.0, 0.0, 0.0, 1.0, 0.5, 0.0)\"><g transform=\"matrix(1.0, -0.0, 0.0, 1.0, 0.0, 0.0)\"><g /></g></g><g style=\"fill: #ffa500;stroke: black;stroke-width: 1.797;fill-opacity: 0.4017047691345215;\" transform=\"matrix(1.0, 0.0, 0.0, 1.0, 0.5, -0.5)\"><path d=\"M 0.0 0.0 L 1.0 0.0 L 1.0 1.0 L 0.0 1.0 L 0.0 0.0 Z\" style=\"vector-effect: non-scaling-stroke;\" /></g><g transform=\"matrix(1.0, 0.0, 0.0, 1.0, 1.5, 0.0)\"><g transform=\"matrix(1.0, -0.0, 0.0, 1.0, 0.0, 0.0)\"><g /></g></g><g style=\"fill: #ffa500;stroke: black;stroke-width: 1.797;fill-opacity: 0.42067654848098757;\" transform=\"matrix(1.0, 0.0, 0.0, 1.0, 1.5, -0.5)\"><path d=\"M 0.0 0.0 L 1.0 0.0 L 1.0 1.0 L 0.0 1.0 L 0.0 0.0 Z\" style=\"vector-effect: non-scaling-stroke;\" /></g></g></g></g></g></g></g></g></g><g /><g style=\"stroke: black;stroke-width: 1.797;\" transform=\"matrix(1.0, 0.0, 0.0, 1.0, 2.5, 0.0)\"><g /></g><g transform=\"matrix(1.0, 0.0, 0.0, 1.0, 4.0, 0.0)\"><g><g transform=\"matrix(1.0, 0.0, 0.0, 1.0, -0.5, -1.5)\"><g><g style=\"fill: #ffa500;stroke: black;stroke-width: 1.797;fill-opacity: 0.4101760077476502;\" transform=\"matrix(1.0, 0.0, 0.0, 1.0, -0.5, -0.5)\"><path d=\"M 0.0 0.0 L 1.0 0.0 L 1.0 1.0 L 0.0 1.0 L 0.0 0.0 Z\" style=\"vector-effect: non-scaling-stroke;\" /></g><g transform=\"matrix(1.0, 0.0, 0.0, 1.0, 0.5, 0.0)\"><g transform=\"matrix(1.0, -0.0, 0.0, 1.0, 0.0, 0.0)\"><g /></g></g><g style=\"fill: #ffa500;stroke: black;stroke-width: 1.797;fill-opacity: 0.4279419052600861;\" transform=\"matrix(1.0, 0.0, 0.0, 1.0, 0.5, -0.5)\"><path d=\"M 0.0 0.0 L 1.0 0.0 L 1.0 1.0 L 0.0 1.0 L 0.0 0.0 Z\" style=\"vector-effect: non-scaling-stroke;\" /></g><g transform=\"matrix(1.0, 0.0, 0.0, 1.0, 0.0, 0.5)\"><g transform=\"matrix(0.0, -1.0, 1.0, 0.0, 0.0, 0.0)\"><g /></g></g><g transform=\"matrix(1.0, 0.0, 0.0, 1.0, 0.0, 1.0)\"><g><g style=\"fill: #ffa500;stroke: black;stroke-width: 1.797;fill-opacity: 0.4078980147838593;\" transform=\"matrix(1.0, 0.0, 0.0, 1.0, -0.5, -0.5)\"><path d=\"M 0.0 0.0 L 1.0 0.0 L 1.0 1.0 L 0.0 1.0 L 0.0 0.0 Z\" style=\"vector-effect: non-scaling-stroke;\" /></g><g transform=\"matrix(1.0, 0.0, 0.0, 1.0, 0.5, 0.0)\"><g transform=\"matrix(1.0, -0.0, 0.0, 1.0, 0.0, 0.0)\"><g /></g></g><g style=\"fill: #ffa500;stroke: black;stroke-width: 1.797;fill-opacity: 0.42774723410606386;\" transform=\"matrix(1.0, 0.0, 0.0, 1.0, 0.5, -0.5)\"><path d=\"M 0.0 0.0 L 1.0 0.0 L 1.0 1.0 L 0.0 1.0 L 0.0 0.0 Z\" style=\"vector-effect: non-scaling-stroke;\" /></g><g transform=\"matrix(1.0, 0.0, 0.0, 1.0, 0.0, 0.5)\"><g transform=\"matrix(0.0, -1.0, 1.0, 0.0, 0.0, 0.0)\"><g /></g></g><g transform=\"matrix(1.0, 0.0, 0.0, 1.0, 0.0, 1.0)\"><g><g style=\"fill: #ffa500;stroke: black;stroke-width: 1.797;fill-opacity: 0.40419675230979923;\" transform=\"matrix(1.0, 0.0, 0.0, 1.0, -0.5, -0.5)\"><path d=\"M 0.0 0.0 L 1.0 0.0 L 1.0 1.0 L 0.0 1.0 L 0.0 0.0 Z\" style=\"vector-effect: non-scaling-stroke;\" /></g><g transform=\"matrix(1.0, 0.0, 0.0, 1.0, 0.5, 0.0)\"><g transform=\"matrix(1.0, -0.0, 0.0, 1.0, 0.0, 0.0)\"><g /></g></g><g style=\"fill: #ffa500;stroke: black;stroke-width: 1.797;fill-opacity: 0.4396676826477051;\" transform=\"matrix(1.0, 0.0, 0.0, 1.0, 0.5, -0.5)\"><path d=\"M 0.0 0.0 L 1.0 0.0 L 1.0 1.0 L 0.0 1.0 L 0.0 0.0 Z\" style=\"vector-effect: non-scaling-stroke;\" /></g></g></g><g transform=\"matrix(1.0, 0.0, 0.0, 1.0, 0.0, 1.5)\"><g transform=\"matrix(0.0, -1.0, 1.0, 0.0, 0.0, 0.0)\"><g /></g></g><g transform=\"matrix(1.0, 0.0, 0.0, 1.0, 0.0, 2.0)\"><g><g style=\"fill: #ffa500;stroke: black;stroke-width: 1.797;fill-opacity: 0.4420761168003082;\" transform=\"matrix(1.0, 0.0, 0.0, 1.0, -0.5, -0.5)\"><path d=\"M 0.0 0.0 L 1.0 0.0 L 1.0 1.0 L 0.0 1.0 L 0.0 0.0 Z\" style=\"vector-effect: non-scaling-stroke;\" /></g><g transform=\"matrix(1.0, 0.0, 0.0, 1.0, 0.5, 0.0)\"><g transform=\"matrix(1.0, -0.0, 0.0, 1.0, 0.0, 0.0)\"><g /></g></g><g style=\"fill: #ffa500;stroke: black;stroke-width: 1.797;fill-opacity: 0.41032438397407534;\" transform=\"matrix(1.0, 0.0, 0.0, 1.0, 0.5, -0.5)\"><path d=\"M 0.0 0.0 L 1.0 0.0 L 1.0 1.0 L 0.0 1.0 L 0.0 0.0 Z\" style=\"vector-effect: non-scaling-stroke;\" /></g></g></g></g></g></g></g><g /></g></g><g style=\"stroke: black;stroke-width: 1.797;\" transform=\"matrix(1.0, 0.0, 0.0, 1.0, 5.5, 0.0)\"><g /></g><g transform=\"matrix(1.0, 0.0, 0.0, 1.0, 7.0, 0.0)\"><g><g transform=\"matrix(1.0, 0.0, 0.0, 1.0, -0.5, -0.0)\"><g><g style=\"fill: #0000ff;stroke: black;stroke-width: 1.797;fill-opacity: 0.4588446974754334;\" transform=\"matrix(1.0, 0.0, 0.0, 1.0, -0.5, -0.5)\"><path d=\"M 0.0 0.0 L 1.0 0.0 L 1.0 1.0 L 0.0 1.0 L 0.0 0.0 Z\" style=\"vector-effect: non-scaling-stroke;\" /></g><g transform=\"matrix(1.0, 0.0, 0.0, 1.0, 0.5, 0.0)\"><g transform=\"matrix(1.0, -0.0, 0.0, 1.0, 0.0, 0.0)\"><g /></g></g><g style=\"fill: #0000ff;stroke: black;stroke-width: 1.797;fill-opacity: 0.4254023396968842;\" transform=\"matrix(1.0, 0.0, 0.0, 1.0, 0.5, -0.5)\"><path d=\"M 0.0 0.0 L 1.0 0.0 L 1.0 1.0 L 0.0 1.0 L 0.0 0.0 Z\" style=\"vector-effect: non-scaling-stroke;\" /></g><g transform=\"matrix(1.0, 0.0, 0.0, 1.0, 0.0, 0.5)\"><g transform=\"matrix(0.0, -1.0, 1.0, 0.0, 0.0, 0.0)\"><g /></g></g><g transform=\"matrix(1.0, 0.0, 0.0, 1.0, 0.0, 0.5)\"><g /></g></g></g><g /><g style=\"stroke: black;stroke-width: 1.797;\" transform=\"matrix(1.0, 0.0, 0.0, 1.0, 1.5, 0.0)\"><g /></g><g transform=\"matrix(1.0, 0.0, 0.0, 1.0, 3.0, 0.0)\"><g><g transform=\"matrix(1.0, 0.0, 0.0, 1.0, -0.5, -1.5)\"><g><g style=\"fill: #0000ff;stroke: black;stroke-width: 1.797;fill-opacity: 0.43893710613250736;\" transform=\"matrix(1.0, 0.0, 0.0, 1.0, -0.5, -0.5)\"><path d=\"M 0.0 0.0 L 1.0 0.0 L 1.0 1.0 L 0.0 1.0 L 0.0 0.0 Z\" style=\"vector-effect: non-scaling-stroke;\" /></g><g transform=\"matrix(1.0, 0.0, 0.0, 1.0, 0.5, 0.0)\"><g transform=\"matrix(1.0, -0.0, 0.0, 1.0, 0.0, 0.0)\"><g /></g></g><g style=\"fill: #ffa500;stroke: black;stroke-width: 1.797;fill-opacity: 0.4120152056217194;\" transform=\"matrix(1.0, 0.0, 0.0, 1.0, 0.5, -0.5)\"><path d=\"M 0.0 0.0 L 1.0 0.0 L 1.0 1.0 L 0.0 1.0 L 0.0 0.0 Z\" style=\"vector-effect: non-scaling-stroke;\" /></g><g transform=\"matrix(1.0, 0.0, 0.0, 1.0, 0.0, 0.5)\"><g transform=\"matrix(0.0, -1.0, 1.0, 0.0, 0.0, 0.0)\"><g /></g></g><g transform=\"matrix(1.0, 0.0, 0.0, 1.0, 0.0, 1.0)\"><g><g style=\"fill: #0000ff;stroke: black;stroke-width: 1.797;fill-opacity: 0.44793809175491334;\" transform=\"matrix(1.0, 0.0, 0.0, 1.0, -0.5, -0.5)\"><path d=\"M 0.0 0.0 L 1.0 0.0 L 1.0 1.0 L 0.0 1.0 L 0.0 0.0 Z\" style=\"vector-effect: non-scaling-stroke;\" /></g><g transform=\"matrix(1.0, 0.0, 0.0, 1.0, 0.5, 0.0)\"><g transform=\"matrix(1.0, -0.0, 0.0, 1.0, 0.0, 0.0)\"><g /></g></g><g style=\"fill: #ffa500;stroke: black;stroke-width: 1.797;fill-opacity: 0.4083849108219147;\" transform=\"matrix(1.0, 0.0, 0.0, 1.0, 0.5, -0.5)\"><path d=\"M 0.0 0.0 L 1.0 0.0 L 1.0 1.0 L 0.0 1.0 L 0.0 0.0 Z\" style=\"vector-effect: non-scaling-stroke;\" /></g><g transform=\"matrix(1.0, 0.0, 0.0, 1.0, 0.0, 0.5)\"><g transform=\"matrix(0.0, -1.0, 1.0, 0.0, 0.0, 0.0)\"><g /></g></g><g transform=\"matrix(1.0, 0.0, 0.0, 1.0, 0.0, 1.0)\"><g><g style=\"fill: #0000ff;stroke: black;stroke-width: 1.797;fill-opacity: 0.4495060682296753;\" transform=\"matrix(1.0, 0.0, 0.0, 1.0, -0.5, -0.5)\"><path d=\"M 0.0 0.0 L 1.0 0.0 L 1.0 1.0 L 0.0 1.0 L 0.0 0.0 Z\" style=\"vector-effect: non-scaling-stroke;\" /></g><g transform=\"matrix(1.0, 0.0, 0.0, 1.0, 0.5, 0.0)\"><g transform=\"matrix(1.0, -0.0, 0.0, 1.0, 0.0, 0.0)\"><g /></g></g><g style=\"fill: #ffa500;stroke: black;stroke-width: 1.797;fill-opacity: 0.4186171090602875;\" transform=\"matrix(1.0, 0.0, 0.0, 1.0, 0.5, -0.5)\"><path d=\"M 0.0 0.0 L 1.0 0.0 L 1.0 1.0 L 0.0 1.0 L 0.0 0.0 Z\" style=\"vector-effect: non-scaling-stroke;\" /></g></g></g><g transform=\"matrix(1.0, 0.0, 0.0, 1.0, 0.0, 1.5)\"><g transform=\"matrix(0.0, -1.0, 1.0, 0.0, 0.0, 0.0)\"><g /></g></g><g transform=\"matrix(1.0, 0.0, 0.0, 1.0, 0.0, 2.0)\"><g><g style=\"fill: #0000ff;stroke: black;stroke-width: 1.797;fill-opacity: 0.4293177926540375;\" transform=\"matrix(1.0, 0.0, 0.0, 1.0, -0.5, -0.5)\"><path d=\"M 0.0 0.0 L 1.0 0.0 L 1.0 1.0 L 0.0 1.0 L 0.0 0.0 Z\" style=\"vector-effect: non-scaling-stroke;\" /></g><g transform=\"matrix(1.0, 0.0, 0.0, 1.0, 0.5, 0.0)\"><g transform=\"matrix(1.0, -0.0, 0.0, 1.0, 0.0, 0.0)\"><g /></g></g><g style=\"fill: #ffa500;stroke: black;stroke-width: 1.797;fill-opacity: 0.42456592679023747;\" transform=\"matrix(1.0, 0.0, 0.0, 1.0, 0.5, -0.5)\"><path d=\"M 0.0 0.0 L 1.0 0.0 L 1.0 1.0 L 0.0 1.0 L 0.0 0.0 Z\" style=\"vector-effect: non-scaling-stroke;\" /></g></g></g></g></g></g></g><g /></g></g></g></g></g></g><g style=\"stroke: black;stroke-width: 1.797;\" transform=\"matrix(0.0, -1.0, 1.0, 0.0, 0.0, 2.5)\"><g /></g><g transform=\"matrix(1.0, 0.0, 0.0, 1.0, 0.0, 3.0)\"><g /></g></g></g></g><g /></g></g></g></g><g /></g></g></g></g></svg>"
      ],
      "text/plain": [
       "Compose(envelope=<chalk.envelope.Envelope object at 0x7149b57fa6d0>, diagrams=[Primitive(shape=Path(loc_trails=[Located(trail=Trail(segments=[Segment(offset=Vec2(16.80012, 0.0), origin=Vec2(0.0, 0.0)), Segment(offset=Vec2(0.0, 8.40012), origin=Vec2(0.0, 0.0)), Segment(offset=Vec2(-16.80012, 0.0), origin=Vec2(0.0, 0.0)), Segment(offset=Vec2(0.0, -8.40012), origin=Vec2(0.0, 0.0))], closed=True), location=Vec2(0.0, 0.0))]), style=Style(line_width_=None, line_color_=None, fill_color_=<Color white>, fill_opacity_=None, dashing_=None, output_size=None), transform=Affine(1.0, 0.0, -8.40006,\n",
       "       0.0, 1.0, -4.20006)), ApplyTransform(transform=Affine(1.0, 0.0, -0.0,\n",
       "       0.0, 1.0, -3.60006), diagram=Compose(envelope=<chalk.envelope.Envelope object at 0x7149ad971c10>, diagrams=[Primitive(shape=Spacer(width=0, height=1), style=Style(line_width_=None, line_color_=None, fill_color_=None, fill_opacity_=None, dashing_=None, output_size=None), transform=Affine(1.0, 0.0, 0.0,\n",
       "       0.0, 1.0, 0.0)), Primitive(shape=Text(text='', font_size=0.75), style=Style(line_width_=(<WidthType.NORMALIZED: 2>, 0), line_color_=None, fill_color_=<Color black>, fill_opacity_=None, dashing_=None, output_size=None), transform=Affine(1.0, 0.0, 0.0,\n",
       "       0.0, 1.0, 0.5)), Primitive(shape=Spacer(width=0, height=1), style=Style(line_width_=None, line_color_=None, fill_color_=None, fill_opacity_=None, dashing_=None, output_size=None), transform=Affine(1.0, 0.0, 0.0,\n",
       "       0.0, 1.0, 1.0001)), ApplyTransform(transform=Affine(1.0, 0.0, 0.0,\n",
       "       0.0, 1.0, 4.0001), diagram=ApplyTransform(transform=Affine(1.0, 0.0, -7.0,\n",
       "       0.0, 1.0, -0.5), diagram=Compose(envelope=<chalk.envelope.Envelope object at 0x7149ad971610>, diagrams=[ApplyTransform(transform=Affine(1.0, 0.0, -5e-05,\n",
       "       0.0, 1.0, -0.25005), diagram=Compose(envelope=<chalk.envelope.Envelope object at 0x714aac167a90>, diagrams=[Primitive(shape=Spacer(width=0, height=0.5), style=Style(line_width_=None, line_color_=None, fill_color_=None, fill_opacity_=None, dashing_=None, output_size=None), transform=Affine(1.0, 0.0, 0.0,\n",
       "       0.0, 1.0, 0.0)), Primitive(shape=Text(text='', font_size=0.5), style=Style(line_width_=(<WidthType.NORMALIZED: 2>, 0.0), line_color_=None, fill_color_=<Color black>, fill_opacity_=None, dashing_=None, output_size=None), transform=Affine(1.0, 0.0, 0.0,\n",
       "       0.0, 1.0, 0.25)), Primitive(shape=Spacer(width=0, height=0.5), style=Style(line_width_=None, line_color_=None, fill_color_=None, fill_opacity_=None, dashing_=None, output_size=None), transform=Affine(1.0, 0.0, 0.0,\n",
       "       0.0, 1.0, 0.5001))])), Empty(), Primitive(shape=Spacer(width=1.0, height=0), style=Style(line_width_=None, line_color_=None, fill_color_=None, fill_opacity_=None, dashing_=None, output_size=None), transform=Affine(1.0, 0.0, 0.50005,\n",
       "       0.0, 1.0, 0.0)), ApplyTransform(transform=Affine(1.0, 0.0, 3.00005,\n",
       "       0.0, 1.0, 0.0), diagram=Compose(envelope=<chalk.envelope.Envelope object at 0x7149ad971250>, diagrams=[ApplyTransform(transform=Affine(1.0, 0.0, -1.5,\n",
       "       0.0, 1.0, -1.5), diagram=Compose(envelope=<chalk.envelope.Envelope object at 0x7149b0344e10>, diagrams=[Primitive(shape=Path(loc_trails=[Located(trail=Trail(segments=[Segment(offset=Vec2(1.0, 0.0), origin=Vec2(0.0, 0.0)), Segment(offset=Vec2(0.0, 1.0), origin=Vec2(0.0, 0.0)), Segment(offset=Vec2(-1.0, 0.0), origin=Vec2(0.0, 0.0)), Segment(offset=Vec2(0.0, -1.0), origin=Vec2(0.0, 0.0))], closed=True), location=Vec2(0.0, 0.0))]), style=Style(line_width_=None, line_color_=None, fill_color_=<Color orange>, fill_opacity_=0.43906777262687685, dashing_=None, output_size=None), transform=Affine(1.0, 0.0, -0.5,\n",
       "       0.0, 1.0, -0.5)), ApplyTransform(transform=Affine(1.0, 0.0, 0.5,\n",
       "       0.0, 1.0, 0.0), diagram=ApplyTransform(transform=Affine(1.0, 0.0, 0.0,\n",
       "       -0.0, 1.0, 0.0), diagram=Empty())), ApplyTransform(transform=Affine(1.0, 0.0, 1.0,\n",
       "       0.0, 1.0, 0.0), diagram=Compose(envelope=<chalk.envelope.Envelope object at 0x7149b0334d90>, diagrams=[Primitive(shape=Path(loc_trails=[Located(trail=Trail(segments=[Segment(offset=Vec2(1.0, 0.0), origin=Vec2(0.0, 0.0)), Segment(offset=Vec2(0.0, 1.0), origin=Vec2(0.0, 0.0)), Segment(offset=Vec2(-1.0, 0.0), origin=Vec2(0.0, 0.0)), Segment(offset=Vec2(0.0, -1.0), origin=Vec2(0.0, 0.0))], closed=True), location=Vec2(0.0, 0.0))]), style=Style(line_width_=None, line_color_=None, fill_color_=<Color orange>, fill_opacity_=0.4047591328620911, dashing_=None, output_size=None), transform=Affine(1.0, 0.0, -0.5,\n",
       "       0.0, 1.0, -0.5)), ApplyTransform(transform=Affine(1.0, 0.0, 0.5,\n",
       "       0.0, 1.0, 0.0), diagram=ApplyTransform(transform=Affine(1.0, 0.0, 0.0,\n",
       "       -0.0, 1.0, 0.0), diagram=Empty())), Primitive(shape=Path(loc_trails=[Located(trail=Trail(segments=[Segment(offset=Vec2(1.0, 0.0), origin=Vec2(0.0, 0.0)), Segment(offset=Vec2(0.0, 1.0), origin=Vec2(0.0, 0.0)), Segment(offset=Vec2(-1.0, 0.0), origin=Vec2(0.0, 0.0)), Segment(offset=Vec2(0.0, -1.0), origin=Vec2(0.0, 0.0))], closed=True), location=Vec2(0.0, 0.0))]), style=Style(line_width_=None, line_color_=None, fill_color_=<Color orange>, fill_opacity_=0.42161234974861145, dashing_=None, output_size=None), transform=Affine(1.0, 0.0, 0.5,\n",
       "       0.0, 1.0, -0.5)), ApplyTransform(transform=Affine(1.0, 0.0, 1.5,\n",
       "       0.0, 1.0, 0.0), diagram=ApplyTransform(transform=Affine(1.0, 0.0, 0.0,\n",
       "       -0.0, 1.0, 0.0), diagram=Empty())), Primitive(shape=Path(loc_trails=[Located(trail=Trail(segments=[Segment(offset=Vec2(1.0, 0.0), origin=Vec2(0.0, 0.0)), Segment(offset=Vec2(0.0, 1.0), origin=Vec2(0.0, 0.0)), Segment(offset=Vec2(-1.0, 0.0), origin=Vec2(0.0, 0.0)), Segment(offset=Vec2(0.0, -1.0), origin=Vec2(0.0, 0.0))], closed=True), location=Vec2(0.0, 0.0))]), style=Style(line_width_=None, line_color_=None, fill_color_=<Color orange>, fill_opacity_=0.41589053988456726, dashing_=None, output_size=None), transform=Affine(1.0, 0.0, 1.5,\n",
       "       0.0, 1.0, -0.5))])), ApplyTransform(transform=Affine(1.0, 0.0, 0.0,\n",
       "       0.0, 1.0, 0.5), diagram=ApplyTransform(transform=Affine(0.0, 1.0, 0.0,\n",
       "       -1.0, 0.0, 0.0), diagram=Empty())), ApplyTransform(transform=Affine(1.0, 0.0, 0.0,\n",
       "       0.0, 1.0, 1.0), diagram=Compose(envelope=<chalk.envelope.Envelope object at 0x7149b0344290>, diagrams=[Primitive(shape=Path(loc_trails=[Located(trail=Trail(segments=[Segment(offset=Vec2(1.0, 0.0), origin=Vec2(0.0, 0.0)), Segment(offset=Vec2(0.0, 1.0), origin=Vec2(0.0, 0.0)), Segment(offset=Vec2(-1.0, 0.0), origin=Vec2(0.0, 0.0)), Segment(offset=Vec2(0.0, -1.0), origin=Vec2(0.0, 0.0))], closed=True), location=Vec2(0.0, 0.0))]), style=Style(line_width_=None, line_color_=None, fill_color_=<Color orange>, fill_opacity_=0.41450972437858585, dashing_=None, output_size=None), transform=Affine(1.0, 0.0, -0.5,\n",
       "       0.0, 1.0, -0.5)), ApplyTransform(transform=Affine(1.0, 0.0, 0.5,\n",
       "       0.0, 1.0, 0.0), diagram=ApplyTransform(transform=Affine(1.0, 0.0, 0.0,\n",
       "       -0.0, 1.0, 0.0), diagram=Empty())), ApplyTransform(transform=Affine(1.0, 0.0, 1.0,\n",
       "       0.0, 1.0, 0.0), diagram=Compose(envelope=<chalk.envelope.Envelope object at 0x7149b03f0e90>, diagrams=[Primitive(shape=Path(loc_trails=[Located(trail=Trail(segments=[Segment(offset=Vec2(1.0, 0.0), origin=Vec2(0.0, 0.0)), Segment(offset=Vec2(0.0, 1.0), origin=Vec2(0.0, 0.0)), Segment(offset=Vec2(-1.0, 0.0), origin=Vec2(0.0, 0.0)), Segment(offset=Vec2(0.0, -1.0), origin=Vec2(0.0, 0.0))], closed=True), location=Vec2(0.0, 0.0))]), style=Style(line_width_=None, line_color_=None, fill_color_=<Color orange>, fill_opacity_=0.43819357991218566, dashing_=None, output_size=None), transform=Affine(1.0, 0.0, -0.5,\n",
       "       0.0, 1.0, -0.5)), ApplyTransform(transform=Affine(1.0, 0.0, 0.5,\n",
       "       0.0, 1.0, 0.0), diagram=ApplyTransform(transform=Affine(1.0, 0.0, 0.0,\n",
       "       -0.0, 1.0, 0.0), diagram=Empty())), Primitive(shape=Path(loc_trails=[Located(trail=Trail(segments=[Segment(offset=Vec2(1.0, 0.0), origin=Vec2(0.0, 0.0)), Segment(offset=Vec2(0.0, 1.0), origin=Vec2(0.0, 0.0)), Segment(offset=Vec2(-1.0, 0.0), origin=Vec2(0.0, 0.0)), Segment(offset=Vec2(0.0, -1.0), origin=Vec2(0.0, 0.0))], closed=True), location=Vec2(0.0, 0.0))]), style=Style(line_width_=None, line_color_=None, fill_color_=<Color orange>, fill_opacity_=0.413243864774704, dashing_=None, output_size=None), transform=Affine(1.0, 0.0, 0.5,\n",
       "       0.0, 1.0, -0.5)), ApplyTransform(transform=Affine(1.0, 0.0, 1.5,\n",
       "       0.0, 1.0, 0.0), diagram=ApplyTransform(transform=Affine(1.0, 0.0, 0.0,\n",
       "       -0.0, 1.0, 0.0), diagram=Empty())), Primitive(shape=Path(loc_trails=[Located(trail=Trail(segments=[Segment(offset=Vec2(1.0, 0.0), origin=Vec2(0.0, 0.0)), Segment(offset=Vec2(0.0, 1.0), origin=Vec2(0.0, 0.0)), Segment(offset=Vec2(-1.0, 0.0), origin=Vec2(0.0, 0.0)), Segment(offset=Vec2(0.0, -1.0), origin=Vec2(0.0, 0.0))], closed=True), location=Vec2(0.0, 0.0))]), style=Style(line_width_=None, line_color_=None, fill_color_=<Color orange>, fill_opacity_=0.4035533332824707, dashing_=None, output_size=None), transform=Affine(1.0, 0.0, 1.5,\n",
       "       0.0, 1.0, -0.5))])), ApplyTransform(transform=Affine(1.0, 0.0, 0.0,\n",
       "       0.0, 1.0, 0.5), diagram=ApplyTransform(transform=Affine(0.0, 1.0, 0.0,\n",
       "       -1.0, 0.0, 0.0), diagram=Empty())), ApplyTransform(transform=Affine(1.0, 0.0, 0.0,\n",
       "       0.0, 1.0, 1.0), diagram=Compose(envelope=<chalk.envelope.Envelope object at 0x7149b03f33d0>, diagrams=[Primitive(shape=Path(loc_trails=[Located(trail=Trail(segments=[Segment(offset=Vec2(1.0, 0.0), origin=Vec2(0.0, 0.0)), Segment(offset=Vec2(0.0, 1.0), origin=Vec2(0.0, 0.0)), Segment(offset=Vec2(-1.0, 0.0), origin=Vec2(0.0, 0.0)), Segment(offset=Vec2(0.0, -1.0), origin=Vec2(0.0, 0.0))], closed=True), location=Vec2(0.0, 0.0))]), style=Style(line_width_=None, line_color_=None, fill_color_=<Color orange>, fill_opacity_=0.4229780697822571, dashing_=None, output_size=None), transform=Affine(1.0, 0.0, -0.5,\n",
       "       0.0, 1.0, -0.5)), ApplyTransform(transform=Affine(1.0, 0.0, 0.5,\n",
       "       0.0, 1.0, 0.0), diagram=ApplyTransform(transform=Affine(1.0, 0.0, 0.0,\n",
       "       -0.0, 1.0, 0.0), diagram=Empty())), ApplyTransform(transform=Affine(1.0, 0.0, 1.0,\n",
       "       0.0, 1.0, 0.0), diagram=Compose(envelope=<chalk.envelope.Envelope object at 0x7149b57acd90>, diagrams=[Primitive(shape=Path(loc_trails=[Located(trail=Trail(segments=[Segment(offset=Vec2(1.0, 0.0), origin=Vec2(0.0, 0.0)), Segment(offset=Vec2(0.0, 1.0), origin=Vec2(0.0, 0.0)), Segment(offset=Vec2(-1.0, 0.0), origin=Vec2(0.0, 0.0)), Segment(offset=Vec2(0.0, -1.0), origin=Vec2(0.0, 0.0))], closed=True), location=Vec2(0.0, 0.0))]), style=Style(line_width_=None, line_color_=None, fill_color_=<Color orange>, fill_opacity_=0.4166704905033112, dashing_=None, output_size=None), transform=Affine(1.0, 0.0, -0.5,\n",
       "       0.0, 1.0, -0.5)), ApplyTransform(transform=Affine(1.0, 0.0, 0.5,\n",
       "       0.0, 1.0, 0.0), diagram=ApplyTransform(transform=Affine(1.0, 0.0, 0.0,\n",
       "       -0.0, 1.0, 0.0), diagram=Empty())), Primitive(shape=Path(loc_trails=[Located(trail=Trail(segments=[Segment(offset=Vec2(1.0, 0.0), origin=Vec2(0.0, 0.0)), Segment(offset=Vec2(0.0, 1.0), origin=Vec2(0.0, 0.0)), Segment(offset=Vec2(-1.0, 0.0), origin=Vec2(0.0, 0.0)), Segment(offset=Vec2(0.0, -1.0), origin=Vec2(0.0, 0.0))], closed=True), location=Vec2(0.0, 0.0))]), style=Style(line_width_=None, line_color_=None, fill_color_=<Color orange>, fill_opacity_=0.4385308086872101, dashing_=None, output_size=None), transform=Affine(1.0, 0.0, 0.5,\n",
       "       0.0, 1.0, -0.5)), ApplyTransform(transform=Affine(1.0, 0.0, 1.5,\n",
       "       0.0, 1.0, 0.0), diagram=ApplyTransform(transform=Affine(1.0, 0.0, 0.0,\n",
       "       -0.0, 1.0, 0.0), diagram=Empty())), Primitive(shape=Path(loc_trails=[Located(trail=Trail(segments=[Segment(offset=Vec2(1.0, 0.0), origin=Vec2(0.0, 0.0)), Segment(offset=Vec2(0.0, 1.0), origin=Vec2(0.0, 0.0)), Segment(offset=Vec2(-1.0, 0.0), origin=Vec2(0.0, 0.0)), Segment(offset=Vec2(0.0, -1.0), origin=Vec2(0.0, 0.0))], closed=True), location=Vec2(0.0, 0.0))]), style=Style(line_width_=None, line_color_=None, fill_color_=<Color orange>, fill_opacity_=0.4007872533798218, dashing_=None, output_size=None), transform=Affine(1.0, 0.0, 1.5,\n",
       "       0.0, 1.0, -0.5))]))])), ApplyTransform(transform=Affine(1.0, 0.0, 0.0,\n",
       "       0.0, 1.0, 1.5), diagram=ApplyTransform(transform=Affine(0.0, 1.0, 0.0,\n",
       "       -1.0, 0.0, 0.0), diagram=Empty())), ApplyTransform(transform=Affine(1.0, 0.0, 0.0,\n",
       "       0.0, 1.0, 2.0), diagram=Compose(envelope=<chalk.envelope.Envelope object at 0x7149b0347590>, diagrams=[Primitive(shape=Path(loc_trails=[Located(trail=Trail(segments=[Segment(offset=Vec2(1.0, 0.0), origin=Vec2(0.0, 0.0)), Segment(offset=Vec2(0.0, 1.0), origin=Vec2(0.0, 0.0)), Segment(offset=Vec2(-1.0, 0.0), origin=Vec2(0.0, 0.0)), Segment(offset=Vec2(0.0, -1.0), origin=Vec2(0.0, 0.0))], closed=True), location=Vec2(0.0, 0.0))]), style=Style(line_width_=None, line_color_=None, fill_color_=<Color orange>, fill_opacity_=0.45448628664016727, dashing_=None, output_size=None), transform=Affine(1.0, 0.0, -0.5,\n",
       "       0.0, 1.0, -0.5)), ApplyTransform(transform=Affine(1.0, 0.0, 0.5,\n",
       "       0.0, 1.0, 0.0), diagram=ApplyTransform(transform=Affine(1.0, 0.0, 0.0,\n",
       "       -0.0, 1.0, 0.0), diagram=Empty())), ApplyTransform(transform=Affine(1.0, 0.0, 1.0,\n",
       "       0.0, 1.0, 0.0), diagram=Compose(envelope=<chalk.envelope.Envelope object at 0x7149b0344950>, diagrams=[Primitive(shape=Path(loc_trails=[Located(trail=Trail(segments=[Segment(offset=Vec2(1.0, 0.0), origin=Vec2(0.0, 0.0)), Segment(offset=Vec2(0.0, 1.0), origin=Vec2(0.0, 0.0)), Segment(offset=Vec2(-1.0, 0.0), origin=Vec2(0.0, 0.0)), Segment(offset=Vec2(0.0, -1.0), origin=Vec2(0.0, 0.0))], closed=True), location=Vec2(0.0, 0.0))]), style=Style(line_width_=None, line_color_=None, fill_color_=<Color orange>, fill_opacity_=0.4430510747432709, dashing_=None, output_size=None), transform=Affine(1.0, 0.0, -0.5,\n",
       "       0.0, 1.0, -0.5)), ApplyTransform(transform=Affine(1.0, 0.0, 0.5,\n",
       "       0.0, 1.0, 0.0), diagram=ApplyTransform(transform=Affine(1.0, 0.0, 0.0,\n",
       "       -0.0, 1.0, 0.0), diagram=Empty())), Primitive(shape=Path(loc_trails=[Located(trail=Trail(segments=[Segment(offset=Vec2(1.0, 0.0), origin=Vec2(0.0, 0.0)), Segment(offset=Vec2(0.0, 1.0), origin=Vec2(0.0, 0.0)), Segment(offset=Vec2(-1.0, 0.0), origin=Vec2(0.0, 0.0)), Segment(offset=Vec2(0.0, -1.0), origin=Vec2(0.0, 0.0))], closed=True), location=Vec2(0.0, 0.0))]), style=Style(line_width_=None, line_color_=None, fill_color_=<Color orange>, fill_opacity_=0.4017047691345215, dashing_=None, output_size=None), transform=Affine(1.0, 0.0, 0.5,\n",
       "       0.0, 1.0, -0.5)), ApplyTransform(transform=Affine(1.0, 0.0, 1.5,\n",
       "       0.0, 1.0, 0.0), diagram=ApplyTransform(transform=Affine(1.0, 0.0, 0.0,\n",
       "       -0.0, 1.0, 0.0), diagram=Empty())), Primitive(shape=Path(loc_trails=[Located(trail=Trail(segments=[Segment(offset=Vec2(1.0, 0.0), origin=Vec2(0.0, 0.0)), Segment(offset=Vec2(0.0, 1.0), origin=Vec2(0.0, 0.0)), Segment(offset=Vec2(-1.0, 0.0), origin=Vec2(0.0, 0.0)), Segment(offset=Vec2(0.0, -1.0), origin=Vec2(0.0, 0.0))], closed=True), location=Vec2(0.0, 0.0))]), style=Style(line_width_=None, line_color_=None, fill_color_=<Color orange>, fill_opacity_=0.42067654848098757, dashing_=None, output_size=None), transform=Affine(1.0, 0.0, 1.5,\n",
       "       0.0, 1.0, -0.5))]))]))]))])), Empty(), Primitive(shape=Spacer(width=1.0, height=0), style=Style(line_width_=None, line_color_=None, fill_color_=None, fill_opacity_=None, dashing_=None, output_size=None), transform=Affine(1.0, 0.0, 2.5,\n",
       "       0.0, 1.0, 0.0)), ApplyTransform(transform=Affine(1.0, 0.0, 4.0,\n",
       "       0.0, 1.0, 0.0), diagram=Compose(envelope=<chalk.envelope.Envelope object at 0x7149ad907d10>, diagrams=[ApplyTransform(transform=Affine(1.0, 0.0, -0.5,\n",
       "       0.0, 1.0, -1.5), diagram=Compose(envelope=<chalk.envelope.Envelope object at 0x7149b0346bd0>, diagrams=[Primitive(shape=Path(loc_trails=[Located(trail=Trail(segments=[Segment(offset=Vec2(1.0, 0.0), origin=Vec2(0.0, 0.0)), Segment(offset=Vec2(0.0, 1.0), origin=Vec2(0.0, 0.0)), Segment(offset=Vec2(-1.0, 0.0), origin=Vec2(0.0, 0.0)), Segment(offset=Vec2(0.0, -1.0), origin=Vec2(0.0, 0.0))], closed=True), location=Vec2(0.0, 0.0))]), style=Style(line_width_=None, line_color_=None, fill_color_=<Color orange>, fill_opacity_=0.4101760077476502, dashing_=None, output_size=None), transform=Affine(1.0, 0.0, -0.5,\n",
       "       0.0, 1.0, -0.5)), ApplyTransform(transform=Affine(1.0, 0.0, 0.5,\n",
       "       0.0, 1.0, 0.0), diagram=ApplyTransform(transform=Affine(1.0, 0.0, 0.0,\n",
       "       -0.0, 1.0, 0.0), diagram=Empty())), Primitive(shape=Path(loc_trails=[Located(trail=Trail(segments=[Segment(offset=Vec2(1.0, 0.0), origin=Vec2(0.0, 0.0)), Segment(offset=Vec2(0.0, 1.0), origin=Vec2(0.0, 0.0)), Segment(offset=Vec2(-1.0, 0.0), origin=Vec2(0.0, 0.0)), Segment(offset=Vec2(0.0, -1.0), origin=Vec2(0.0, 0.0))], closed=True), location=Vec2(0.0, 0.0))]), style=Style(line_width_=None, line_color_=None, fill_color_=<Color orange>, fill_opacity_=0.4279419052600861, dashing_=None, output_size=None), transform=Affine(1.0, 0.0, 0.5,\n",
       "       0.0, 1.0, -0.5)), ApplyTransform(transform=Affine(1.0, 0.0, 0.0,\n",
       "       0.0, 1.0, 0.5), diagram=ApplyTransform(transform=Affine(0.0, 1.0, 0.0,\n",
       "       -1.0, 0.0, 0.0), diagram=Empty())), ApplyTransform(transform=Affine(1.0, 0.0, 0.0,\n",
       "       0.0, 1.0, 1.0), diagram=Compose(envelope=<chalk.envelope.Envelope object at 0x7149b032c650>, diagrams=[Primitive(shape=Path(loc_trails=[Located(trail=Trail(segments=[Segment(offset=Vec2(1.0, 0.0), origin=Vec2(0.0, 0.0)), Segment(offset=Vec2(0.0, 1.0), origin=Vec2(0.0, 0.0)), Segment(offset=Vec2(-1.0, 0.0), origin=Vec2(0.0, 0.0)), Segment(offset=Vec2(0.0, -1.0), origin=Vec2(0.0, 0.0))], closed=True), location=Vec2(0.0, 0.0))]), style=Style(line_width_=None, line_color_=None, fill_color_=<Color orange>, fill_opacity_=0.4078980147838593, dashing_=None, output_size=None), transform=Affine(1.0, 0.0, -0.5,\n",
       "       0.0, 1.0, -0.5)), ApplyTransform(transform=Affine(1.0, 0.0, 0.5,\n",
       "       0.0, 1.0, 0.0), diagram=ApplyTransform(transform=Affine(1.0, 0.0, 0.0,\n",
       "       -0.0, 1.0, 0.0), diagram=Empty())), Primitive(shape=Path(loc_trails=[Located(trail=Trail(segments=[Segment(offset=Vec2(1.0, 0.0), origin=Vec2(0.0, 0.0)), Segment(offset=Vec2(0.0, 1.0), origin=Vec2(0.0, 0.0)), Segment(offset=Vec2(-1.0, 0.0), origin=Vec2(0.0, 0.0)), Segment(offset=Vec2(0.0, -1.0), origin=Vec2(0.0, 0.0))], closed=True), location=Vec2(0.0, 0.0))]), style=Style(line_width_=None, line_color_=None, fill_color_=<Color orange>, fill_opacity_=0.42774723410606386, dashing_=None, output_size=None), transform=Affine(1.0, 0.0, 0.5,\n",
       "       0.0, 1.0, -0.5)), ApplyTransform(transform=Affine(1.0, 0.0, 0.0,\n",
       "       0.0, 1.0, 0.5), diagram=ApplyTransform(transform=Affine(0.0, 1.0, 0.0,\n",
       "       -1.0, 0.0, 0.0), diagram=Empty())), ApplyTransform(transform=Affine(1.0, 0.0, 0.0,\n",
       "       0.0, 1.0, 1.0), diagram=Compose(envelope=<chalk.envelope.Envelope object at 0x7149b034cd10>, diagrams=[Primitive(shape=Path(loc_trails=[Located(trail=Trail(segments=[Segment(offset=Vec2(1.0, 0.0), origin=Vec2(0.0, 0.0)), Segment(offset=Vec2(0.0, 1.0), origin=Vec2(0.0, 0.0)), Segment(offset=Vec2(-1.0, 0.0), origin=Vec2(0.0, 0.0)), Segment(offset=Vec2(0.0, -1.0), origin=Vec2(0.0, 0.0))], closed=True), location=Vec2(0.0, 0.0))]), style=Style(line_width_=None, line_color_=None, fill_color_=<Color orange>, fill_opacity_=0.40419675230979923, dashing_=None, output_size=None), transform=Affine(1.0, 0.0, -0.5,\n",
       "       0.0, 1.0, -0.5)), ApplyTransform(transform=Affine(1.0, 0.0, 0.5,\n",
       "       0.0, 1.0, 0.0), diagram=ApplyTransform(transform=Affine(1.0, 0.0, 0.0,\n",
       "       -0.0, 1.0, 0.0), diagram=Empty())), Primitive(shape=Path(loc_trails=[Located(trail=Trail(segments=[Segment(offset=Vec2(1.0, 0.0), origin=Vec2(0.0, 0.0)), Segment(offset=Vec2(0.0, 1.0), origin=Vec2(0.0, 0.0)), Segment(offset=Vec2(-1.0, 0.0), origin=Vec2(0.0, 0.0)), Segment(offset=Vec2(0.0, -1.0), origin=Vec2(0.0, 0.0))], closed=True), location=Vec2(0.0, 0.0))]), style=Style(line_width_=None, line_color_=None, fill_color_=<Color orange>, fill_opacity_=0.4396676826477051, dashing_=None, output_size=None), transform=Affine(1.0, 0.0, 0.5,\n",
       "       0.0, 1.0, -0.5))])), ApplyTransform(transform=Affine(1.0, 0.0, 0.0,\n",
       "       0.0, 1.0, 1.5), diagram=ApplyTransform(transform=Affine(0.0, 1.0, 0.0,\n",
       "       -1.0, 0.0, 0.0), diagram=Empty())), ApplyTransform(transform=Affine(1.0, 0.0, 0.0,\n",
       "       0.0, 1.0, 2.0), diagram=Compose(envelope=<chalk.envelope.Envelope object at 0x7149b034f310>, diagrams=[Primitive(shape=Path(loc_trails=[Located(trail=Trail(segments=[Segment(offset=Vec2(1.0, 0.0), origin=Vec2(0.0, 0.0)), Segment(offset=Vec2(0.0, 1.0), origin=Vec2(0.0, 0.0)), Segment(offset=Vec2(-1.0, 0.0), origin=Vec2(0.0, 0.0)), Segment(offset=Vec2(0.0, -1.0), origin=Vec2(0.0, 0.0))], closed=True), location=Vec2(0.0, 0.0))]), style=Style(line_width_=None, line_color_=None, fill_color_=<Color orange>, fill_opacity_=0.4420761168003082, dashing_=None, output_size=None), transform=Affine(1.0, 0.0, -0.5,\n",
       "       0.0, 1.0, -0.5)), ApplyTransform(transform=Affine(1.0, 0.0, 0.5,\n",
       "       0.0, 1.0, 0.0), diagram=ApplyTransform(transform=Affine(1.0, 0.0, 0.0,\n",
       "       -0.0, 1.0, 0.0), diagram=Empty())), Primitive(shape=Path(loc_trails=[Located(trail=Trail(segments=[Segment(offset=Vec2(1.0, 0.0), origin=Vec2(0.0, 0.0)), Segment(offset=Vec2(0.0, 1.0), origin=Vec2(0.0, 0.0)), Segment(offset=Vec2(-1.0, 0.0), origin=Vec2(0.0, 0.0)), Segment(offset=Vec2(0.0, -1.0), origin=Vec2(0.0, 0.0))], closed=True), location=Vec2(0.0, 0.0))]), style=Style(line_width_=None, line_color_=None, fill_color_=<Color orange>, fill_opacity_=0.41032438397407534, dashing_=None, output_size=None), transform=Affine(1.0, 0.0, 0.5,\n",
       "       0.0, 1.0, -0.5))]))]))])), Empty()])), Primitive(shape=Spacer(width=1.0, height=0), style=Style(line_width_=None, line_color_=None, fill_color_=None, fill_opacity_=None, dashing_=None, output_size=None), transform=Affine(1.0, 0.0, 5.5,\n",
       "       0.0, 1.0, 0.0)), ApplyTransform(transform=Affine(1.0, 0.0, 7.0,\n",
       "       0.0, 1.0, 0.0), diagram=Compose(envelope=<chalk.envelope.Envelope object at 0x7149ad970ed0>, diagrams=[ApplyTransform(transform=Affine(1.0, 0.0, -0.5,\n",
       "       0.0, 1.0, -0.0), diagram=Compose(envelope=<chalk.envelope.Envelope object at 0x7149b03f9350>, diagrams=[Primitive(shape=Path(loc_trails=[Located(trail=Trail(segments=[Segment(offset=Vec2(1.0, 0.0), origin=Vec2(0.0, 0.0)), Segment(offset=Vec2(0.0, 1.0), origin=Vec2(0.0, 0.0)), Segment(offset=Vec2(-1.0, 0.0), origin=Vec2(0.0, 0.0)), Segment(offset=Vec2(0.0, -1.0), origin=Vec2(0.0, 0.0))], closed=True), location=Vec2(0.0, 0.0))]), style=Style(line_width_=None, line_color_=None, fill_color_=<Color blue>, fill_opacity_=0.4588446974754334, dashing_=None, output_size=None), transform=Affine(1.0, 0.0, -0.5,\n",
       "       0.0, 1.0, -0.5)), ApplyTransform(transform=Affine(1.0, 0.0, 0.5,\n",
       "       0.0, 1.0, 0.0), diagram=ApplyTransform(transform=Affine(1.0, 0.0, 0.0,\n",
       "       -0.0, 1.0, 0.0), diagram=Empty())), Primitive(shape=Path(loc_trails=[Located(trail=Trail(segments=[Segment(offset=Vec2(1.0, 0.0), origin=Vec2(0.0, 0.0)), Segment(offset=Vec2(0.0, 1.0), origin=Vec2(0.0, 0.0)), Segment(offset=Vec2(-1.0, 0.0), origin=Vec2(0.0, 0.0)), Segment(offset=Vec2(0.0, -1.0), origin=Vec2(0.0, 0.0))], closed=True), location=Vec2(0.0, 0.0))]), style=Style(line_width_=None, line_color_=None, fill_color_=<Color blue>, fill_opacity_=0.4254023396968842, dashing_=None, output_size=None), transform=Affine(1.0, 0.0, 0.5,\n",
       "       0.0, 1.0, -0.5)), ApplyTransform(transform=Affine(1.0, 0.0, 0.0,\n",
       "       0.0, 1.0, 0.5), diagram=ApplyTransform(transform=Affine(0.0, 1.0, 0.0,\n",
       "       -1.0, 0.0, 0.0), diagram=Empty())), ApplyTransform(transform=Affine(1.0, 0.0, 0.0,\n",
       "       0.0, 1.0, 0.5), diagram=Empty())])), Empty(), Primitive(shape=Spacer(width=1.0, height=0), style=Style(line_width_=None, line_color_=None, fill_color_=None, fill_opacity_=None, dashing_=None, output_size=None), transform=Affine(1.0, 0.0, 1.5,\n",
       "       0.0, 1.0, 0.0)), ApplyTransform(transform=Affine(1.0, 0.0, 3.0,\n",
       "       0.0, 1.0, 0.0), diagram=Compose(envelope=<chalk.envelope.Envelope object at 0x7149ad9708d0>, diagrams=[ApplyTransform(transform=Affine(1.0, 0.0, -0.5,\n",
       "       0.0, 1.0, -1.5), diagram=Compose(envelope=<chalk.envelope.Envelope object at 0x7149ad904ad0>, diagrams=[Primitive(shape=Path(loc_trails=[Located(trail=Trail(segments=[Segment(offset=Vec2(1.0, 0.0), origin=Vec2(0.0, 0.0)), Segment(offset=Vec2(0.0, 1.0), origin=Vec2(0.0, 0.0)), Segment(offset=Vec2(-1.0, 0.0), origin=Vec2(0.0, 0.0)), Segment(offset=Vec2(0.0, -1.0), origin=Vec2(0.0, 0.0))], closed=True), location=Vec2(0.0, 0.0))]), style=Style(line_width_=None, line_color_=None, fill_color_=<Color blue>, fill_opacity_=0.43893710613250736, dashing_=None, output_size=None), transform=Affine(1.0, 0.0, -0.5,\n",
       "       0.0, 1.0, -0.5)), ApplyTransform(transform=Affine(1.0, 0.0, 0.5,\n",
       "       0.0, 1.0, 0.0), diagram=ApplyTransform(transform=Affine(1.0, 0.0, 0.0,\n",
       "       -0.0, 1.0, 0.0), diagram=Empty())), Primitive(shape=Path(loc_trails=[Located(trail=Trail(segments=[Segment(offset=Vec2(1.0, 0.0), origin=Vec2(0.0, 0.0)), Segment(offset=Vec2(0.0, 1.0), origin=Vec2(0.0, 0.0)), Segment(offset=Vec2(-1.0, 0.0), origin=Vec2(0.0, 0.0)), Segment(offset=Vec2(0.0, -1.0), origin=Vec2(0.0, 0.0))], closed=True), location=Vec2(0.0, 0.0))]), style=Style(line_width_=None, line_color_=None, fill_color_=<Color orange>, fill_opacity_=0.4120152056217194, dashing_=None, output_size=None), transform=Affine(1.0, 0.0, 0.5,\n",
       "       0.0, 1.0, -0.5)), ApplyTransform(transform=Affine(1.0, 0.0, 0.0,\n",
       "       0.0, 1.0, 0.5), diagram=ApplyTransform(transform=Affine(0.0, 1.0, 0.0,\n",
       "       -1.0, 0.0, 0.0), diagram=Empty())), ApplyTransform(transform=Affine(1.0, 0.0, 0.0,\n",
       "       0.0, 1.0, 1.0), diagram=Compose(envelope=<chalk.envelope.Envelope object at 0x7149ad9061d0>, diagrams=[Primitive(shape=Path(loc_trails=[Located(trail=Trail(segments=[Segment(offset=Vec2(1.0, 0.0), origin=Vec2(0.0, 0.0)), Segment(offset=Vec2(0.0, 1.0), origin=Vec2(0.0, 0.0)), Segment(offset=Vec2(-1.0, 0.0), origin=Vec2(0.0, 0.0)), Segment(offset=Vec2(0.0, -1.0), origin=Vec2(0.0, 0.0))], closed=True), location=Vec2(0.0, 0.0))]), style=Style(line_width_=None, line_color_=None, fill_color_=<Color blue>, fill_opacity_=0.44793809175491334, dashing_=None, output_size=None), transform=Affine(1.0, 0.0, -0.5,\n",
       "       0.0, 1.0, -0.5)), ApplyTransform(transform=Affine(1.0, 0.0, 0.5,\n",
       "       0.0, 1.0, 0.0), diagram=ApplyTransform(transform=Affine(1.0, 0.0, 0.0,\n",
       "       -0.0, 1.0, 0.0), diagram=Empty())), Primitive(shape=Path(loc_trails=[Located(trail=Trail(segments=[Segment(offset=Vec2(1.0, 0.0), origin=Vec2(0.0, 0.0)), Segment(offset=Vec2(0.0, 1.0), origin=Vec2(0.0, 0.0)), Segment(offset=Vec2(-1.0, 0.0), origin=Vec2(0.0, 0.0)), Segment(offset=Vec2(0.0, -1.0), origin=Vec2(0.0, 0.0))], closed=True), location=Vec2(0.0, 0.0))]), style=Style(line_width_=None, line_color_=None, fill_color_=<Color orange>, fill_opacity_=0.4083849108219147, dashing_=None, output_size=None), transform=Affine(1.0, 0.0, 0.5,\n",
       "       0.0, 1.0, -0.5)), ApplyTransform(transform=Affine(1.0, 0.0, 0.0,\n",
       "       0.0, 1.0, 0.5), diagram=ApplyTransform(transform=Affine(0.0, 1.0, 0.0,\n",
       "       -1.0, 0.0, 0.0), diagram=Empty())), ApplyTransform(transform=Affine(1.0, 0.0, 0.0,\n",
       "       0.0, 1.0, 1.0), diagram=Compose(envelope=<chalk.envelope.Envelope object at 0x7149b034c190>, diagrams=[Primitive(shape=Path(loc_trails=[Located(trail=Trail(segments=[Segment(offset=Vec2(1.0, 0.0), origin=Vec2(0.0, 0.0)), Segment(offset=Vec2(0.0, 1.0), origin=Vec2(0.0, 0.0)), Segment(offset=Vec2(-1.0, 0.0), origin=Vec2(0.0, 0.0)), Segment(offset=Vec2(0.0, -1.0), origin=Vec2(0.0, 0.0))], closed=True), location=Vec2(0.0, 0.0))]), style=Style(line_width_=None, line_color_=None, fill_color_=<Color blue>, fill_opacity_=0.4495060682296753, dashing_=None, output_size=None), transform=Affine(1.0, 0.0, -0.5,\n",
       "       0.0, 1.0, -0.5)), ApplyTransform(transform=Affine(1.0, 0.0, 0.5,\n",
       "       0.0, 1.0, 0.0), diagram=ApplyTransform(transform=Affine(1.0, 0.0, 0.0,\n",
       "       -0.0, 1.0, 0.0), diagram=Empty())), Primitive(shape=Path(loc_trails=[Located(trail=Trail(segments=[Segment(offset=Vec2(1.0, 0.0), origin=Vec2(0.0, 0.0)), Segment(offset=Vec2(0.0, 1.0), origin=Vec2(0.0, 0.0)), Segment(offset=Vec2(-1.0, 0.0), origin=Vec2(0.0, 0.0)), Segment(offset=Vec2(0.0, -1.0), origin=Vec2(0.0, 0.0))], closed=True), location=Vec2(0.0, 0.0))]), style=Style(line_width_=None, line_color_=None, fill_color_=<Color orange>, fill_opacity_=0.4186171090602875, dashing_=None, output_size=None), transform=Affine(1.0, 0.0, 0.5,\n",
       "       0.0, 1.0, -0.5))])), ApplyTransform(transform=Affine(1.0, 0.0, 0.0,\n",
       "       0.0, 1.0, 1.5), diagram=ApplyTransform(transform=Affine(0.0, 1.0, 0.0,\n",
       "       -1.0, 0.0, 0.0), diagram=Empty())), ApplyTransform(transform=Affine(1.0, 0.0, 0.0,\n",
       "       0.0, 1.0, 2.0), diagram=Compose(envelope=<chalk.envelope.Envelope object at 0x7149ad905850>, diagrams=[Primitive(shape=Path(loc_trails=[Located(trail=Trail(segments=[Segment(offset=Vec2(1.0, 0.0), origin=Vec2(0.0, 0.0)), Segment(offset=Vec2(0.0, 1.0), origin=Vec2(0.0, 0.0)), Segment(offset=Vec2(-1.0, 0.0), origin=Vec2(0.0, 0.0)), Segment(offset=Vec2(0.0, -1.0), origin=Vec2(0.0, 0.0))], closed=True), location=Vec2(0.0, 0.0))]), style=Style(line_width_=None, line_color_=None, fill_color_=<Color blue>, fill_opacity_=0.4293177926540375, dashing_=None, output_size=None), transform=Affine(1.0, 0.0, -0.5,\n",
       "       0.0, 1.0, -0.5)), ApplyTransform(transform=Affine(1.0, 0.0, 0.5,\n",
       "       0.0, 1.0, 0.0), diagram=ApplyTransform(transform=Affine(1.0, 0.0, 0.0,\n",
       "       -0.0, 1.0, 0.0), diagram=Empty())), Primitive(shape=Path(loc_trails=[Located(trail=Trail(segments=[Segment(offset=Vec2(1.0, 0.0), origin=Vec2(0.0, 0.0)), Segment(offset=Vec2(0.0, 1.0), origin=Vec2(0.0, 0.0)), Segment(offset=Vec2(-1.0, 0.0), origin=Vec2(0.0, 0.0)), Segment(offset=Vec2(0.0, -1.0), origin=Vec2(0.0, 0.0))], closed=True), location=Vec2(0.0, 0.0))]), style=Style(line_width_=None, line_color_=None, fill_color_=<Color orange>, fill_opacity_=0.42456592679023747, dashing_=None, output_size=None), transform=Affine(1.0, 0.0, 0.5,\n",
       "       0.0, 1.0, -0.5))]))]))])), Empty()]))]))])), Primitive(shape=Spacer(width=1.0, height=0), style=Style(line_width_=None, line_color_=None, fill_color_=None, fill_opacity_=None, dashing_=None, output_size=None), transform=Affine(0.0, 1.0, 0.0,\n",
       "       -1.0, 0.0, 2.5)), ApplyTransform(transform=Affine(1.0, 0.0, 0.0,\n",
       "       0.0, 1.0, 3.0), diagram=Empty())]))), Empty()]))])"
      ]
     },
     "execution_count": 15,
     "metadata": {},
     "output_type": "execute_result"
    }
   ],
   "source": [
    "X = torch.rand((4, 4))    # (B, 4)\n",
    "W = torch.rand((2, 4))    # (2, 4)\n",
    "b = torch.rand(2) * -1    # (1, 2)\n",
    "h = X @ W.T + b # (B, 2)\n",
    "\n",
    "draw(X, W.T, b, h)  "
   ]
  },
  {
   "cell_type": "markdown",
   "metadata": {
    "slideshow": {
     "slide_type": "fragment"
    }
   },
   "source": [
    "- General rule: right align, add 1s, broadcast with paired dimensions."
   ]
  },
  {
   "cell_type": "markdown",
   "metadata": {
    "slideshow": {
     "slide_type": "slide"
    }
   },
   "source": [
    "### Tensor Operations\n",
    "- Arithmetic operations: +, -, /, etc. With tensors, or primitives (element-wise).\n",
    "- '\\*' (element-wise multiply) vs. '@' (matrix multiply)\n",
    "- `torch.stack`, `torch.cat`"
   ]
  },
  {
   "cell_type": "code",
   "execution_count": 18,
   "metadata": {
    "slideshow": {
     "slide_type": "fragment"
    }
   },
   "outputs": [
    {
     "data": {
      "text/plain": [
       "torch.Size([4, 2])"
      ]
     },
     "execution_count": 18,
     "metadata": {},
     "output_type": "execute_result"
    }
   ],
   "source": [
    "d1 = torch.arange(4)[:, None]\n",
    "d2 = -1 * torch.arange(4)[:, None]\n",
    "d3 = torch.cat([ d1, d2 ], dim=-1)\n",
    "d3.shape"
   ]
  },
  {
   "cell_type": "markdown",
   "metadata": {
    "slideshow": {
     "slide_type": "fragment"
    }
   },
   "source": [
    "- Conversion back to primitives: `numpy()` (numpy array), `tolist()` (python list)"
   ]
  },
  {
   "cell_type": "code",
   "execution_count": 20,
   "metadata": {
    "slideshow": {
     "slide_type": "fragment"
    }
   },
   "outputs": [
    {
     "data": {
      "text/plain": [
       "list"
      ]
     },
     "execution_count": 20,
     "metadata": {},
     "output_type": "execute_result"
    }
   ],
   "source": [
    "type(pt_data.tolist())"
   ]
  },
  {
   "cell_type": "markdown",
   "metadata": {
    "slideshow": {
     "slide_type": "slide"
    }
   },
   "source": [
    "### Tensor Operations\n",
    "- Tensor operations significantly benefit from accelerators: GPUs, etc.\n",
    "- Device placement: controls tensor memory storage and computation device.\n",
    "- Default: `cpu`. Migration: `.<device>()`, `.to()`"
   ]
  },
  {
   "cell_type": "code",
   "execution_count": 24,
   "metadata": {
    "slideshow": {
     "slide_type": "fragment"
    }
   },
   "outputs": [
    {
     "data": {
      "text/plain": [
       "True"
      ]
     },
     "execution_count": 24,
     "metadata": {},
     "output_type": "execute_result"
    }
   ],
   "source": [
    "torch.cuda.is_available()"
   ]
  },
  {
   "cell_type": "code",
   "execution_count": 25,
   "metadata": {
    "slideshow": {
     "slide_type": "fragment"
    }
   },
   "outputs": [
    {
     "data": {
      "text/plain": [
       "device(type='cuda', index=0)"
      ]
     },
     "execution_count": 25,
     "metadata": {},
     "output_type": "execute_result"
    }
   ],
   "source": [
    "pt_data = torch.rand((2, 3))\n",
    "pt_data = pt_data.to('cuda')\n",
    "pt_data.device"
   ]
  },
  {
   "cell_type": "markdown",
   "metadata": {
    "slideshow": {
     "slide_type": "subslide"
    }
   },
   "source": [
    "#### Acceleration Advantage"
   ]
  },
  {
   "cell_type": "code",
   "execution_count": 26,
   "metadata": {
    "slideshow": {
     "slide_type": "fragment"
    }
   },
   "outputs": [],
   "source": [
    "torch.manual_seed(20240130)\n",
    "\n",
    "pt_data1     = torch.rand(12, 4096, 768)\n",
    "pt_data1_acc = pt_data1.to('cuda')\n",
    "np_data1     = pt_data1.numpy()\n",
    "\n",
    "pt_data2     = torch.rand(12, 768, 4096)\n",
    "pt_data2_acc = pt_data2.to('cuda')\n",
    "np_data2     = pt_data2.numpy()"
   ]
  },
  {
   "cell_type": "code",
   "execution_count": null,
   "metadata": {
    "slideshow": {
     "slide_type": "skip"
    }
   },
   "outputs": [],
   "source": [
    "gc.collect()\n",
    "torch.cuda.empty_cache()\n",
    "torch.cuda.synchronize()"
   ]
  },
  {
   "cell_type": "markdown",
   "metadata": {
    "slideshow": {
     "slide_type": "subslide"
    }
   },
   "source": [
    "#### Acceleration Advantage"
   ]
  },
  {
   "cell_type": "code",
   "execution_count": 27,
   "metadata": {
    "slideshow": {
     "slide_type": "fragment"
    }
   },
   "outputs": [
    {
     "name": "stdout",
     "output_type": "stream",
     "text": [
      "39.9 ms ± 3.58 ms per loop (mean ± std. dev. of 4 runs, 10 loops each)\n"
     ]
    }
   ],
   "source": [
    "%%timeit -r 4\n",
    "np_data2 @ np_data1"
   ]
  },
  {
   "cell_type": "code",
   "execution_count": 28,
   "metadata": {
    "slideshow": {
     "slide_type": "fragment"
    }
   },
   "outputs": [
    {
     "name": "stdout",
     "output_type": "stream",
     "text": [
      "17.1 ms ± 142 μs per loop (mean ± std. dev. of 4 runs, 100 loops each)\n"
     ]
    }
   ],
   "source": [
    "%%timeit -r 4\n",
    "pt_data2 @ pt_data1"
   ]
  },
  {
   "cell_type": "code",
   "execution_count": 29,
   "metadata": {
    "slideshow": {
     "slide_type": "fragment"
    }
   },
   "outputs": [
    {
     "name": "stdout",
     "output_type": "stream",
     "text": [
      "3.39 ms ± 410 μs per loop (mean ± std. dev. of 4 runs, 1,000 loops each)\n"
     ]
    }
   ],
   "source": [
    "%%timeit -r 4\n",
    "pt_data2_acc @ pt_data1_acc"
   ]
  },
  {
   "cell_type": "markdown",
   "metadata": {
    "slideshow": {
     "slide_type": "slide"
    }
   },
   "source": [
    "### Utility Functions\n",
    "- `where`, `view`, `reshape` and `contiguous`"
   ]
  },
  {
   "cell_type": "code",
   "execution_count": 36,
   "metadata": {
    "slideshow": {
     "slide_type": "fragment"
    }
   },
   "outputs": [
    {
     "data": {
      "image/svg+xml": [
       "<?xml version=\"1.0\" encoding=\"utf-8\" ?>\n",
       "<svg baseProfile=\"full\" height=\"300\" version=\"1.1\" width=\"300\" xmlns=\"http://www.w3.org/2000/svg\" xmlns:ev=\"http://www.w3.org/2001/xml-events\" xmlns:xlink=\"http://www.w3.org/1999/xlink\"><defs><marker id=\"arrow\" markerHeight=\"3.5\" markerWidth=\"5\" orient=\"auto\" refX=\"5.0\" refY=\"1.7\"><polygon points=\"0,0 5,1.75 0,3.5\" /></marker></defs><g style=\"fill:white;\"><g transform=\"matrix(1.0, 0.0, 0.0, 1.0, 150.00000000000003, 150.00000000000003)\"><g transform=\"matrix(26.454732513554085, 0.0, 0.0, 26.454732513554085, 0.0, 0.0)\"><g><g transform=\"matrix(1.0, 0.0, 0.0, 1.0, -0.0, -0.0)\"><g><g style=\"fill: #ffffff;stroke: black;stroke-width: 0.9;\" transform=\"matrix(1.0, 0.0, 0.0, 1.0, -5.40006, -5.40006)\"><path d=\"M 0.0 0.0 L 10.80012 0.0 L 10.80012 10.80012 L 0.0 10.80012 L 0.0 0.0 Z\" style=\"vector-effect: non-scaling-stroke;\" /></g><g transform=\"matrix(1.0, 0.0, 0.0, 1.0, -0.0, -4.80006)\"><g><g style=\"stroke: black;stroke-width: 0.9;\" transform=\"matrix(1.0, 0.0, 0.0, 1.0, 0.0, 0.0)\"><g /></g><g style=\"fill: #000000;stroke: black;stroke-width: 0.0;\" transform=\"matrix(1.0, 0.0, 0.0, 1.0, 0.0, 0.5)\"><text style=\"text-align:center; text-anchor:middle; dominant-baseline:middle;&#10;                      font-family:sans-serif; font-weight: bold;&#10;                      font-size:0.75px;&#10;                      vector-effect: non-scaling-stroke;\" transform=\"translate(-5e-05, 0)\" /></g><g style=\"stroke: black;stroke-width: 0.9;\" transform=\"matrix(1.0, 0.0, 0.0, 1.0, 0.0, 1.0001)\"><g /></g><g transform=\"matrix(1.0, 0.0, 0.0, 1.0, 0.0, 5.0001)\"><g transform=\"matrix(1.0, 0.0, 0.0, 1.0, -4.5, -0.5)\"><g><g transform=\"matrix(1.0, 0.0, 0.0, 1.0, -5e-05, -0.25005)\"><g><g style=\"stroke: black;stroke-width: 0.9;\" transform=\"matrix(1.0, 0.0, 0.0, 1.0, 0.0, 0.0)\"><g /></g><g style=\"fill: #000000;stroke: black;stroke-width: 0.0;\" transform=\"matrix(1.0, 0.0, 0.0, 1.0, 0.0, 0.25)\"><text style=\"text-align:center; text-anchor:middle; dominant-baseline:middle;&#10;                      font-family:sans-serif; font-weight: bold;&#10;                      font-size:0.5px;&#10;                      vector-effect: non-scaling-stroke;\" transform=\"translate(-5e-05, 0)\" /></g><g style=\"stroke: black;stroke-width: 0.9;\" transform=\"matrix(1.0, 0.0, 0.0, 1.0, 0.0, 0.5001)\"><g /></g></g></g><g /><g style=\"stroke: black;stroke-width: 0.9;\" transform=\"matrix(1.0, 0.0, 0.0, 1.0, 0.50005, 0.0)\"><g /></g><g transform=\"matrix(1.0, 0.0, 0.0, 1.0, 4.00005, 0.0)\"><g><g transform=\"matrix(1.0, 0.0, 0.0, 1.0, -2.5, -0.0)\"><g><g style=\"fill: #ffa500;stroke: black;stroke-width: 0.9;fill-opacity: 0.4210023939609528;\" transform=\"matrix(1.0, 0.0, 0.0, 1.0, -0.5, -0.5)\"><path d=\"M 0.0 0.0 L 1.0 0.0 L 1.0 1.0 L 0.0 1.0 L 0.0 0.0 Z\" style=\"vector-effect: non-scaling-stroke;\" /></g><g transform=\"matrix(1.0, 0.0, 0.0, 1.0, 0.5, 0.0)\"><g transform=\"matrix(1.0, -0.0, 0.0, 1.0, 0.0, 0.0)\"><g /></g></g><g transform=\"matrix(1.0, 0.0, 0.0, 1.0, 1.0, 0.0)\"><g><g style=\"fill: #ffa500;stroke: black;stroke-width: 0.9;fill-opacity: 0.41788060665130616;\" transform=\"matrix(1.0, 0.0, 0.0, 1.0, -0.5, -0.5)\"><path d=\"M 0.0 0.0 L 1.0 0.0 L 1.0 1.0 L 0.0 1.0 L 0.0 0.0 Z\" style=\"vector-effect: non-scaling-stroke;\" /></g><g transform=\"matrix(1.0, 0.0, 0.0, 1.0, 0.5, 0.0)\"><g transform=\"matrix(1.0, -0.0, 0.0, 1.0, 0.0, 0.0)\"><g /></g></g><g style=\"stroke: black;stroke-width: 0.9;\" transform=\"matrix(1.0, 0.0, 0.0, 1.0, 0.5, -0.5)\"><path d=\"M 0.0 0.0 L 1.0 0.0 L 1.0 1.0 L 0.0 1.0 L 0.0 0.0 Z\" style=\"vector-effect: non-scaling-stroke;\" /></g><g transform=\"matrix(1.0, 0.0, 0.0, 1.0, 1.5, 0.0)\"><g transform=\"matrix(1.0, -0.0, 0.0, 1.0, 0.0, 0.0)\"><g /></g></g><g transform=\"matrix(1.0, 0.0, 0.0, 1.0, 2.0, 0.0)\"><g><g style=\"fill: #ffa500;stroke: black;stroke-width: 0.9;fill-opacity: 0.47703950166702275;\" transform=\"matrix(1.0, 0.0, 0.0, 1.0, -0.5, -0.5)\"><path d=\"M 0.0 0.0 L 1.0 0.0 L 1.0 1.0 L 0.0 1.0 L 0.0 0.0 Z\" style=\"vector-effect: non-scaling-stroke;\" /></g><g transform=\"matrix(1.0, 0.0, 0.0, 1.0, 0.5, 0.0)\"><g transform=\"matrix(1.0, -0.0, 0.0, 1.0, 0.0, 0.0)\"><g /></g></g><g style=\"fill: #ffa500;stroke: black;stroke-width: 0.9;fill-opacity: 0.41171261578798296;\" transform=\"matrix(1.0, 0.0, 0.0, 1.0, 0.5, -0.5)\"><path d=\"M 0.0 0.0 L 1.0 0.0 L 1.0 1.0 L 0.0 1.0 L 0.0 0.0 Z\" style=\"vector-effect: non-scaling-stroke;\" /></g></g></g><g transform=\"matrix(1.0, 0.0, 0.0, 1.0, 3.5, 0.0)\"><g transform=\"matrix(1.0, -0.0, 0.0, 1.0, 0.0, 0.0)\"><g /></g></g><g style=\"fill: #ffa500;stroke: black;stroke-width: 0.9;fill-opacity: 0.40269715763628483;\" transform=\"matrix(1.0, 0.0, 0.0, 1.0, 3.5, -0.5)\"><path d=\"M 0.0 0.0 L 1.0 0.0 L 1.0 1.0 L 0.0 1.0 L 0.0 0.0 Z\" style=\"vector-effect: non-scaling-stroke;\" /></g></g></g><g transform=\"matrix(1.0, 0.0, 0.0, 1.0, 0.0, 0.5)\"><g transform=\"matrix(0.0, -1.0, 1.0, 0.0, 0.0, 0.0)\"><g /></g></g><g transform=\"matrix(1.0, 0.0, 0.0, 1.0, 0.0, 0.5)\"><g /></g></g></g><g /><g style=\"stroke: black;stroke-width: 0.9;\" transform=\"matrix(1.0, 0.0, 0.0, 1.0, 3.5, 0.0)\"><g /></g><g transform=\"matrix(1.0, 0.0, 0.0, 1.0, 4.5, 0.0)\"><g><g transform=\"matrix(1.0, 0.0, 0.0, 1.0, -0.0, -2.5)\"><g><g style=\"fill: #ffa500;stroke: black;stroke-width: 0.9;fill-opacity: 0.4210023939609528;\" transform=\"matrix(1.0, 0.0, 0.0, 1.0, -0.5, -0.5)\"><path d=\"M 0.0 0.0 L 1.0 0.0 L 1.0 1.0 L 0.0 1.0 L 0.0 0.0 Z\" style=\"vector-effect: non-scaling-stroke;\" /></g><g transform=\"matrix(1.0, 0.0, 0.0, 1.0, 0.5, 0.0)\"><g transform=\"matrix(1.0, -0.0, 0.0, 1.0, 0.0, 0.0)\"><g /></g></g><g transform=\"matrix(1.0, 0.0, 0.0, 1.0, 0.5, 0.0)\"><g /></g><g transform=\"matrix(1.0, 0.0, 0.0, 1.0, 0.0, 0.5)\"><g transform=\"matrix(0.0, -1.0, 1.0, 0.0, 0.0, 0.0)\"><g /></g></g><g transform=\"matrix(1.0, 0.0, 0.0, 1.0, 0.0, 1.0)\"><g><g style=\"fill: #ffa500;stroke: black;stroke-width: 0.9;fill-opacity: 0.47703950166702275;\" transform=\"matrix(1.0, 0.0, 0.0, 1.0, -0.5, -0.5)\"><path d=\"M 0.0 0.0 L 1.0 0.0 L 1.0 1.0 L 0.0 1.0 L 0.0 0.0 Z\" style=\"vector-effect: non-scaling-stroke;\" /></g><g transform=\"matrix(1.0, 0.0, 0.0, 1.0, 0.5, 0.0)\"><g transform=\"matrix(1.0, -0.0, 0.0, 1.0, 0.0, 0.0)\"><g /></g></g><g transform=\"matrix(1.0, 0.0, 0.0, 1.0, 0.5, 0.0)\"><g /></g><g transform=\"matrix(1.0, 0.0, 0.0, 1.0, 0.0, 0.5)\"><g transform=\"matrix(0.0, -1.0, 1.0, 0.0, 0.0, 0.0)\"><g /></g></g><g transform=\"matrix(1.0, 0.0, 0.0, 1.0, 0.0, 1.0)\"><g><g style=\"fill: #ffa500;stroke: black;stroke-width: 0.9;fill-opacity: 0.41788060665130616;\" transform=\"matrix(1.0, 0.0, 0.0, 1.0, -0.5, -0.5)\"><path d=\"M 0.0 0.0 L 1.0 0.0 L 1.0 1.0 L 0.0 1.0 L 0.0 0.0 Z\" style=\"vector-effect: non-scaling-stroke;\" /></g><g transform=\"matrix(1.0, 0.0, 0.0, 1.0, 0.5, 0.0)\"><g transform=\"matrix(1.0, -0.0, 0.0, 1.0, 0.0, 0.0)\"><g /></g></g><g transform=\"matrix(1.0, 0.0, 0.0, 1.0, 0.5, 0.0)\"><g /></g></g></g><g transform=\"matrix(1.0, 0.0, 0.0, 1.0, 0.0, 1.5)\"><g transform=\"matrix(0.0, -1.0, 1.0, 0.0, 0.0, 0.0)\"><g /></g></g><g transform=\"matrix(1.0, 0.0, 0.0, 1.0, 0.0, 2.0)\"><g><g style=\"fill: #ffa500;stroke: black;stroke-width: 0.9;fill-opacity: 0.41171261578798296;\" transform=\"matrix(1.0, 0.0, 0.0, 1.0, -0.5, -0.5)\"><path d=\"M 0.0 0.0 L 1.0 0.0 L 1.0 1.0 L 0.0 1.0 L 0.0 0.0 Z\" style=\"vector-effect: non-scaling-stroke;\" /></g><g transform=\"matrix(1.0, 0.0, 0.0, 1.0, 0.5, 0.0)\"><g transform=\"matrix(1.0, -0.0, 0.0, 1.0, 0.0, 0.0)\"><g /></g></g><g transform=\"matrix(1.0, 0.0, 0.0, 1.0, 0.5, 0.0)\"><g /></g><g transform=\"matrix(1.0, 0.0, 0.0, 1.0, 0.0, 0.5)\"><g transform=\"matrix(0.0, -1.0, 1.0, 0.0, 0.0, 0.0)\"><g /></g></g><g transform=\"matrix(1.0, 0.0, 0.0, 1.0, 0.0, 1.0)\"><g><g style=\"stroke: black;stroke-width: 0.9;\" transform=\"matrix(1.0, 0.0, 0.0, 1.0, -0.5, -0.5)\"><path d=\"M 0.0 0.0 L 1.0 0.0 L 1.0 1.0 L 0.0 1.0 L 0.0 0.0 Z\" style=\"vector-effect: non-scaling-stroke;\" /></g><g transform=\"matrix(1.0, 0.0, 0.0, 1.0, 0.5, 0.0)\"><g transform=\"matrix(1.0, -0.0, 0.0, 1.0, 0.0, 0.0)\"><g /></g></g><g transform=\"matrix(1.0, 0.0, 0.0, 1.0, 0.5, 0.0)\"><g /></g></g></g></g></g><g transform=\"matrix(1.0, 0.0, 0.0, 1.0, 0.0, 3.5)\"><g transform=\"matrix(0.0, -1.0, 1.0, 0.0, 0.0, 0.0)\"><g /></g></g><g transform=\"matrix(1.0, 0.0, 0.0, 1.0, 0.0, 4.0)\"><g><g style=\"fill: #0000ff;stroke: black;stroke-width: 0.9;fill-opacity: 0.76;\" transform=\"matrix(1.0, 0.0, 0.0, 1.0, -0.5, -0.5)\"><path d=\"M 0.0 0.0 L 1.0 0.0 L 1.0 1.0 L 0.0 1.0 L 0.0 0.0 Z\" style=\"vector-effect: non-scaling-stroke;\" /></g><g transform=\"matrix(1.0, 0.0, 0.0, 1.0, 0.5, 0.0)\"><g transform=\"matrix(1.0, -0.0, 0.0, 1.0, 0.0, 0.0)\"><g /></g></g><g transform=\"matrix(1.0, 0.0, 0.0, 1.0, 0.5, 0.0)\"><g /></g></g></g></g></g></g></g><g /></g></g></g></g><g style=\"stroke: black;stroke-width: 0.9;\" transform=\"matrix(0.0, -1.0, 1.0, 0.0, 0.0, 3.5)\"><g /></g><g transform=\"matrix(1.0, 0.0, 0.0, 1.0, 0.0, 4.0)\"><g /></g></g></g></g><g /></g></g></g></g><g /></g></g></g></g></svg>"
      ],
      "text/html": [
       "<?xml version=\"1.0\" encoding=\"utf-8\" ?>\n",
       "<svg baseProfile=\"full\" height=\"300\" version=\"1.1\" width=\"300\" xmlns=\"http://www.w3.org/2000/svg\" xmlns:ev=\"http://www.w3.org/2001/xml-events\" xmlns:xlink=\"http://www.w3.org/1999/xlink\"><defs><marker id=\"arrow\" markerHeight=\"3.5\" markerWidth=\"5\" orient=\"auto\" refX=\"5.0\" refY=\"1.7\"><polygon points=\"0,0 5,1.75 0,3.5\" /></marker></defs><g style=\"fill:white;\"><g transform=\"matrix(1.0, 0.0, 0.0, 1.0, 150.00000000000003, 150.00000000000003)\"><g transform=\"matrix(26.454732513554085, 0.0, 0.0, 26.454732513554085, 0.0, 0.0)\"><g><g transform=\"matrix(1.0, 0.0, 0.0, 1.0, -0.0, -0.0)\"><g><g style=\"fill: #ffffff;stroke: black;stroke-width: 0.9;\" transform=\"matrix(1.0, 0.0, 0.0, 1.0, -5.40006, -5.40006)\"><path d=\"M 0.0 0.0 L 10.80012 0.0 L 10.80012 10.80012 L 0.0 10.80012 L 0.0 0.0 Z\" style=\"vector-effect: non-scaling-stroke;\" /></g><g transform=\"matrix(1.0, 0.0, 0.0, 1.0, -0.0, -4.80006)\"><g><g style=\"stroke: black;stroke-width: 0.9;\" transform=\"matrix(1.0, 0.0, 0.0, 1.0, 0.0, 0.0)\"><g /></g><g style=\"fill: #000000;stroke: black;stroke-width: 0.0;\" transform=\"matrix(1.0, 0.0, 0.0, 1.0, 0.0, 0.5)\"><text style=\"text-align:center; text-anchor:middle; dominant-baseline:middle;&#10;                      font-family:sans-serif; font-weight: bold;&#10;                      font-size:0.75px;&#10;                      vector-effect: non-scaling-stroke;\" transform=\"translate(-5e-05, 0)\" /></g><g style=\"stroke: black;stroke-width: 0.9;\" transform=\"matrix(1.0, 0.0, 0.0, 1.0, 0.0, 1.0001)\"><g /></g><g transform=\"matrix(1.0, 0.0, 0.0, 1.0, 0.0, 5.0001)\"><g transform=\"matrix(1.0, 0.0, 0.0, 1.0, -4.5, -0.5)\"><g><g transform=\"matrix(1.0, 0.0, 0.0, 1.0, -5e-05, -0.25005)\"><g><g style=\"stroke: black;stroke-width: 0.9;\" transform=\"matrix(1.0, 0.0, 0.0, 1.0, 0.0, 0.0)\"><g /></g><g style=\"fill: #000000;stroke: black;stroke-width: 0.0;\" transform=\"matrix(1.0, 0.0, 0.0, 1.0, 0.0, 0.25)\"><text style=\"text-align:center; text-anchor:middle; dominant-baseline:middle;&#10;                      font-family:sans-serif; font-weight: bold;&#10;                      font-size:0.5px;&#10;                      vector-effect: non-scaling-stroke;\" transform=\"translate(-5e-05, 0)\" /></g><g style=\"stroke: black;stroke-width: 0.9;\" transform=\"matrix(1.0, 0.0, 0.0, 1.0, 0.0, 0.5001)\"><g /></g></g></g><g /><g style=\"stroke: black;stroke-width: 0.9;\" transform=\"matrix(1.0, 0.0, 0.0, 1.0, 0.50005, 0.0)\"><g /></g><g transform=\"matrix(1.0, 0.0, 0.0, 1.0, 4.00005, 0.0)\"><g><g transform=\"matrix(1.0, 0.0, 0.0, 1.0, -2.5, -0.0)\"><g><g style=\"fill: #ffa500;stroke: black;stroke-width: 0.9;fill-opacity: 0.4210023939609528;\" transform=\"matrix(1.0, 0.0, 0.0, 1.0, -0.5, -0.5)\"><path d=\"M 0.0 0.0 L 1.0 0.0 L 1.0 1.0 L 0.0 1.0 L 0.0 0.0 Z\" style=\"vector-effect: non-scaling-stroke;\" /></g><g transform=\"matrix(1.0, 0.0, 0.0, 1.0, 0.5, 0.0)\"><g transform=\"matrix(1.0, -0.0, 0.0, 1.0, 0.0, 0.0)\"><g /></g></g><g transform=\"matrix(1.0, 0.0, 0.0, 1.0, 1.0, 0.0)\"><g><g style=\"fill: #ffa500;stroke: black;stroke-width: 0.9;fill-opacity: 0.41788060665130616;\" transform=\"matrix(1.0, 0.0, 0.0, 1.0, -0.5, -0.5)\"><path d=\"M 0.0 0.0 L 1.0 0.0 L 1.0 1.0 L 0.0 1.0 L 0.0 0.0 Z\" style=\"vector-effect: non-scaling-stroke;\" /></g><g transform=\"matrix(1.0, 0.0, 0.0, 1.0, 0.5, 0.0)\"><g transform=\"matrix(1.0, -0.0, 0.0, 1.0, 0.0, 0.0)\"><g /></g></g><g style=\"stroke: black;stroke-width: 0.9;\" transform=\"matrix(1.0, 0.0, 0.0, 1.0, 0.5, -0.5)\"><path d=\"M 0.0 0.0 L 1.0 0.0 L 1.0 1.0 L 0.0 1.0 L 0.0 0.0 Z\" style=\"vector-effect: non-scaling-stroke;\" /></g><g transform=\"matrix(1.0, 0.0, 0.0, 1.0, 1.5, 0.0)\"><g transform=\"matrix(1.0, -0.0, 0.0, 1.0, 0.0, 0.0)\"><g /></g></g><g transform=\"matrix(1.0, 0.0, 0.0, 1.0, 2.0, 0.0)\"><g><g style=\"fill: #ffa500;stroke: black;stroke-width: 0.9;fill-opacity: 0.47703950166702275;\" transform=\"matrix(1.0, 0.0, 0.0, 1.0, -0.5, -0.5)\"><path d=\"M 0.0 0.0 L 1.0 0.0 L 1.0 1.0 L 0.0 1.0 L 0.0 0.0 Z\" style=\"vector-effect: non-scaling-stroke;\" /></g><g transform=\"matrix(1.0, 0.0, 0.0, 1.0, 0.5, 0.0)\"><g transform=\"matrix(1.0, -0.0, 0.0, 1.0, 0.0, 0.0)\"><g /></g></g><g style=\"fill: #ffa500;stroke: black;stroke-width: 0.9;fill-opacity: 0.41171261578798296;\" transform=\"matrix(1.0, 0.0, 0.0, 1.0, 0.5, -0.5)\"><path d=\"M 0.0 0.0 L 1.0 0.0 L 1.0 1.0 L 0.0 1.0 L 0.0 0.0 Z\" style=\"vector-effect: non-scaling-stroke;\" /></g></g></g><g transform=\"matrix(1.0, 0.0, 0.0, 1.0, 3.5, 0.0)\"><g transform=\"matrix(1.0, -0.0, 0.0, 1.0, 0.0, 0.0)\"><g /></g></g><g style=\"fill: #ffa500;stroke: black;stroke-width: 0.9;fill-opacity: 0.40269715763628483;\" transform=\"matrix(1.0, 0.0, 0.0, 1.0, 3.5, -0.5)\"><path d=\"M 0.0 0.0 L 1.0 0.0 L 1.0 1.0 L 0.0 1.0 L 0.0 0.0 Z\" style=\"vector-effect: non-scaling-stroke;\" /></g></g></g><g transform=\"matrix(1.0, 0.0, 0.0, 1.0, 0.0, 0.5)\"><g transform=\"matrix(0.0, -1.0, 1.0, 0.0, 0.0, 0.0)\"><g /></g></g><g transform=\"matrix(1.0, 0.0, 0.0, 1.0, 0.0, 0.5)\"><g /></g></g></g><g /><g style=\"stroke: black;stroke-width: 0.9;\" transform=\"matrix(1.0, 0.0, 0.0, 1.0, 3.5, 0.0)\"><g /></g><g transform=\"matrix(1.0, 0.0, 0.0, 1.0, 4.5, 0.0)\"><g><g transform=\"matrix(1.0, 0.0, 0.0, 1.0, -0.0, -2.5)\"><g><g style=\"fill: #ffa500;stroke: black;stroke-width: 0.9;fill-opacity: 0.4210023939609528;\" transform=\"matrix(1.0, 0.0, 0.0, 1.0, -0.5, -0.5)\"><path d=\"M 0.0 0.0 L 1.0 0.0 L 1.0 1.0 L 0.0 1.0 L 0.0 0.0 Z\" style=\"vector-effect: non-scaling-stroke;\" /></g><g transform=\"matrix(1.0, 0.0, 0.0, 1.0, 0.5, 0.0)\"><g transform=\"matrix(1.0, -0.0, 0.0, 1.0, 0.0, 0.0)\"><g /></g></g><g transform=\"matrix(1.0, 0.0, 0.0, 1.0, 0.5, 0.0)\"><g /></g><g transform=\"matrix(1.0, 0.0, 0.0, 1.0, 0.0, 0.5)\"><g transform=\"matrix(0.0, -1.0, 1.0, 0.0, 0.0, 0.0)\"><g /></g></g><g transform=\"matrix(1.0, 0.0, 0.0, 1.0, 0.0, 1.0)\"><g><g style=\"fill: #ffa500;stroke: black;stroke-width: 0.9;fill-opacity: 0.47703950166702275;\" transform=\"matrix(1.0, 0.0, 0.0, 1.0, -0.5, -0.5)\"><path d=\"M 0.0 0.0 L 1.0 0.0 L 1.0 1.0 L 0.0 1.0 L 0.0 0.0 Z\" style=\"vector-effect: non-scaling-stroke;\" /></g><g transform=\"matrix(1.0, 0.0, 0.0, 1.0, 0.5, 0.0)\"><g transform=\"matrix(1.0, -0.0, 0.0, 1.0, 0.0, 0.0)\"><g /></g></g><g transform=\"matrix(1.0, 0.0, 0.0, 1.0, 0.5, 0.0)\"><g /></g><g transform=\"matrix(1.0, 0.0, 0.0, 1.0, 0.0, 0.5)\"><g transform=\"matrix(0.0, -1.0, 1.0, 0.0, 0.0, 0.0)\"><g /></g></g><g transform=\"matrix(1.0, 0.0, 0.0, 1.0, 0.0, 1.0)\"><g><g style=\"fill: #ffa500;stroke: black;stroke-width: 0.9;fill-opacity: 0.41788060665130616;\" transform=\"matrix(1.0, 0.0, 0.0, 1.0, -0.5, -0.5)\"><path d=\"M 0.0 0.0 L 1.0 0.0 L 1.0 1.0 L 0.0 1.0 L 0.0 0.0 Z\" style=\"vector-effect: non-scaling-stroke;\" /></g><g transform=\"matrix(1.0, 0.0, 0.0, 1.0, 0.5, 0.0)\"><g transform=\"matrix(1.0, -0.0, 0.0, 1.0, 0.0, 0.0)\"><g /></g></g><g transform=\"matrix(1.0, 0.0, 0.0, 1.0, 0.5, 0.0)\"><g /></g></g></g><g transform=\"matrix(1.0, 0.0, 0.0, 1.0, 0.0, 1.5)\"><g transform=\"matrix(0.0, -1.0, 1.0, 0.0, 0.0, 0.0)\"><g /></g></g><g transform=\"matrix(1.0, 0.0, 0.0, 1.0, 0.0, 2.0)\"><g><g style=\"fill: #ffa500;stroke: black;stroke-width: 0.9;fill-opacity: 0.41171261578798296;\" transform=\"matrix(1.0, 0.0, 0.0, 1.0, -0.5, -0.5)\"><path d=\"M 0.0 0.0 L 1.0 0.0 L 1.0 1.0 L 0.0 1.0 L 0.0 0.0 Z\" style=\"vector-effect: non-scaling-stroke;\" /></g><g transform=\"matrix(1.0, 0.0, 0.0, 1.0, 0.5, 0.0)\"><g transform=\"matrix(1.0, -0.0, 0.0, 1.0, 0.0, 0.0)\"><g /></g></g><g transform=\"matrix(1.0, 0.0, 0.0, 1.0, 0.5, 0.0)\"><g /></g><g transform=\"matrix(1.0, 0.0, 0.0, 1.0, 0.0, 0.5)\"><g transform=\"matrix(0.0, -1.0, 1.0, 0.0, 0.0, 0.0)\"><g /></g></g><g transform=\"matrix(1.0, 0.0, 0.0, 1.0, 0.0, 1.0)\"><g><g style=\"stroke: black;stroke-width: 0.9;\" transform=\"matrix(1.0, 0.0, 0.0, 1.0, -0.5, -0.5)\"><path d=\"M 0.0 0.0 L 1.0 0.0 L 1.0 1.0 L 0.0 1.0 L 0.0 0.0 Z\" style=\"vector-effect: non-scaling-stroke;\" /></g><g transform=\"matrix(1.0, 0.0, 0.0, 1.0, 0.5, 0.0)\"><g transform=\"matrix(1.0, -0.0, 0.0, 1.0, 0.0, 0.0)\"><g /></g></g><g transform=\"matrix(1.0, 0.0, 0.0, 1.0, 0.5, 0.0)\"><g /></g></g></g></g></g><g transform=\"matrix(1.0, 0.0, 0.0, 1.0, 0.0, 3.5)\"><g transform=\"matrix(0.0, -1.0, 1.0, 0.0, 0.0, 0.0)\"><g /></g></g><g transform=\"matrix(1.0, 0.0, 0.0, 1.0, 0.0, 4.0)\"><g><g style=\"fill: #0000ff;stroke: black;stroke-width: 0.9;fill-opacity: 0.76;\" transform=\"matrix(1.0, 0.0, 0.0, 1.0, -0.5, -0.5)\"><path d=\"M 0.0 0.0 L 1.0 0.0 L 1.0 1.0 L 0.0 1.0 L 0.0 0.0 Z\" style=\"vector-effect: non-scaling-stroke;\" /></g><g transform=\"matrix(1.0, 0.0, 0.0, 1.0, 0.5, 0.0)\"><g transform=\"matrix(1.0, -0.0, 0.0, 1.0, 0.0, 0.0)\"><g /></g></g><g transform=\"matrix(1.0, 0.0, 0.0, 1.0, 0.5, 0.0)\"><g /></g></g></g></g></g></g></g><g /></g></g></g></g><g style=\"stroke: black;stroke-width: 0.9;\" transform=\"matrix(0.0, -1.0, 1.0, 0.0, 0.0, 3.5)\"><g /></g><g transform=\"matrix(1.0, 0.0, 0.0, 1.0, 0.0, 4.0)\"><g /></g></g></g></g><g /></g></g></g></g><g /></g></g></g></g></svg>"
      ],
      "text/plain": [
       "Compose(envelope=<chalk.envelope.Envelope object at 0x7149aa5e4a90>, diagrams=[Primitive(shape=Path(loc_trails=[Located(trail=Trail(segments=[Segment(offset=Vec2(10.80012, 0.0), origin=Vec2(0.0, 0.0)), Segment(offset=Vec2(0.0, 10.80012), origin=Vec2(0.0, 0.0)), Segment(offset=Vec2(-10.80012, 0.0), origin=Vec2(0.0, 0.0)), Segment(offset=Vec2(0.0, -10.80012), origin=Vec2(0.0, 0.0))], closed=True), location=Vec2(0.0, 0.0))]), style=Style(line_width_=None, line_color_=None, fill_color_=<Color white>, fill_opacity_=None, dashing_=None, output_size=None), transform=Affine(1.0, 0.0, -5.40006,\n",
       "       0.0, 1.0, -5.40006)), ApplyTransform(transform=Affine(1.0, 0.0, -0.0,\n",
       "       0.0, 1.0, -4.80006), diagram=Compose(envelope=<chalk.envelope.Envelope object at 0x7149aa5d4650>, diagrams=[Primitive(shape=Spacer(width=0, height=1), style=Style(line_width_=None, line_color_=None, fill_color_=None, fill_opacity_=None, dashing_=None, output_size=None), transform=Affine(1.0, 0.0, 0.0,\n",
       "       0.0, 1.0, 0.0)), Primitive(shape=Text(text='', font_size=0.75), style=Style(line_width_=(<WidthType.NORMALIZED: 2>, 0), line_color_=None, fill_color_=<Color black>, fill_opacity_=None, dashing_=None, output_size=None), transform=Affine(1.0, 0.0, 0.0,\n",
       "       0.0, 1.0, 0.5)), Primitive(shape=Spacer(width=0, height=1), style=Style(line_width_=None, line_color_=None, fill_color_=None, fill_opacity_=None, dashing_=None, output_size=None), transform=Affine(1.0, 0.0, 0.0,\n",
       "       0.0, 1.0, 1.0001)), ApplyTransform(transform=Affine(1.0, 0.0, 0.0,\n",
       "       0.0, 1.0, 5.0001), diagram=ApplyTransform(transform=Affine(1.0, 0.0, -4.5,\n",
       "       0.0, 1.0, -0.5), diagram=Compose(envelope=<chalk.envelope.Envelope object at 0x7149aa5d5ad0>, diagrams=[ApplyTransform(transform=Affine(1.0, 0.0, -5e-05,\n",
       "       0.0, 1.0, -0.25005), diagram=Compose(envelope=<chalk.envelope.Envelope object at 0x7149aa5c79d0>, diagrams=[Primitive(shape=Spacer(width=0, height=0.5), style=Style(line_width_=None, line_color_=None, fill_color_=None, fill_opacity_=None, dashing_=None, output_size=None), transform=Affine(1.0, 0.0, 0.0,\n",
       "       0.0, 1.0, 0.0)), Primitive(shape=Text(text='', font_size=0.5), style=Style(line_width_=(<WidthType.NORMALIZED: 2>, 0.0), line_color_=None, fill_color_=<Color black>, fill_opacity_=None, dashing_=None, output_size=None), transform=Affine(1.0, 0.0, 0.0,\n",
       "       0.0, 1.0, 0.25)), Primitive(shape=Spacer(width=0, height=0.5), style=Style(line_width_=None, line_color_=None, fill_color_=None, fill_opacity_=None, dashing_=None, output_size=None), transform=Affine(1.0, 0.0, 0.0,\n",
       "       0.0, 1.0, 0.5001))])), Empty(), Primitive(shape=Spacer(width=1.0, height=0), style=Style(line_width_=None, line_color_=None, fill_color_=None, fill_opacity_=None, dashing_=None, output_size=None), transform=Affine(1.0, 0.0, 0.50005,\n",
       "       0.0, 1.0, 0.0)), ApplyTransform(transform=Affine(1.0, 0.0, 4.00005,\n",
       "       0.0, 1.0, 0.0), diagram=Compose(envelope=<chalk.envelope.Envelope object at 0x7149aa5d5ed0>, diagrams=[ApplyTransform(transform=Affine(1.0, 0.0, -2.5,\n",
       "       0.0, 1.0, -0.0), diagram=Compose(envelope=<chalk.envelope.Envelope object at 0x7149aa5d2450>, diagrams=[Primitive(shape=Path(loc_trails=[Located(trail=Trail(segments=[Segment(offset=Vec2(1.0, 0.0), origin=Vec2(0.0, 0.0)), Segment(offset=Vec2(0.0, 1.0), origin=Vec2(0.0, 0.0)), Segment(offset=Vec2(-1.0, 0.0), origin=Vec2(0.0, 0.0)), Segment(offset=Vec2(0.0, -1.0), origin=Vec2(0.0, 0.0))], closed=True), location=Vec2(0.0, 0.0))]), style=Style(line_width_=None, line_color_=None, fill_color_=<Color orange>, fill_opacity_=0.4210023939609528, dashing_=None, output_size=None), transform=Affine(1.0, 0.0, -0.5,\n",
       "       0.0, 1.0, -0.5)), ApplyTransform(transform=Affine(1.0, 0.0, 0.5,\n",
       "       0.0, 1.0, 0.0), diagram=ApplyTransform(transform=Affine(1.0, 0.0, 0.0,\n",
       "       -0.0, 1.0, 0.0), diagram=Empty())), ApplyTransform(transform=Affine(1.0, 0.0, 1.0,\n",
       "       0.0, 1.0, 0.0), diagram=Compose(envelope=<chalk.envelope.Envelope object at 0x7149aa593a90>, diagrams=[Primitive(shape=Path(loc_trails=[Located(trail=Trail(segments=[Segment(offset=Vec2(1.0, 0.0), origin=Vec2(0.0, 0.0)), Segment(offset=Vec2(0.0, 1.0), origin=Vec2(0.0, 0.0)), Segment(offset=Vec2(-1.0, 0.0), origin=Vec2(0.0, 0.0)), Segment(offset=Vec2(0.0, -1.0), origin=Vec2(0.0, 0.0))], closed=True), location=Vec2(0.0, 0.0))]), style=Style(line_width_=None, line_color_=None, fill_color_=<Color orange>, fill_opacity_=0.41788060665130616, dashing_=None, output_size=None), transform=Affine(1.0, 0.0, -0.5,\n",
       "       0.0, 1.0, -0.5)), ApplyTransform(transform=Affine(1.0, 0.0, 0.5,\n",
       "       0.0, 1.0, 0.0), diagram=ApplyTransform(transform=Affine(1.0, 0.0, 0.0,\n",
       "       -0.0, 1.0, 0.0), diagram=Empty())), Primitive(shape=Path(loc_trails=[Located(trail=Trail(segments=[Segment(offset=Vec2(1.0, 0.0), origin=Vec2(0.0, 0.0)), Segment(offset=Vec2(0.0, 1.0), origin=Vec2(0.0, 0.0)), Segment(offset=Vec2(-1.0, 0.0), origin=Vec2(0.0, 0.0)), Segment(offset=Vec2(0.0, -1.0), origin=Vec2(0.0, 0.0))], closed=True), location=Vec2(0.0, 0.0))]), style=Style(line_width_=None, line_color_=None, fill_color_=None, fill_opacity_=None, dashing_=None, output_size=None), transform=Affine(1.0, 0.0, 0.5,\n",
       "       0.0, 1.0, -0.5)), ApplyTransform(transform=Affine(1.0, 0.0, 1.5,\n",
       "       0.0, 1.0, 0.0), diagram=ApplyTransform(transform=Affine(1.0, 0.0, 0.0,\n",
       "       -0.0, 1.0, 0.0), diagram=Empty())), ApplyTransform(transform=Affine(1.0, 0.0, 2.0,\n",
       "       0.0, 1.0, 0.0), diagram=Compose(envelope=<chalk.envelope.Envelope object at 0x7149aa590990>, diagrams=[Primitive(shape=Path(loc_trails=[Located(trail=Trail(segments=[Segment(offset=Vec2(1.0, 0.0), origin=Vec2(0.0, 0.0)), Segment(offset=Vec2(0.0, 1.0), origin=Vec2(0.0, 0.0)), Segment(offset=Vec2(-1.0, 0.0), origin=Vec2(0.0, 0.0)), Segment(offset=Vec2(0.0, -1.0), origin=Vec2(0.0, 0.0))], closed=True), location=Vec2(0.0, 0.0))]), style=Style(line_width_=None, line_color_=None, fill_color_=<Color orange>, fill_opacity_=0.47703950166702275, dashing_=None, output_size=None), transform=Affine(1.0, 0.0, -0.5,\n",
       "       0.0, 1.0, -0.5)), ApplyTransform(transform=Affine(1.0, 0.0, 0.5,\n",
       "       0.0, 1.0, 0.0), diagram=ApplyTransform(transform=Affine(1.0, 0.0, 0.0,\n",
       "       -0.0, 1.0, 0.0), diagram=Empty())), Primitive(shape=Path(loc_trails=[Located(trail=Trail(segments=[Segment(offset=Vec2(1.0, 0.0), origin=Vec2(0.0, 0.0)), Segment(offset=Vec2(0.0, 1.0), origin=Vec2(0.0, 0.0)), Segment(offset=Vec2(-1.0, 0.0), origin=Vec2(0.0, 0.0)), Segment(offset=Vec2(0.0, -1.0), origin=Vec2(0.0, 0.0))], closed=True), location=Vec2(0.0, 0.0))]), style=Style(line_width_=None, line_color_=None, fill_color_=<Color orange>, fill_opacity_=0.41171261578798296, dashing_=None, output_size=None), transform=Affine(1.0, 0.0, 0.5,\n",
       "       0.0, 1.0, -0.5))])), ApplyTransform(transform=Affine(1.0, 0.0, 3.5,\n",
       "       0.0, 1.0, 0.0), diagram=ApplyTransform(transform=Affine(1.0, 0.0, 0.0,\n",
       "       -0.0, 1.0, 0.0), diagram=Empty())), Primitive(shape=Path(loc_trails=[Located(trail=Trail(segments=[Segment(offset=Vec2(1.0, 0.0), origin=Vec2(0.0, 0.0)), Segment(offset=Vec2(0.0, 1.0), origin=Vec2(0.0, 0.0)), Segment(offset=Vec2(-1.0, 0.0), origin=Vec2(0.0, 0.0)), Segment(offset=Vec2(0.0, -1.0), origin=Vec2(0.0, 0.0))], closed=True), location=Vec2(0.0, 0.0))]), style=Style(line_width_=None, line_color_=None, fill_color_=<Color orange>, fill_opacity_=0.40269715763628483, dashing_=None, output_size=None), transform=Affine(1.0, 0.0, 3.5,\n",
       "       0.0, 1.0, -0.5))])), ApplyTransform(transform=Affine(1.0, 0.0, 0.0,\n",
       "       0.0, 1.0, 0.5), diagram=ApplyTransform(transform=Affine(0.0, 1.0, 0.0,\n",
       "       -1.0, 0.0, 0.0), diagram=Empty())), ApplyTransform(transform=Affine(1.0, 0.0, 0.0,\n",
       "       0.0, 1.0, 0.5), diagram=Empty())])), Empty(), Primitive(shape=Spacer(width=1.0, height=0), style=Style(line_width_=None, line_color_=None, fill_color_=None, fill_opacity_=None, dashing_=None, output_size=None), transform=Affine(1.0, 0.0, 3.5,\n",
       "       0.0, 1.0, 0.0)), ApplyTransform(transform=Affine(1.0, 0.0, 4.5,\n",
       "       0.0, 1.0, 0.0), diagram=Compose(envelope=<chalk.envelope.Envelope object at 0x7149aa5d6950>, diagrams=[ApplyTransform(transform=Affine(1.0, 0.0, -0.0,\n",
       "       0.0, 1.0, -2.5), diagram=Compose(envelope=<chalk.envelope.Envelope object at 0x7149aa5d2f90>, diagrams=[Primitive(shape=Path(loc_trails=[Located(trail=Trail(segments=[Segment(offset=Vec2(1.0, 0.0), origin=Vec2(0.0, 0.0)), Segment(offset=Vec2(0.0, 1.0), origin=Vec2(0.0, 0.0)), Segment(offset=Vec2(-1.0, 0.0), origin=Vec2(0.0, 0.0)), Segment(offset=Vec2(0.0, -1.0), origin=Vec2(0.0, 0.0))], closed=True), location=Vec2(0.0, 0.0))]), style=Style(line_width_=None, line_color_=None, fill_color_=<Color orange>, fill_opacity_=0.4210023939609528, dashing_=None, output_size=None), transform=Affine(1.0, 0.0, -0.5,\n",
       "       0.0, 1.0, -0.5)), ApplyTransform(transform=Affine(1.0, 0.0, 0.5,\n",
       "       0.0, 1.0, 0.0), diagram=ApplyTransform(transform=Affine(1.0, 0.0, 0.0,\n",
       "       -0.0, 1.0, 0.0), diagram=Empty())), ApplyTransform(transform=Affine(1.0, 0.0, 0.5,\n",
       "       0.0, 1.0, 0.0), diagram=Empty()), ApplyTransform(transform=Affine(1.0, 0.0, 0.0,\n",
       "       0.0, 1.0, 0.5), diagram=ApplyTransform(transform=Affine(0.0, 1.0, 0.0,\n",
       "       -1.0, 0.0, 0.0), diagram=Empty())), ApplyTransform(transform=Affine(1.0, 0.0, 0.0,\n",
       "       0.0, 1.0, 1.0), diagram=Compose(envelope=<chalk.envelope.Envelope object at 0x7149aa5a2c10>, diagrams=[Primitive(shape=Path(loc_trails=[Located(trail=Trail(segments=[Segment(offset=Vec2(1.0, 0.0), origin=Vec2(0.0, 0.0)), Segment(offset=Vec2(0.0, 1.0), origin=Vec2(0.0, 0.0)), Segment(offset=Vec2(-1.0, 0.0), origin=Vec2(0.0, 0.0)), Segment(offset=Vec2(0.0, -1.0), origin=Vec2(0.0, 0.0))], closed=True), location=Vec2(0.0, 0.0))]), style=Style(line_width_=None, line_color_=None, fill_color_=<Color orange>, fill_opacity_=0.47703950166702275, dashing_=None, output_size=None), transform=Affine(1.0, 0.0, -0.5,\n",
       "       0.0, 1.0, -0.5)), ApplyTransform(transform=Affine(1.0, 0.0, 0.5,\n",
       "       0.0, 1.0, 0.0), diagram=ApplyTransform(transform=Affine(1.0, 0.0, 0.0,\n",
       "       -0.0, 1.0, 0.0), diagram=Empty())), ApplyTransform(transform=Affine(1.0, 0.0, 0.5,\n",
       "       0.0, 1.0, 0.0), diagram=Empty()), ApplyTransform(transform=Affine(1.0, 0.0, 0.0,\n",
       "       0.0, 1.0, 0.5), diagram=ApplyTransform(transform=Affine(0.0, 1.0, 0.0,\n",
       "       -1.0, 0.0, 0.0), diagram=Empty())), ApplyTransform(transform=Affine(1.0, 0.0, 0.0,\n",
       "       0.0, 1.0, 1.0), diagram=Compose(envelope=<chalk.envelope.Envelope object at 0x7149aa5a1650>, diagrams=[Primitive(shape=Path(loc_trails=[Located(trail=Trail(segments=[Segment(offset=Vec2(1.0, 0.0), origin=Vec2(0.0, 0.0)), Segment(offset=Vec2(0.0, 1.0), origin=Vec2(0.0, 0.0)), Segment(offset=Vec2(-1.0, 0.0), origin=Vec2(0.0, 0.0)), Segment(offset=Vec2(0.0, -1.0), origin=Vec2(0.0, 0.0))], closed=True), location=Vec2(0.0, 0.0))]), style=Style(line_width_=None, line_color_=None, fill_color_=<Color orange>, fill_opacity_=0.41788060665130616, dashing_=None, output_size=None), transform=Affine(1.0, 0.0, -0.5,\n",
       "       0.0, 1.0, -0.5)), ApplyTransform(transform=Affine(1.0, 0.0, 0.5,\n",
       "       0.0, 1.0, 0.0), diagram=ApplyTransform(transform=Affine(1.0, 0.0, 0.0,\n",
       "       -0.0, 1.0, 0.0), diagram=Empty())), ApplyTransform(transform=Affine(1.0, 0.0, 0.5,\n",
       "       0.0, 1.0, 0.0), diagram=Empty())])), ApplyTransform(transform=Affine(1.0, 0.0, 0.0,\n",
       "       0.0, 1.0, 1.5), diagram=ApplyTransform(transform=Affine(0.0, 1.0, 0.0,\n",
       "       -1.0, 0.0, 0.0), diagram=Empty())), ApplyTransform(transform=Affine(1.0, 0.0, 0.0,\n",
       "       0.0, 1.0, 2.0), diagram=Compose(envelope=<chalk.envelope.Envelope object at 0x7149aa5a2a90>, diagrams=[Primitive(shape=Path(loc_trails=[Located(trail=Trail(segments=[Segment(offset=Vec2(1.0, 0.0), origin=Vec2(0.0, 0.0)), Segment(offset=Vec2(0.0, 1.0), origin=Vec2(0.0, 0.0)), Segment(offset=Vec2(-1.0, 0.0), origin=Vec2(0.0, 0.0)), Segment(offset=Vec2(0.0, -1.0), origin=Vec2(0.0, 0.0))], closed=True), location=Vec2(0.0, 0.0))]), style=Style(line_width_=None, line_color_=None, fill_color_=<Color orange>, fill_opacity_=0.41171261578798296, dashing_=None, output_size=None), transform=Affine(1.0, 0.0, -0.5,\n",
       "       0.0, 1.0, -0.5)), ApplyTransform(transform=Affine(1.0, 0.0, 0.5,\n",
       "       0.0, 1.0, 0.0), diagram=ApplyTransform(transform=Affine(1.0, 0.0, 0.0,\n",
       "       -0.0, 1.0, 0.0), diagram=Empty())), ApplyTransform(transform=Affine(1.0, 0.0, 0.5,\n",
       "       0.0, 1.0, 0.0), diagram=Empty()), ApplyTransform(transform=Affine(1.0, 0.0, 0.0,\n",
       "       0.0, 1.0, 0.5), diagram=ApplyTransform(transform=Affine(0.0, 1.0, 0.0,\n",
       "       -1.0, 0.0, 0.0), diagram=Empty())), ApplyTransform(transform=Affine(1.0, 0.0, 0.0,\n",
       "       0.0, 1.0, 1.0), diagram=Compose(envelope=<chalk.envelope.Envelope object at 0x7149aa5a1410>, diagrams=[Primitive(shape=Path(loc_trails=[Located(trail=Trail(segments=[Segment(offset=Vec2(1.0, 0.0), origin=Vec2(0.0, 0.0)), Segment(offset=Vec2(0.0, 1.0), origin=Vec2(0.0, 0.0)), Segment(offset=Vec2(-1.0, 0.0), origin=Vec2(0.0, 0.0)), Segment(offset=Vec2(0.0, -1.0), origin=Vec2(0.0, 0.0))], closed=True), location=Vec2(0.0, 0.0))]), style=Style(line_width_=None, line_color_=None, fill_color_=None, fill_opacity_=None, dashing_=None, output_size=None), transform=Affine(1.0, 0.0, -0.5,\n",
       "       0.0, 1.0, -0.5)), ApplyTransform(transform=Affine(1.0, 0.0, 0.5,\n",
       "       0.0, 1.0, 0.0), diagram=ApplyTransform(transform=Affine(1.0, 0.0, 0.0,\n",
       "       -0.0, 1.0, 0.0), diagram=Empty())), ApplyTransform(transform=Affine(1.0, 0.0, 0.5,\n",
       "       0.0, 1.0, 0.0), diagram=Empty())]))])), ApplyTransform(transform=Affine(1.0, 0.0, 0.0,\n",
       "       0.0, 1.0, 3.5), diagram=ApplyTransform(transform=Affine(0.0, 1.0, 0.0,\n",
       "       -1.0, 0.0, 0.0), diagram=Empty())), ApplyTransform(transform=Affine(1.0, 0.0, 0.0,\n",
       "       0.0, 1.0, 4.0), diagram=Compose(envelope=<chalk.envelope.Envelope object at 0x7149aa5a2410>, diagrams=[Primitive(shape=Path(loc_trails=[Located(trail=Trail(segments=[Segment(offset=Vec2(1.0, 0.0), origin=Vec2(0.0, 0.0)), Segment(offset=Vec2(0.0, 1.0), origin=Vec2(0.0, 0.0)), Segment(offset=Vec2(-1.0, 0.0), origin=Vec2(0.0, 0.0)), Segment(offset=Vec2(0.0, -1.0), origin=Vec2(0.0, 0.0))], closed=True), location=Vec2(0.0, 0.0))]), style=Style(line_width_=None, line_color_=None, fill_color_=<Color blue>, fill_opacity_=0.76, dashing_=None, output_size=None), transform=Affine(1.0, 0.0, -0.5,\n",
       "       0.0, 1.0, -0.5)), ApplyTransform(transform=Affine(1.0, 0.0, 0.5,\n",
       "       0.0, 1.0, 0.0), diagram=ApplyTransform(transform=Affine(1.0, 0.0, 0.0,\n",
       "       -0.0, 1.0, 0.0), diagram=Empty())), ApplyTransform(transform=Affine(1.0, 0.0, 0.5,\n",
       "       0.0, 1.0, 0.0), diagram=Empty())]))]))])), Empty()]))])), Primitive(shape=Spacer(width=1.0, height=0), style=Style(line_width_=None, line_color_=None, fill_color_=None, fill_opacity_=None, dashing_=None, output_size=None), transform=Affine(0.0, 1.0, 0.0,\n",
       "       -1.0, 0.0, 3.5)), ApplyTransform(transform=Affine(1.0, 0.0, 0.0,\n",
       "       0.0, 1.0, 4.0), diagram=Empty())]))), Empty()]))])"
      ]
     },
     "execution_count": 36,
     "metadata": {},
     "output_type": "execute_result"
    }
   ],
   "source": [
    "data = torch.randn((1, 6))\n",
    "data = torch.where(data > 0, data, 0)\n",
    "data2 = data.view((2, 3)).transpose(1, 0).reshape((6, 1))\n",
    "data2[-1, 0] = -6\n",
    "draw(data, data2)"
   ]
  },
  {
   "cell_type": "markdown",
   "metadata": {
    "slideshow": {
     "slide_type": "subslide"
    }
   },
   "source": [
    "- `transpose` and `permute`"
   ]
  },
  {
   "cell_type": "code",
   "execution_count": 38,
   "metadata": {
    "slideshow": {
     "slide_type": "fragment"
    }
   },
   "outputs": [
    {
     "data": {
      "text/plain": [
       "torch.Size([5, 2, 3])"
      ]
     },
     "execution_count": 38,
     "metadata": {},
     "output_type": "execute_result"
    }
   ],
   "source": [
    "pt_data = torch.rand((2, 3, 5))\n",
    "new_pt_data = pt_data.permute((2, 0, 1))\n",
    "new_pt_data.shape"
   ]
  },
  {
   "cell_type": "markdown",
   "metadata": {
    "slideshow": {
     "slide_type": "subslide"
    }
   },
   "source": [
    "- `gather` and `take`"
   ]
  },
  {
   "cell_type": "code",
   "execution_count": 41,
   "metadata": {
    "slideshow": {
     "slide_type": "fragment"
    }
   },
   "outputs": [
    {
     "data": {
      "image/svg+xml": [
       "<?xml version=\"1.0\" encoding=\"utf-8\" ?>\n",
       "<svg baseProfile=\"full\" height=\"300\" version=\"1.1\" width=\"479\" xmlns=\"http://www.w3.org/2000/svg\" xmlns:ev=\"http://www.w3.org/2001/xml-events\" xmlns:xlink=\"http://www.w3.org/1999/xlink\"><defs><marker id=\"arrow\" markerHeight=\"3.5\" markerWidth=\"5\" orient=\"auto\" refX=\"5.0\" refY=\"1.7\"><polygon points=\"0,0 5,1.75 0,3.5\" /></marker></defs><g style=\"fill:white;\"><g transform=\"matrix(1.0, 0.0, 0.0, 1.0, 239.99820003599925, 150.0)\"><g transform=\"matrix(47.61809525714248, 0.0, 0.0, 47.61809525714248, 0.0, 0.0)\"><g><g transform=\"matrix(1.0, 0.0, 0.0, 1.0, -0.0, 2.220446049250313e-16)\"><g><g style=\"fill: #ffffff;stroke: black;stroke-width: 1.437;\" transform=\"matrix(1.0, 0.0, 0.0, 1.0, -4.800059999999999, -3.0000599999999995)\"><path d=\"M 0.0 0.0 L 9.600119999999999 0.0 L 9.600119999999999 6.000119999999999 L 0.0 6.000119999999999 L 0.0 0.0 Z\" style=\"vector-effect: non-scaling-stroke;\" /></g><g transform=\"matrix(1.0, 0.0, 0.0, 1.0, -0.0, -2.40006)\"><g><g style=\"stroke: black;stroke-width: 1.437;\" transform=\"matrix(1.0, 0.0, 0.0, 1.0, 0.0, 0.0)\"><g /></g><g style=\"fill: #000000;stroke: black;stroke-width: 0.0;\" transform=\"matrix(1.0, 0.0, 0.0, 1.0, 0.0, 0.5)\"><text style=\"text-align:center; text-anchor:middle; dominant-baseline:middle;&#10;                      font-family:sans-serif; font-weight: bold;&#10;                      font-size:0.75px;&#10;                      vector-effect: non-scaling-stroke;\" transform=\"translate(-5e-05, 0)\" /></g><g style=\"stroke: black;stroke-width: 1.437;\" transform=\"matrix(1.0, 0.0, 0.0, 1.0, 0.0, 1.0001)\"><g /></g><g transform=\"matrix(1.0, 0.0, 0.0, 1.0, 0.0, 3.0000999999999998)\"><g transform=\"matrix(1.0, 0.0, 0.0, 1.0, -4.0, -0.5)\"><g><g transform=\"matrix(1.0, 0.0, 0.0, 1.0, -5e-05, -0.25005)\"><g><g style=\"stroke: black;stroke-width: 1.437;\" transform=\"matrix(1.0, 0.0, 0.0, 1.0, 0.0, 0.0)\"><g /></g><g style=\"fill: #000000;stroke: black;stroke-width: 0.0;\" transform=\"matrix(1.0, 0.0, 0.0, 1.0, 0.0, 0.25)\"><text style=\"text-align:center; text-anchor:middle; dominant-baseline:middle;&#10;                      font-family:sans-serif; font-weight: bold;&#10;                      font-size:0.5px;&#10;                      vector-effect: non-scaling-stroke;\" transform=\"translate(-5e-05, 0)\" /></g><g style=\"stroke: black;stroke-width: 1.437;\" transform=\"matrix(1.0, 0.0, 0.0, 1.0, 0.0, 0.5001)\"><g /></g></g></g><g /><g style=\"stroke: black;stroke-width: 1.437;\" transform=\"matrix(1.0, 0.0, 0.0, 1.0, 0.50005, 0.0)\"><g /></g><g transform=\"matrix(1.0, 0.0, 0.0, 1.0, 2.50005, 0.0)\"><g><g transform=\"matrix(1.0, 0.0, 0.0, 1.0, -1.0, -0.5)\"><g><g style=\"fill: #ffa500;stroke: black;stroke-width: 1.437;fill-opacity: 0.6838179111480713;\" transform=\"matrix(1.0, 0.0, 0.0, 1.0, -0.5, -0.5)\"><path d=\"M 0.0 0.0 L 1.0 0.0 L 1.0 1.0 L 0.0 1.0 L 0.0 0.0 Z\" style=\"vector-effect: non-scaling-stroke;\" /></g><g transform=\"matrix(1.0, 0.0, 0.0, 1.0, 0.5, 0.0)\"><g transform=\"matrix(1.0, -0.0, 0.0, 1.0, 0.0, 0.0)\"><g /></g></g><g transform=\"matrix(1.0, 0.0, 0.0, 1.0, 1.0, 0.0)\"><g><g style=\"fill: #ffa500;stroke: black;stroke-width: 1.437;fill-opacity: 0.9589374542236329;\" transform=\"matrix(1.0, 0.0, 0.0, 1.0, -0.5, -0.5)\"><path d=\"M 0.0 0.0 L 1.0 0.0 L 1.0 1.0 L 0.0 1.0 L 0.0 0.0 Z\" style=\"vector-effect: non-scaling-stroke;\" /></g><g transform=\"matrix(1.0, 0.0, 0.0, 1.0, 0.5, 0.0)\"><g transform=\"matrix(1.0, -0.0, 0.0, 1.0, 0.0, 0.0)\"><g /></g></g><g style=\"fill: #ffa500;stroke: black;stroke-width: 1.437;fill-opacity: 1.1146223068237304;\" transform=\"matrix(1.0, 0.0, 0.0, 1.0, 0.5, -0.5)\"><path d=\"M 0.0 0.0 L 1.0 0.0 L 1.0 1.0 L 0.0 1.0 L 0.0 0.0 Z\" style=\"vector-effect: non-scaling-stroke;\" /></g></g></g><g transform=\"matrix(1.0, 0.0, 0.0, 1.0, 0.0, 0.5)\"><g transform=\"matrix(0.0, -1.0, 1.0, 0.0, 0.0, 0.0)\"><g /></g></g><g transform=\"matrix(1.0, 0.0, 0.0, 1.0, 0.0, 1.0)\"><g><g style=\"fill: #0000ff;stroke: black;stroke-width: 1.437;fill-opacity: 0.4054444292187691;\" transform=\"matrix(1.0, 0.0, 0.0, 1.0, -0.5, -0.5)\"><path d=\"M 0.0 0.0 L 1.0 0.0 L 1.0 1.0 L 0.0 1.0 L 0.0 0.0 Z\" style=\"vector-effect: non-scaling-stroke;\" /></g><g transform=\"matrix(1.0, 0.0, 0.0, 1.0, 0.5, 0.0)\"><g transform=\"matrix(1.0, -0.0, 0.0, 1.0, 0.0, 0.0)\"><g /></g></g><g transform=\"matrix(1.0, 0.0, 0.0, 1.0, 1.0, 0.0)\"><g><g style=\"fill: #0000ff;stroke: black;stroke-width: 1.437;fill-opacity: 0.8975214767456055;\" transform=\"matrix(1.0, 0.0, 0.0, 1.0, -0.5, -0.5)\"><path d=\"M 0.0 0.0 L 1.0 0.0 L 1.0 1.0 L 0.0 1.0 L 0.0 0.0 Z\" style=\"vector-effect: non-scaling-stroke;\" /></g><g transform=\"matrix(1.0, 0.0, 0.0, 1.0, 0.5, 0.0)\"><g transform=\"matrix(1.0, -0.0, 0.0, 1.0, 0.0, 0.0)\"><g /></g></g><g style=\"fill: #ffa500;stroke: black;stroke-width: 1.437;fill-opacity: 0.6169678211212158;\" transform=\"matrix(1.0, 0.0, 0.0, 1.0, 0.5, -0.5)\"><path d=\"M 0.0 0.0 L 1.0 0.0 L 1.0 1.0 L 0.0 1.0 L 0.0 0.0 Z\" style=\"vector-effect: non-scaling-stroke;\" /></g></g></g></g></g></g></g><g /><g style=\"stroke: black;stroke-width: 1.437;\" transform=\"matrix(1.0, 0.0, 0.0, 1.0, 2.0, 0.0)\"><g /></g><g transform=\"matrix(1.0, 0.0, 0.0, 1.0, 4.0, 0.0)\"><g><g transform=\"matrix(1.0, 0.0, 0.0, 1.0, -1.0, -0.5)\"><g><g style=\"fill: #0000ff;stroke: black;stroke-width: 1.437;fill-opacity: 0.4054444292187691;\" transform=\"matrix(1.0, 0.0, 0.0, 1.0, -0.5, -0.5)\"><path d=\"M 0.0 0.0 L 1.0 0.0 L 1.0 1.0 L 0.0 1.0 L 0.0 0.0 Z\" style=\"vector-effect: non-scaling-stroke;\" /></g><g transform=\"matrix(1.0, 0.0, 0.0, 1.0, 0.5, 0.0)\"><g transform=\"matrix(1.0, -0.0, 0.0, 1.0, 0.0, 0.0)\"><g /></g></g><g transform=\"matrix(1.0, 0.0, 0.0, 1.0, 1.0, 0.0)\"><g><g style=\"fill: #0000ff;stroke: black;stroke-width: 1.437;fill-opacity: 0.8975214767456055;\" transform=\"matrix(1.0, 0.0, 0.0, 1.0, -0.5, -0.5)\"><path d=\"M 0.0 0.0 L 1.0 0.0 L 1.0 1.0 L 0.0 1.0 L 0.0 0.0 Z\" style=\"vector-effect: non-scaling-stroke;\" /></g><g transform=\"matrix(1.0, 0.0, 0.0, 1.0, 0.5, 0.0)\"><g transform=\"matrix(1.0, -0.0, 0.0, 1.0, 0.0, 0.0)\"><g /></g></g><g style=\"fill: #ffa500;stroke: black;stroke-width: 1.437;fill-opacity: 0.6169678211212158;\" transform=\"matrix(1.0, 0.0, 0.0, 1.0, 0.5, -0.5)\"><path d=\"M 0.0 0.0 L 1.0 0.0 L 1.0 1.0 L 0.0 1.0 L 0.0 0.0 Z\" style=\"vector-effect: non-scaling-stroke;\" /></g></g></g><g transform=\"matrix(1.0, 0.0, 0.0, 1.0, 0.0, 0.5)\"><g transform=\"matrix(0.0, -1.0, 1.0, 0.0, 0.0, 0.0)\"><g /></g></g><g transform=\"matrix(1.0, 0.0, 0.0, 1.0, 0.0, 1.0)\"><g><g style=\"fill: #ffa500;stroke: black;stroke-width: 1.437;fill-opacity: 0.6838179111480713;\" transform=\"matrix(1.0, 0.0, 0.0, 1.0, -0.5, -0.5)\"><path d=\"M 0.0 0.0 L 1.0 0.0 L 1.0 1.0 L 0.0 1.0 L 0.0 0.0 Z\" style=\"vector-effect: non-scaling-stroke;\" /></g><g transform=\"matrix(1.0, 0.0, 0.0, 1.0, 0.5, 0.0)\"><g transform=\"matrix(1.0, -0.0, 0.0, 1.0, 0.0, 0.0)\"><g /></g></g><g transform=\"matrix(1.0, 0.0, 0.0, 1.0, 1.0, 0.0)\"><g><g style=\"fill: #ffa500;stroke: black;stroke-width: 1.437;fill-opacity: 0.9589374542236329;\" transform=\"matrix(1.0, 0.0, 0.0, 1.0, -0.5, -0.5)\"><path d=\"M 0.0 0.0 L 1.0 0.0 L 1.0 1.0 L 0.0 1.0 L 0.0 0.0 Z\" style=\"vector-effect: non-scaling-stroke;\" /></g><g transform=\"matrix(1.0, 0.0, 0.0, 1.0, 0.5, 0.0)\"><g transform=\"matrix(1.0, -0.0, 0.0, 1.0, 0.0, 0.0)\"><g /></g></g><g style=\"fill: #ffa500;stroke: black;stroke-width: 1.437;fill-opacity: 1.1146223068237304;\" transform=\"matrix(1.0, 0.0, 0.0, 1.0, 0.5, -0.5)\"><path d=\"M 0.0 0.0 L 1.0 0.0 L 1.0 1.0 L 0.0 1.0 L 0.0 0.0 Z\" style=\"vector-effect: non-scaling-stroke;\" /></g></g></g></g></g></g></g><g /></g></g></g></g><g style=\"stroke: black;stroke-width: 1.437;\" transform=\"matrix(0.0, -1.0, 1.0, 0.0, 0.0, 1.5)\"><g /></g><g transform=\"matrix(1.0, 0.0, 0.0, 1.0, 0.0, 2.0)\"><g /></g></g></g></g><g /></g></g></g></g><g /></g></g></g></g></svg>"
      ],
      "text/html": [
       "<?xml version=\"1.0\" encoding=\"utf-8\" ?>\n",
       "<svg baseProfile=\"full\" height=\"300\" version=\"1.1\" width=\"479\" xmlns=\"http://www.w3.org/2000/svg\" xmlns:ev=\"http://www.w3.org/2001/xml-events\" xmlns:xlink=\"http://www.w3.org/1999/xlink\"><defs><marker id=\"arrow\" markerHeight=\"3.5\" markerWidth=\"5\" orient=\"auto\" refX=\"5.0\" refY=\"1.7\"><polygon points=\"0,0 5,1.75 0,3.5\" /></marker></defs><g style=\"fill:white;\"><g transform=\"matrix(1.0, 0.0, 0.0, 1.0, 239.99820003599925, 150.0)\"><g transform=\"matrix(47.61809525714248, 0.0, 0.0, 47.61809525714248, 0.0, 0.0)\"><g><g transform=\"matrix(1.0, 0.0, 0.0, 1.0, -0.0, 2.220446049250313e-16)\"><g><g style=\"fill: #ffffff;stroke: black;stroke-width: 1.437;\" transform=\"matrix(1.0, 0.0, 0.0, 1.0, -4.800059999999999, -3.0000599999999995)\"><path d=\"M 0.0 0.0 L 9.600119999999999 0.0 L 9.600119999999999 6.000119999999999 L 0.0 6.000119999999999 L 0.0 0.0 Z\" style=\"vector-effect: non-scaling-stroke;\" /></g><g transform=\"matrix(1.0, 0.0, 0.0, 1.0, -0.0, -2.40006)\"><g><g style=\"stroke: black;stroke-width: 1.437;\" transform=\"matrix(1.0, 0.0, 0.0, 1.0, 0.0, 0.0)\"><g /></g><g style=\"fill: #000000;stroke: black;stroke-width: 0.0;\" transform=\"matrix(1.0, 0.0, 0.0, 1.0, 0.0, 0.5)\"><text style=\"text-align:center; text-anchor:middle; dominant-baseline:middle;&#10;                      font-family:sans-serif; font-weight: bold;&#10;                      font-size:0.75px;&#10;                      vector-effect: non-scaling-stroke;\" transform=\"translate(-5e-05, 0)\" /></g><g style=\"stroke: black;stroke-width: 1.437;\" transform=\"matrix(1.0, 0.0, 0.0, 1.0, 0.0, 1.0001)\"><g /></g><g transform=\"matrix(1.0, 0.0, 0.0, 1.0, 0.0, 3.0000999999999998)\"><g transform=\"matrix(1.0, 0.0, 0.0, 1.0, -4.0, -0.5)\"><g><g transform=\"matrix(1.0, 0.0, 0.0, 1.0, -5e-05, -0.25005)\"><g><g style=\"stroke: black;stroke-width: 1.437;\" transform=\"matrix(1.0, 0.0, 0.0, 1.0, 0.0, 0.0)\"><g /></g><g style=\"fill: #000000;stroke: black;stroke-width: 0.0;\" transform=\"matrix(1.0, 0.0, 0.0, 1.0, 0.0, 0.25)\"><text style=\"text-align:center; text-anchor:middle; dominant-baseline:middle;&#10;                      font-family:sans-serif; font-weight: bold;&#10;                      font-size:0.5px;&#10;                      vector-effect: non-scaling-stroke;\" transform=\"translate(-5e-05, 0)\" /></g><g style=\"stroke: black;stroke-width: 1.437;\" transform=\"matrix(1.0, 0.0, 0.0, 1.0, 0.0, 0.5001)\"><g /></g></g></g><g /><g style=\"stroke: black;stroke-width: 1.437;\" transform=\"matrix(1.0, 0.0, 0.0, 1.0, 0.50005, 0.0)\"><g /></g><g transform=\"matrix(1.0, 0.0, 0.0, 1.0, 2.50005, 0.0)\"><g><g transform=\"matrix(1.0, 0.0, 0.0, 1.0, -1.0, -0.5)\"><g><g style=\"fill: #ffa500;stroke: black;stroke-width: 1.437;fill-opacity: 0.6838179111480713;\" transform=\"matrix(1.0, 0.0, 0.0, 1.0, -0.5, -0.5)\"><path d=\"M 0.0 0.0 L 1.0 0.0 L 1.0 1.0 L 0.0 1.0 L 0.0 0.0 Z\" style=\"vector-effect: non-scaling-stroke;\" /></g><g transform=\"matrix(1.0, 0.0, 0.0, 1.0, 0.5, 0.0)\"><g transform=\"matrix(1.0, -0.0, 0.0, 1.0, 0.0, 0.0)\"><g /></g></g><g transform=\"matrix(1.0, 0.0, 0.0, 1.0, 1.0, 0.0)\"><g><g style=\"fill: #ffa500;stroke: black;stroke-width: 1.437;fill-opacity: 0.9589374542236329;\" transform=\"matrix(1.0, 0.0, 0.0, 1.0, -0.5, -0.5)\"><path d=\"M 0.0 0.0 L 1.0 0.0 L 1.0 1.0 L 0.0 1.0 L 0.0 0.0 Z\" style=\"vector-effect: non-scaling-stroke;\" /></g><g transform=\"matrix(1.0, 0.0, 0.0, 1.0, 0.5, 0.0)\"><g transform=\"matrix(1.0, -0.0, 0.0, 1.0, 0.0, 0.0)\"><g /></g></g><g style=\"fill: #ffa500;stroke: black;stroke-width: 1.437;fill-opacity: 1.1146223068237304;\" transform=\"matrix(1.0, 0.0, 0.0, 1.0, 0.5, -0.5)\"><path d=\"M 0.0 0.0 L 1.0 0.0 L 1.0 1.0 L 0.0 1.0 L 0.0 0.0 Z\" style=\"vector-effect: non-scaling-stroke;\" /></g></g></g><g transform=\"matrix(1.0, 0.0, 0.0, 1.0, 0.0, 0.5)\"><g transform=\"matrix(0.0, -1.0, 1.0, 0.0, 0.0, 0.0)\"><g /></g></g><g transform=\"matrix(1.0, 0.0, 0.0, 1.0, 0.0, 1.0)\"><g><g style=\"fill: #0000ff;stroke: black;stroke-width: 1.437;fill-opacity: 0.4054444292187691;\" transform=\"matrix(1.0, 0.0, 0.0, 1.0, -0.5, -0.5)\"><path d=\"M 0.0 0.0 L 1.0 0.0 L 1.0 1.0 L 0.0 1.0 L 0.0 0.0 Z\" style=\"vector-effect: non-scaling-stroke;\" /></g><g transform=\"matrix(1.0, 0.0, 0.0, 1.0, 0.5, 0.0)\"><g transform=\"matrix(1.0, -0.0, 0.0, 1.0, 0.0, 0.0)\"><g /></g></g><g transform=\"matrix(1.0, 0.0, 0.0, 1.0, 1.0, 0.0)\"><g><g style=\"fill: #0000ff;stroke: black;stroke-width: 1.437;fill-opacity: 0.8975214767456055;\" transform=\"matrix(1.0, 0.0, 0.0, 1.0, -0.5, -0.5)\"><path d=\"M 0.0 0.0 L 1.0 0.0 L 1.0 1.0 L 0.0 1.0 L 0.0 0.0 Z\" style=\"vector-effect: non-scaling-stroke;\" /></g><g transform=\"matrix(1.0, 0.0, 0.0, 1.0, 0.5, 0.0)\"><g transform=\"matrix(1.0, -0.0, 0.0, 1.0, 0.0, 0.0)\"><g /></g></g><g style=\"fill: #ffa500;stroke: black;stroke-width: 1.437;fill-opacity: 0.6169678211212158;\" transform=\"matrix(1.0, 0.0, 0.0, 1.0, 0.5, -0.5)\"><path d=\"M 0.0 0.0 L 1.0 0.0 L 1.0 1.0 L 0.0 1.0 L 0.0 0.0 Z\" style=\"vector-effect: non-scaling-stroke;\" /></g></g></g></g></g></g></g><g /><g style=\"stroke: black;stroke-width: 1.437;\" transform=\"matrix(1.0, 0.0, 0.0, 1.0, 2.0, 0.0)\"><g /></g><g transform=\"matrix(1.0, 0.0, 0.0, 1.0, 4.0, 0.0)\"><g><g transform=\"matrix(1.0, 0.0, 0.0, 1.0, -1.0, -0.5)\"><g><g style=\"fill: #0000ff;stroke: black;stroke-width: 1.437;fill-opacity: 0.4054444292187691;\" transform=\"matrix(1.0, 0.0, 0.0, 1.0, -0.5, -0.5)\"><path d=\"M 0.0 0.0 L 1.0 0.0 L 1.0 1.0 L 0.0 1.0 L 0.0 0.0 Z\" style=\"vector-effect: non-scaling-stroke;\" /></g><g transform=\"matrix(1.0, 0.0, 0.0, 1.0, 0.5, 0.0)\"><g transform=\"matrix(1.0, -0.0, 0.0, 1.0, 0.0, 0.0)\"><g /></g></g><g transform=\"matrix(1.0, 0.0, 0.0, 1.0, 1.0, 0.0)\"><g><g style=\"fill: #0000ff;stroke: black;stroke-width: 1.437;fill-opacity: 0.8975214767456055;\" transform=\"matrix(1.0, 0.0, 0.0, 1.0, -0.5, -0.5)\"><path d=\"M 0.0 0.0 L 1.0 0.0 L 1.0 1.0 L 0.0 1.0 L 0.0 0.0 Z\" style=\"vector-effect: non-scaling-stroke;\" /></g><g transform=\"matrix(1.0, 0.0, 0.0, 1.0, 0.5, 0.0)\"><g transform=\"matrix(1.0, -0.0, 0.0, 1.0, 0.0, 0.0)\"><g /></g></g><g style=\"fill: #ffa500;stroke: black;stroke-width: 1.437;fill-opacity: 0.6169678211212158;\" transform=\"matrix(1.0, 0.0, 0.0, 1.0, 0.5, -0.5)\"><path d=\"M 0.0 0.0 L 1.0 0.0 L 1.0 1.0 L 0.0 1.0 L 0.0 0.0 Z\" style=\"vector-effect: non-scaling-stroke;\" /></g></g></g><g transform=\"matrix(1.0, 0.0, 0.0, 1.0, 0.0, 0.5)\"><g transform=\"matrix(0.0, -1.0, 1.0, 0.0, 0.0, 0.0)\"><g /></g></g><g transform=\"matrix(1.0, 0.0, 0.0, 1.0, 0.0, 1.0)\"><g><g style=\"fill: #ffa500;stroke: black;stroke-width: 1.437;fill-opacity: 0.6838179111480713;\" transform=\"matrix(1.0, 0.0, 0.0, 1.0, -0.5, -0.5)\"><path d=\"M 0.0 0.0 L 1.0 0.0 L 1.0 1.0 L 0.0 1.0 L 0.0 0.0 Z\" style=\"vector-effect: non-scaling-stroke;\" /></g><g transform=\"matrix(1.0, 0.0, 0.0, 1.0, 0.5, 0.0)\"><g transform=\"matrix(1.0, -0.0, 0.0, 1.0, 0.0, 0.0)\"><g /></g></g><g transform=\"matrix(1.0, 0.0, 0.0, 1.0, 1.0, 0.0)\"><g><g style=\"fill: #ffa500;stroke: black;stroke-width: 1.437;fill-opacity: 0.9589374542236329;\" transform=\"matrix(1.0, 0.0, 0.0, 1.0, -0.5, -0.5)\"><path d=\"M 0.0 0.0 L 1.0 0.0 L 1.0 1.0 L 0.0 1.0 L 0.0 0.0 Z\" style=\"vector-effect: non-scaling-stroke;\" /></g><g transform=\"matrix(1.0, 0.0, 0.0, 1.0, 0.5, 0.0)\"><g transform=\"matrix(1.0, -0.0, 0.0, 1.0, 0.0, 0.0)\"><g /></g></g><g style=\"fill: #ffa500;stroke: black;stroke-width: 1.437;fill-opacity: 1.1146223068237304;\" transform=\"matrix(1.0, 0.0, 0.0, 1.0, 0.5, -0.5)\"><path d=\"M 0.0 0.0 L 1.0 0.0 L 1.0 1.0 L 0.0 1.0 L 0.0 0.0 Z\" style=\"vector-effect: non-scaling-stroke;\" /></g></g></g></g></g></g></g><g /></g></g></g></g><g style=\"stroke: black;stroke-width: 1.437;\" transform=\"matrix(0.0, -1.0, 1.0, 0.0, 0.0, 1.5)\"><g /></g><g transform=\"matrix(1.0, 0.0, 0.0, 1.0, 0.0, 2.0)\"><g /></g></g></g></g><g /></g></g></g></g><g /></g></g></g></g></svg>"
      ],
      "text/plain": [
       "Compose(envelope=<chalk.envelope.Envelope object at 0x7149a7b11910>, diagrams=[Primitive(shape=Path(loc_trails=[Located(trail=Trail(segments=[Segment(offset=Vec2(9.600119999999999, 0.0), origin=Vec2(0.0, 0.0)), Segment(offset=Vec2(0.0, 6.000119999999999), origin=Vec2(0.0, 0.0)), Segment(offset=Vec2(-9.600119999999999, 0.0), origin=Vec2(0.0, 0.0)), Segment(offset=Vec2(0.0, -6.000119999999999), origin=Vec2(0.0, 0.0))], closed=True), location=Vec2(0.0, 0.0))]), style=Style(line_width_=None, line_color_=None, fill_color_=<Color white>, fill_opacity_=None, dashing_=None, output_size=None), transform=Affine(1.0, 0.0, -4.800059999999999,\n",
       "       0.0, 1.0, -3.0000599999999995)), ApplyTransform(transform=Affine(1.0, 0.0, -0.0,\n",
       "       0.0, 1.0, -2.40006), diagram=Compose(envelope=<chalk.envelope.Envelope object at 0x7149a7b09f50>, diagrams=[Primitive(shape=Spacer(width=0, height=1), style=Style(line_width_=None, line_color_=None, fill_color_=None, fill_opacity_=None, dashing_=None, output_size=None), transform=Affine(1.0, 0.0, 0.0,\n",
       "       0.0, 1.0, 0.0)), Primitive(shape=Text(text='', font_size=0.75), style=Style(line_width_=(<WidthType.NORMALIZED: 2>, 0), line_color_=None, fill_color_=<Color black>, fill_opacity_=None, dashing_=None, output_size=None), transform=Affine(1.0, 0.0, 0.0,\n",
       "       0.0, 1.0, 0.5)), Primitive(shape=Spacer(width=0, height=1), style=Style(line_width_=None, line_color_=None, fill_color_=None, fill_opacity_=None, dashing_=None, output_size=None), transform=Affine(1.0, 0.0, 0.0,\n",
       "       0.0, 1.0, 1.0001)), ApplyTransform(transform=Affine(1.0, 0.0, 0.0,\n",
       "       0.0, 1.0, 3.0000999999999998), diagram=ApplyTransform(transform=Affine(1.0, 0.0, -4.0,\n",
       "       0.0, 1.0, -0.5), diagram=Compose(envelope=<chalk.envelope.Envelope object at 0x7149a7b083d0>, diagrams=[ApplyTransform(transform=Affine(1.0, 0.0, -5e-05,\n",
       "       0.0, 1.0, -0.25005), diagram=Compose(envelope=<chalk.envelope.Envelope object at 0x7149aa544190>, diagrams=[Primitive(shape=Spacer(width=0, height=0.5), style=Style(line_width_=None, line_color_=None, fill_color_=None, fill_opacity_=None, dashing_=None, output_size=None), transform=Affine(1.0, 0.0, 0.0,\n",
       "       0.0, 1.0, 0.0)), Primitive(shape=Text(text='', font_size=0.5), style=Style(line_width_=(<WidthType.NORMALIZED: 2>, 0.0), line_color_=None, fill_color_=<Color black>, fill_opacity_=None, dashing_=None, output_size=None), transform=Affine(1.0, 0.0, 0.0,\n",
       "       0.0, 1.0, 0.25)), Primitive(shape=Spacer(width=0, height=0.5), style=Style(line_width_=None, line_color_=None, fill_color_=None, fill_opacity_=None, dashing_=None, output_size=None), transform=Affine(1.0, 0.0, 0.0,\n",
       "       0.0, 1.0, 0.5001))])), Empty(), Primitive(shape=Spacer(width=1.0, height=0), style=Style(line_width_=None, line_color_=None, fill_color_=None, fill_opacity_=None, dashing_=None, output_size=None), transform=Affine(1.0, 0.0, 0.50005,\n",
       "       0.0, 1.0, 0.0)), ApplyTransform(transform=Affine(1.0, 0.0, 2.50005,\n",
       "       0.0, 1.0, 0.0), diagram=Compose(envelope=<chalk.envelope.Envelope object at 0x7149a7b0a650>, diagrams=[ApplyTransform(transform=Affine(1.0, 0.0, -1.0,\n",
       "       0.0, 1.0, -0.5), diagram=Compose(envelope=<chalk.envelope.Envelope object at 0x7149a7b1ac90>, diagrams=[Primitive(shape=Path(loc_trails=[Located(trail=Trail(segments=[Segment(offset=Vec2(1.0, 0.0), origin=Vec2(0.0, 0.0)), Segment(offset=Vec2(0.0, 1.0), origin=Vec2(0.0, 0.0)), Segment(offset=Vec2(-1.0, 0.0), origin=Vec2(0.0, 0.0)), Segment(offset=Vec2(0.0, -1.0), origin=Vec2(0.0, 0.0))], closed=True), location=Vec2(0.0, 0.0))]), style=Style(line_width_=None, line_color_=None, fill_color_=<Color orange>, fill_opacity_=0.6838179111480713, dashing_=None, output_size=None), transform=Affine(1.0, 0.0, -0.5,\n",
       "       0.0, 1.0, -0.5)), ApplyTransform(transform=Affine(1.0, 0.0, 0.5,\n",
       "       0.0, 1.0, 0.0), diagram=ApplyTransform(transform=Affine(1.0, 0.0, 0.0,\n",
       "       -0.0, 1.0, 0.0), diagram=Empty())), ApplyTransform(transform=Affine(1.0, 0.0, 1.0,\n",
       "       0.0, 1.0, 0.0), diagram=Compose(envelope=<chalk.envelope.Envelope object at 0x7149a7b13210>, diagrams=[Primitive(shape=Path(loc_trails=[Located(trail=Trail(segments=[Segment(offset=Vec2(1.0, 0.0), origin=Vec2(0.0, 0.0)), Segment(offset=Vec2(0.0, 1.0), origin=Vec2(0.0, 0.0)), Segment(offset=Vec2(-1.0, 0.0), origin=Vec2(0.0, 0.0)), Segment(offset=Vec2(0.0, -1.0), origin=Vec2(0.0, 0.0))], closed=True), location=Vec2(0.0, 0.0))]), style=Style(line_width_=None, line_color_=None, fill_color_=<Color orange>, fill_opacity_=0.9589374542236329, dashing_=None, output_size=None), transform=Affine(1.0, 0.0, -0.5,\n",
       "       0.0, 1.0, -0.5)), ApplyTransform(transform=Affine(1.0, 0.0, 0.5,\n",
       "       0.0, 1.0, 0.0), diagram=ApplyTransform(transform=Affine(1.0, 0.0, 0.0,\n",
       "       -0.0, 1.0, 0.0), diagram=Empty())), Primitive(shape=Path(loc_trails=[Located(trail=Trail(segments=[Segment(offset=Vec2(1.0, 0.0), origin=Vec2(0.0, 0.0)), Segment(offset=Vec2(0.0, 1.0), origin=Vec2(0.0, 0.0)), Segment(offset=Vec2(-1.0, 0.0), origin=Vec2(0.0, 0.0)), Segment(offset=Vec2(0.0, -1.0), origin=Vec2(0.0, 0.0))], closed=True), location=Vec2(0.0, 0.0))]), style=Style(line_width_=None, line_color_=None, fill_color_=<Color orange>, fill_opacity_=1.1146223068237304, dashing_=None, output_size=None), transform=Affine(1.0, 0.0, 0.5,\n",
       "       0.0, 1.0, -0.5))])), ApplyTransform(transform=Affine(1.0, 0.0, 0.0,\n",
       "       0.0, 1.0, 0.5), diagram=ApplyTransform(transform=Affine(0.0, 1.0, 0.0,\n",
       "       -1.0, 0.0, 0.0), diagram=Empty())), ApplyTransform(transform=Affine(1.0, 0.0, 0.0,\n",
       "       0.0, 1.0, 1.0), diagram=Compose(envelope=<chalk.envelope.Envelope object at 0x7149a7b12450>, diagrams=[Primitive(shape=Path(loc_trails=[Located(trail=Trail(segments=[Segment(offset=Vec2(1.0, 0.0), origin=Vec2(0.0, 0.0)), Segment(offset=Vec2(0.0, 1.0), origin=Vec2(0.0, 0.0)), Segment(offset=Vec2(-1.0, 0.0), origin=Vec2(0.0, 0.0)), Segment(offset=Vec2(0.0, -1.0), origin=Vec2(0.0, 0.0))], closed=True), location=Vec2(0.0, 0.0))]), style=Style(line_width_=None, line_color_=None, fill_color_=<Color blue>, fill_opacity_=0.4054444292187691, dashing_=None, output_size=None), transform=Affine(1.0, 0.0, -0.5,\n",
       "       0.0, 1.0, -0.5)), ApplyTransform(transform=Affine(1.0, 0.0, 0.5,\n",
       "       0.0, 1.0, 0.0), diagram=ApplyTransform(transform=Affine(1.0, 0.0, 0.0,\n",
       "       -0.0, 1.0, 0.0), diagram=Empty())), ApplyTransform(transform=Affine(1.0, 0.0, 1.0,\n",
       "       0.0, 1.0, 0.0), diagram=Compose(envelope=<chalk.envelope.Envelope object at 0x7149a7b11550>, diagrams=[Primitive(shape=Path(loc_trails=[Located(trail=Trail(segments=[Segment(offset=Vec2(1.0, 0.0), origin=Vec2(0.0, 0.0)), Segment(offset=Vec2(0.0, 1.0), origin=Vec2(0.0, 0.0)), Segment(offset=Vec2(-1.0, 0.0), origin=Vec2(0.0, 0.0)), Segment(offset=Vec2(0.0, -1.0), origin=Vec2(0.0, 0.0))], closed=True), location=Vec2(0.0, 0.0))]), style=Style(line_width_=None, line_color_=None, fill_color_=<Color blue>, fill_opacity_=0.8975214767456055, dashing_=None, output_size=None), transform=Affine(1.0, 0.0, -0.5,\n",
       "       0.0, 1.0, -0.5)), ApplyTransform(transform=Affine(1.0, 0.0, 0.5,\n",
       "       0.0, 1.0, 0.0), diagram=ApplyTransform(transform=Affine(1.0, 0.0, 0.0,\n",
       "       -0.0, 1.0, 0.0), diagram=Empty())), Primitive(shape=Path(loc_trails=[Located(trail=Trail(segments=[Segment(offset=Vec2(1.0, 0.0), origin=Vec2(0.0, 0.0)), Segment(offset=Vec2(0.0, 1.0), origin=Vec2(0.0, 0.0)), Segment(offset=Vec2(-1.0, 0.0), origin=Vec2(0.0, 0.0)), Segment(offset=Vec2(0.0, -1.0), origin=Vec2(0.0, 0.0))], closed=True), location=Vec2(0.0, 0.0))]), style=Style(line_width_=None, line_color_=None, fill_color_=<Color orange>, fill_opacity_=0.6169678211212158, dashing_=None, output_size=None), transform=Affine(1.0, 0.0, 0.5,\n",
       "       0.0, 1.0, -0.5))]))]))])), Empty(), Primitive(shape=Spacer(width=1.0, height=0), style=Style(line_width_=None, line_color_=None, fill_color_=None, fill_opacity_=None, dashing_=None, output_size=None), transform=Affine(1.0, 0.0, 2.0,\n",
       "       0.0, 1.0, 0.0)), ApplyTransform(transform=Affine(1.0, 0.0, 4.0,\n",
       "       0.0, 1.0, 0.0), diagram=Compose(envelope=<chalk.envelope.Envelope object at 0x7149a7b09c10>, diagrams=[ApplyTransform(transform=Affine(1.0, 0.0, -1.0,\n",
       "       0.0, 1.0, -0.5), diagram=Compose(envelope=<chalk.envelope.Envelope object at 0x7149a7b08c50>, diagrams=[Primitive(shape=Path(loc_trails=[Located(trail=Trail(segments=[Segment(offset=Vec2(1.0, 0.0), origin=Vec2(0.0, 0.0)), Segment(offset=Vec2(0.0, 1.0), origin=Vec2(0.0, 0.0)), Segment(offset=Vec2(-1.0, 0.0), origin=Vec2(0.0, 0.0)), Segment(offset=Vec2(0.0, -1.0), origin=Vec2(0.0, 0.0))], closed=True), location=Vec2(0.0, 0.0))]), style=Style(line_width_=None, line_color_=None, fill_color_=<Color blue>, fill_opacity_=0.4054444292187691, dashing_=None, output_size=None), transform=Affine(1.0, 0.0, -0.5,\n",
       "       0.0, 1.0, -0.5)), ApplyTransform(transform=Affine(1.0, 0.0, 0.5,\n",
       "       0.0, 1.0, 0.0), diagram=ApplyTransform(transform=Affine(1.0, 0.0, 0.0,\n",
       "       -0.0, 1.0, 0.0), diagram=Empty())), ApplyTransform(transform=Affine(1.0, 0.0, 1.0,\n",
       "       0.0, 1.0, 0.0), diagram=Compose(envelope=<chalk.envelope.Envelope object at 0x7149a7b19750>, diagrams=[Primitive(shape=Path(loc_trails=[Located(trail=Trail(segments=[Segment(offset=Vec2(1.0, 0.0), origin=Vec2(0.0, 0.0)), Segment(offset=Vec2(0.0, 1.0), origin=Vec2(0.0, 0.0)), Segment(offset=Vec2(-1.0, 0.0), origin=Vec2(0.0, 0.0)), Segment(offset=Vec2(0.0, -1.0), origin=Vec2(0.0, 0.0))], closed=True), location=Vec2(0.0, 0.0))]), style=Style(line_width_=None, line_color_=None, fill_color_=<Color blue>, fill_opacity_=0.8975214767456055, dashing_=None, output_size=None), transform=Affine(1.0, 0.0, -0.5,\n",
       "       0.0, 1.0, -0.5)), ApplyTransform(transform=Affine(1.0, 0.0, 0.5,\n",
       "       0.0, 1.0, 0.0), diagram=ApplyTransform(transform=Affine(1.0, 0.0, 0.0,\n",
       "       -0.0, 1.0, 0.0), diagram=Empty())), Primitive(shape=Path(loc_trails=[Located(trail=Trail(segments=[Segment(offset=Vec2(1.0, 0.0), origin=Vec2(0.0, 0.0)), Segment(offset=Vec2(0.0, 1.0), origin=Vec2(0.0, 0.0)), Segment(offset=Vec2(-1.0, 0.0), origin=Vec2(0.0, 0.0)), Segment(offset=Vec2(0.0, -1.0), origin=Vec2(0.0, 0.0))], closed=True), location=Vec2(0.0, 0.0))]), style=Style(line_width_=None, line_color_=None, fill_color_=<Color orange>, fill_opacity_=0.6169678211212158, dashing_=None, output_size=None), transform=Affine(1.0, 0.0, 0.5,\n",
       "       0.0, 1.0, -0.5))])), ApplyTransform(transform=Affine(1.0, 0.0, 0.0,\n",
       "       0.0, 1.0, 0.5), diagram=ApplyTransform(transform=Affine(0.0, 1.0, 0.0,\n",
       "       -1.0, 0.0, 0.0), diagram=Empty())), ApplyTransform(transform=Affine(1.0, 0.0, 0.0,\n",
       "       0.0, 1.0, 1.0), diagram=Compose(envelope=<chalk.envelope.Envelope object at 0x7149a7b1a350>, diagrams=[Primitive(shape=Path(loc_trails=[Located(trail=Trail(segments=[Segment(offset=Vec2(1.0, 0.0), origin=Vec2(0.0, 0.0)), Segment(offset=Vec2(0.0, 1.0), origin=Vec2(0.0, 0.0)), Segment(offset=Vec2(-1.0, 0.0), origin=Vec2(0.0, 0.0)), Segment(offset=Vec2(0.0, -1.0), origin=Vec2(0.0, 0.0))], closed=True), location=Vec2(0.0, 0.0))]), style=Style(line_width_=None, line_color_=None, fill_color_=<Color orange>, fill_opacity_=0.6838179111480713, dashing_=None, output_size=None), transform=Affine(1.0, 0.0, -0.5,\n",
       "       0.0, 1.0, -0.5)), ApplyTransform(transform=Affine(1.0, 0.0, 0.5,\n",
       "       0.0, 1.0, 0.0), diagram=ApplyTransform(transform=Affine(1.0, 0.0, 0.0,\n",
       "       -0.0, 1.0, 0.0), diagram=Empty())), ApplyTransform(transform=Affine(1.0, 0.0, 1.0,\n",
       "       0.0, 1.0, 0.0), diagram=Compose(envelope=<chalk.envelope.Envelope object at 0x7149a7b19410>, diagrams=[Primitive(shape=Path(loc_trails=[Located(trail=Trail(segments=[Segment(offset=Vec2(1.0, 0.0), origin=Vec2(0.0, 0.0)), Segment(offset=Vec2(0.0, 1.0), origin=Vec2(0.0, 0.0)), Segment(offset=Vec2(-1.0, 0.0), origin=Vec2(0.0, 0.0)), Segment(offset=Vec2(0.0, -1.0), origin=Vec2(0.0, 0.0))], closed=True), location=Vec2(0.0, 0.0))]), style=Style(line_width_=None, line_color_=None, fill_color_=<Color orange>, fill_opacity_=0.9589374542236329, dashing_=None, output_size=None), transform=Affine(1.0, 0.0, -0.5,\n",
       "       0.0, 1.0, -0.5)), ApplyTransform(transform=Affine(1.0, 0.0, 0.5,\n",
       "       0.0, 1.0, 0.0), diagram=ApplyTransform(transform=Affine(1.0, 0.0, 0.0,\n",
       "       -0.0, 1.0, 0.0), diagram=Empty())), Primitive(shape=Path(loc_trails=[Located(trail=Trail(segments=[Segment(offset=Vec2(1.0, 0.0), origin=Vec2(0.0, 0.0)), Segment(offset=Vec2(0.0, 1.0), origin=Vec2(0.0, 0.0)), Segment(offset=Vec2(-1.0, 0.0), origin=Vec2(0.0, 0.0)), Segment(offset=Vec2(0.0, -1.0), origin=Vec2(0.0, 0.0))], closed=True), location=Vec2(0.0, 0.0))]), style=Style(line_width_=None, line_color_=None, fill_color_=<Color orange>, fill_opacity_=1.1146223068237304, dashing_=None, output_size=None), transform=Affine(1.0, 0.0, 0.5,\n",
       "       0.0, 1.0, -0.5))]))]))])), Empty()]))])), Primitive(shape=Spacer(width=1.0, height=0), style=Style(line_width_=None, line_color_=None, fill_color_=None, fill_opacity_=None, dashing_=None, output_size=None), transform=Affine(0.0, 1.0, 0.0,\n",
       "       -1.0, 0.0, 1.5)), ApplyTransform(transform=Affine(1.0, 0.0, 0.0,\n",
       "       0.0, 1.0, 2.0), diagram=Empty())]))), Empty()]))])"
      ]
     },
     "execution_count": 41,
     "metadata": {},
     "output_type": "execute_result"
    }
   ],
   "source": [
    "# torch.manual_seed(20250201)\n",
    "# data = torch.randn((2, 3)) * 10\n",
    "# index = torch.tensor([ [ 1, 2 ], [ 0, 2 ] ])\n",
    "# new_data = torch.gather(data, dim=0, index=data.argsort(dim=0))\n",
    "# draw(data, new_data)\n",
    "\n",
    "a = torch.rand((5, 32, 32, 3))\n",
    "a = a[-1, :, :, 1, None ]\n",
    "\n"
   ]
  },
  {
   "cell_type": "markdown",
   "metadata": {
    "slideshow": {
     "slide_type": "subslide"
    }
   },
   "source": [
    "- `einops`: Swiss army-knife for many tensor operations. Preserves semantics.\n",
    "\n",
    "```python\n",
    "# diagonal: data.diag()\n",
    "torch.einsum(\"ii->i\", data)\n",
    "\n",
    "# transpose: data.T\n",
    "torch.einsum(\"ij -> ji\", data)\n",
    "\n",
    "# batch matrix multiplication: torch.bmm(batch_data1, batch_data2)\n",
    "torch.einsum(\"bik, bkj -> bij\", batch_data1, batch_data2)\n",
    "```"
   ]
  },
  {
   "cell_type": "markdown",
   "metadata": {
    "slideshow": {
     "slide_type": "subslide"
    }
   },
   "source": [
    "- `einops`: Swiss army-knife for many tensor operations. Preserves semantics.\n",
    "\n",
    "```python\n",
    "# axis 0 sum: data.sum(dim=0)\n",
    "torch.einsum(\"ij -> j\", data)\n",
    "\n",
    "# all sum: data.sum()\n",
    "torch.einsum(\"ij -> \", data)\n",
    "\n",
    "# reshape/view: x.view(x.shape[0], -1)\n",
    "einops.rearrange(x, 'b c h w -> b (c h w)')\n",
    "```\n",
    "\n",
    "- Additional einops operations (reduction, rearrange, etc.) available in `einops` package: https://einops.rocks"
   ]
  },
  {
   "cell_type": "markdown",
   "metadata": {
    "slideshow": {
     "slide_type": "slide"
    }
   },
   "source": [
    "### Automatic Differentiation with `torch.autograd`\n",
    "\n",
    "- `torch.autograd` prepares computation graphs on the fly for backward passes.\n",
    "- Seamlessly integrates with tensors: just set `requires_grad=True`!"
   ]
  },
  {
   "cell_type": "code",
   "execution_count": 42,
   "metadata": {
    "slideshow": {
     "slide_type": "fragment"
    }
   },
   "outputs": [
    {
     "data": {
      "text/plain": [
       "tensor([[28.]], grad_fn=<WhereBackward0>)"
      ]
     },
     "execution_count": 42,
     "metadata": {},
     "output_type": "execute_result"
    }
   ],
   "source": [
    "a = torch.tensor([ [1, 2.] ], requires_grad=True)\n",
    "b = torch.tensor([ [3, 4.] ])\n",
    "b.requires_grad = True\n",
    "\n",
    "d = a ** 2\n",
    "c = (a + b).T\n",
    "e = d @ c\n",
    "e = torch.where(e > 0, e, 0)\n",
    "\n",
    "e"
   ]
  },
  {
   "cell_type": "code",
   "execution_count": 43,
   "metadata": {
    "scrolled": true,
    "slideshow": {
     "slide_type": "subslide"
    }
   },
   "outputs": [
    {
     "data": {
      "image/svg+xml": [
       "<?xml version=\"1.0\" encoding=\"UTF-8\" standalone=\"no\"?>\n",
       "<!DOCTYPE svg PUBLIC \"-//W3C//DTD SVG 1.1//EN\"\n",
       " \"http://www.w3.org/Graphics/SVG/1.1/DTD/svg11.dtd\">\n",
       "<!-- Generated by graphviz version 2.50.0 (0)\n",
       " -->\n",
       "<!-- Pages: 1 -->\n",
       "<svg width=\"234pt\" height=\"381pt\"\n",
       " viewBox=\"0.00 0.00 234.00 381.00\" xmlns=\"http://www.w3.org/2000/svg\" xmlns:xlink=\"http://www.w3.org/1999/xlink\">\n",
       "<g id=\"graph0\" class=\"graph\" transform=\"scale(1 1) rotate(0) translate(4 377)\">\n",
       "<polygon fill=\"white\" stroke=\"transparent\" points=\"-4,4 -4,-377 230,-377 230,4 -4,4\"/>\n",
       "<!-- 124561160917776 -->\n",
       "<g id=\"node1\" class=\"node\">\n",
       "<title>124561160917776</title>\n",
       "<polygon fill=\"#caff70\" stroke=\"black\" points=\"145,-31 86,-31 86,0 145,0 145,-31\"/>\n",
       "<text text-anchor=\"middle\" x=\"115.5\" y=\"-7\" font-family=\"monospace\" font-size=\"10.00\"> (1, 1)</text>\n",
       "</g>\n",
       "<!-- 124561160519008 -->\n",
       "<g id=\"node2\" class=\"node\">\n",
       "<title>124561160519008</title>\n",
       "<polygon fill=\"lightgrey\" stroke=\"black\" points=\"166,-86 65,-86 65,-67 166,-67 166,-86\"/>\n",
       "<text text-anchor=\"middle\" x=\"115.5\" y=\"-74\" font-family=\"monospace\" font-size=\"10.00\">WhereBackward0</text>\n",
       "</g>\n",
       "<!-- 124561160519008&#45;&gt;124561160917776 -->\n",
       "<g id=\"edge10\" class=\"edge\">\n",
       "<title>124561160519008&#45;&gt;124561160917776</title>\n",
       "<path fill=\"none\" stroke=\"black\" d=\"M115.5,-66.79C115.5,-60.07 115.5,-50.4 115.5,-41.34\"/>\n",
       "<polygon fill=\"black\" stroke=\"black\" points=\"119,-41.19 115.5,-31.19 112,-41.19 119,-41.19\"/>\n",
       "</g>\n",
       "<!-- 124561160519296 -->\n",
       "<g id=\"node3\" class=\"node\">\n",
       "<title>124561160519296</title>\n",
       "<polygon fill=\"lightgrey\" stroke=\"black\" points=\"157,-141 74,-141 74,-122 157,-122 157,-141\"/>\n",
       "<text text-anchor=\"middle\" x=\"115.5\" y=\"-129\" font-family=\"monospace\" font-size=\"10.00\">MmBackward0</text>\n",
       "</g>\n",
       "<!-- 124561160519296&#45;&gt;124561160519008 -->\n",
       "<g id=\"edge1\" class=\"edge\">\n",
       "<title>124561160519296&#45;&gt;124561160519008</title>\n",
       "<path fill=\"none\" stroke=\"black\" d=\"M115.5,-121.75C115.5,-114.8 115.5,-104.85 115.5,-96.13\"/>\n",
       "<polygon fill=\"black\" stroke=\"black\" points=\"119,-96.09 115.5,-86.09 112,-96.09 119,-96.09\"/>\n",
       "</g>\n",
       "<!-- 124561160516128 -->\n",
       "<g id=\"node4\" class=\"node\">\n",
       "<title>124561160516128</title>\n",
       "<polygon fill=\"lightgrey\" stroke=\"black\" points=\"220,-196 131,-196 131,-177 220,-177 220,-196\"/>\n",
       "<text text-anchor=\"middle\" x=\"175.5\" y=\"-184\" font-family=\"monospace\" font-size=\"10.00\">PowBackward0</text>\n",
       "</g>\n",
       "<!-- 124561160516128&#45;&gt;124561160519296 -->\n",
       "<g id=\"edge2\" class=\"edge\">\n",
       "<title>124561160516128&#45;&gt;124561160519296</title>\n",
       "<path fill=\"none\" stroke=\"black\" d=\"M165.86,-176.98C156.99,-169.15 143.63,-157.34 132.89,-147.86\"/>\n",
       "<polygon fill=\"black\" stroke=\"black\" points=\"135.13,-145.17 125.32,-141.17 130.49,-150.41 135.13,-145.17\"/>\n",
       "</g>\n",
       "<!-- 124561160518480 -->\n",
       "<g id=\"node5\" class=\"node\">\n",
       "<title>124561160518480</title>\n",
       "<polygon fill=\"lightgrey\" stroke=\"black\" points=\"226,-306 125,-306 125,-287 226,-287 226,-306\"/>\n",
       "<text text-anchor=\"middle\" x=\"175.5\" y=\"-294\" font-family=\"monospace\" font-size=\"10.00\">AccumulateGrad</text>\n",
       "</g>\n",
       "<!-- 124561160518480&#45;&gt;124561160516128 -->\n",
       "<g id=\"edge3\" class=\"edge\">\n",
       "<title>124561160518480&#45;&gt;124561160516128</title>\n",
       "<path fill=\"none\" stroke=\"black\" d=\"M175.5,-286.66C175.5,-269.17 175.5,-229.8 175.5,-206.27\"/>\n",
       "<polygon fill=\"black\" stroke=\"black\" points=\"179,-206.16 175.5,-196.16 172,-206.16 179,-206.16\"/>\n",
       "</g>\n",
       "<!-- 124561160518144 -->\n",
       "<g id=\"node8\" class=\"node\">\n",
       "<title>124561160518144</title>\n",
       "<polygon fill=\"lightgrey\" stroke=\"black\" points=\"101,-251 12,-251 12,-232 101,-232 101,-251\"/>\n",
       "<text text-anchor=\"middle\" x=\"56.5\" y=\"-239\" font-family=\"monospace\" font-size=\"10.00\">AddBackward0</text>\n",
       "</g>\n",
       "<!-- 124561160518480&#45;&gt;124561160518144 -->\n",
       "<g id=\"edge7\" class=\"edge\">\n",
       "<title>124561160518480&#45;&gt;124561160518144</title>\n",
       "<path fill=\"none\" stroke=\"black\" d=\"M156.38,-286.98C137.15,-278.42 107.27,-265.11 85.19,-255.28\"/>\n",
       "<polygon fill=\"black\" stroke=\"black\" points=\"86.53,-252.04 75.97,-251.17 83.68,-258.44 86.53,-252.04\"/>\n",
       "</g>\n",
       "<!-- 124561160917680 -->\n",
       "<g id=\"node6\" class=\"node\">\n",
       "<title>124561160917680</title>\n",
       "<polygon fill=\"lightblue\" stroke=\"black\" points=\"205,-373 146,-373 146,-342 205,-342 205,-373\"/>\n",
       "<text text-anchor=\"middle\" x=\"175.5\" y=\"-349\" font-family=\"monospace\" font-size=\"10.00\"> (1, 2)</text>\n",
       "</g>\n",
       "<!-- 124561160917680&#45;&gt;124561160518480 -->\n",
       "<g id=\"edge4\" class=\"edge\">\n",
       "<title>124561160917680&#45;&gt;124561160518480</title>\n",
       "<path fill=\"none\" stroke=\"black\" d=\"M175.5,-341.92C175.5,-334.22 175.5,-324.69 175.5,-316.43\"/>\n",
       "<polygon fill=\"black\" stroke=\"black\" points=\"179,-316.25 175.5,-306.25 172,-316.25 179,-316.25\"/>\n",
       "</g>\n",
       "<!-- 124561160518960 -->\n",
       "<g id=\"node7\" class=\"node\">\n",
       "<title>124561160518960</title>\n",
       "<polygon fill=\"lightgrey\" stroke=\"black\" points=\"113,-196 0,-196 0,-177 113,-177 113,-196\"/>\n",
       "<text text-anchor=\"middle\" x=\"56.5\" y=\"-184\" font-family=\"monospace\" font-size=\"10.00\">PermuteBackward0</text>\n",
       "</g>\n",
       "<!-- 124561160518960&#45;&gt;124561160519296 -->\n",
       "<g id=\"edge5\" class=\"edge\">\n",
       "<title>124561160518960&#45;&gt;124561160519296</title>\n",
       "<path fill=\"none\" stroke=\"black\" d=\"M65.98,-176.98C74.7,-169.15 87.84,-157.34 98.4,-147.86\"/>\n",
       "<polygon fill=\"black\" stroke=\"black\" points=\"100.75,-150.46 105.85,-141.17 96.07,-145.25 100.75,-150.46\"/>\n",
       "</g>\n",
       "<!-- 124561160518144&#45;&gt;124561160518960 -->\n",
       "<g id=\"edge6\" class=\"edge\">\n",
       "<title>124561160518144&#45;&gt;124561160518960</title>\n",
       "<path fill=\"none\" stroke=\"black\" d=\"M56.5,-231.75C56.5,-224.8 56.5,-214.85 56.5,-206.13\"/>\n",
       "<polygon fill=\"black\" stroke=\"black\" points=\"60,-206.09 56.5,-196.09 53,-206.09 60,-206.09\"/>\n",
       "</g>\n",
       "<!-- 124561160519632 -->\n",
       "<g id=\"node9\" class=\"node\">\n",
       "<title>124561160519632</title>\n",
       "<polygon fill=\"lightgrey\" stroke=\"black\" points=\"107,-306 6,-306 6,-287 107,-287 107,-306\"/>\n",
       "<text text-anchor=\"middle\" x=\"56.5\" y=\"-294\" font-family=\"monospace\" font-size=\"10.00\">AccumulateGrad</text>\n",
       "</g>\n",
       "<!-- 124561160519632&#45;&gt;124561160518144 -->\n",
       "<g id=\"edge8\" class=\"edge\">\n",
       "<title>124561160519632&#45;&gt;124561160518144</title>\n",
       "<path fill=\"none\" stroke=\"black\" d=\"M56.5,-286.75C56.5,-279.8 56.5,-269.85 56.5,-261.13\"/>\n",
       "<polygon fill=\"black\" stroke=\"black\" points=\"60,-261.09 56.5,-251.09 53,-261.09 60,-261.09\"/>\n",
       "</g>\n",
       "<!-- 124561302720336 -->\n",
       "<g id=\"node10\" class=\"node\">\n",
       "<title>124561302720336</title>\n",
       "<polygon fill=\"lightblue\" stroke=\"black\" points=\"86,-373 27,-373 27,-342 86,-342 86,-373\"/>\n",
       "<text text-anchor=\"middle\" x=\"56.5\" y=\"-349\" font-family=\"monospace\" font-size=\"10.00\"> (1, 2)</text>\n",
       "</g>\n",
       "<!-- 124561302720336&#45;&gt;124561160519632 -->\n",
       "<g id=\"edge9\" class=\"edge\">\n",
       "<title>124561302720336&#45;&gt;124561160519632</title>\n",
       "<path fill=\"none\" stroke=\"black\" d=\"M56.5,-341.92C56.5,-334.22 56.5,-324.69 56.5,-316.43\"/>\n",
       "<polygon fill=\"black\" stroke=\"black\" points=\"60,-316.25 56.5,-306.25 53,-316.25 60,-316.25\"/>\n",
       "</g>\n",
       "</g>\n",
       "</svg>\n"
      ],
      "text/plain": [
       "<graphviz.graphs.Digraph at 0x7149aa593b50>"
      ]
     },
     "execution_count": 43,
     "metadata": {},
     "output_type": "execute_result"
    }
   ],
   "source": [
    "torchviz.make_dot(e)"
   ]
  },
  {
   "cell_type": "markdown",
   "metadata": {
    "slideshow": {
     "slide_type": "slide"
    }
   },
   "source": [
    "#### Autograd Essentials: `detach()` and `no_grad()`"
   ]
  },
  {
   "cell_type": "code",
   "execution_count": 44,
   "metadata": {
    "scrolled": true,
    "slideshow": {
     "slide_type": "fragment"
    }
   },
   "outputs": [
    {
     "data": {
      "image/svg+xml": [
       "<?xml version=\"1.0\" encoding=\"UTF-8\" standalone=\"no\"?>\n",
       "<!DOCTYPE svg PUBLIC \"-//W3C//DTD SVG 1.1//EN\"\n",
       " \"http://www.w3.org/Graphics/SVG/1.1/DTD/svg11.dtd\">\n",
       "<!-- Generated by graphviz version 2.50.0 (0)\n",
       " -->\n",
       "<!-- Pages: 1 -->\n",
       "<svg width=\"228pt\" height=\"271pt\"\n",
       " viewBox=\"0.00 0.00 228.00 271.00\" xmlns=\"http://www.w3.org/2000/svg\" xmlns:xlink=\"http://www.w3.org/1999/xlink\">\n",
       "<g id=\"graph0\" class=\"graph\" transform=\"scale(1 1) rotate(0) translate(4 267)\">\n",
       "<polygon fill=\"white\" stroke=\"transparent\" points=\"-4,4 -4,-267 224,-267 224,4 -4,4\"/>\n",
       "<!-- 124561160919408 -->\n",
       "<g id=\"node1\" class=\"node\">\n",
       "<title>124561160919408</title>\n",
       "<polygon fill=\"#caff70\" stroke=\"black\" points=\"133,-31 74,-31 74,0 133,0 133,-31\"/>\n",
       "<text text-anchor=\"middle\" x=\"103.5\" y=\"-7\" font-family=\"monospace\" font-size=\"10.00\"> (2, 2)</text>\n",
       "</g>\n",
       "<!-- 124561204422032 -->\n",
       "<g id=\"node2\" class=\"node\">\n",
       "<title>124561204422032</title>\n",
       "<polygon fill=\"lightgrey\" stroke=\"black\" points=\"148,-86 59,-86 59,-67 148,-67 148,-86\"/>\n",
       "<text text-anchor=\"middle\" x=\"103.5\" y=\"-74\" font-family=\"monospace\" font-size=\"10.00\">AddBackward0</text>\n",
       "</g>\n",
       "<!-- 124561204422032&#45;&gt;124561160919408 -->\n",
       "<g id=\"edge8\" class=\"edge\">\n",
       "<title>124561204422032&#45;&gt;124561160919408</title>\n",
       "<path fill=\"none\" stroke=\"black\" d=\"M103.5,-66.79C103.5,-60.07 103.5,-50.4 103.5,-41.34\"/>\n",
       "<polygon fill=\"black\" stroke=\"black\" points=\"107,-41.19 103.5,-31.19 100,-41.19 107,-41.19\"/>\n",
       "</g>\n",
       "<!-- 124561204808336 -->\n",
       "<g id=\"node3\" class=\"node\">\n",
       "<title>124561204808336</title>\n",
       "<polygon fill=\"lightgrey\" stroke=\"black\" points=\"202,-141 113,-141 113,-122 202,-122 202,-141\"/>\n",
       "<text text-anchor=\"middle\" x=\"157.5\" y=\"-129\" font-family=\"monospace\" font-size=\"10.00\">AddBackward0</text>\n",
       "</g>\n",
       "<!-- 124561204808336&#45;&gt;124561204422032 -->\n",
       "<g id=\"edge1\" class=\"edge\">\n",
       "<title>124561204808336&#45;&gt;124561204422032</title>\n",
       "<path fill=\"none\" stroke=\"black\" d=\"M148.58,-121.75C140.72,-114.03 129.07,-102.6 119.58,-93.28\"/>\n",
       "<polygon fill=\"black\" stroke=\"black\" points=\"121.84,-90.6 112.25,-86.09 116.94,-95.59 121.84,-90.6\"/>\n",
       "</g>\n",
       "<!-- 124561115986912 -->\n",
       "<g id=\"node4\" class=\"node\">\n",
       "<title>124561115986912</title>\n",
       "<polygon fill=\"lightgrey\" stroke=\"black\" points=\"101,-196 0,-196 0,-177 101,-177 101,-196\"/>\n",
       "<text text-anchor=\"middle\" x=\"50.5\" y=\"-184\" font-family=\"monospace\" font-size=\"10.00\">AccumulateGrad</text>\n",
       "</g>\n",
       "<!-- 124561115986912&#45;&gt;124561204808336 -->\n",
       "<g id=\"edge2\" class=\"edge\">\n",
       "<title>124561115986912&#45;&gt;124561204808336</title>\n",
       "<path fill=\"none\" stroke=\"black\" d=\"M67.69,-176.98C84.75,-168.54 111.13,-155.47 130.9,-145.68\"/>\n",
       "<polygon fill=\"black\" stroke=\"black\" points=\"132.59,-148.75 140,-141.17 129.48,-142.47 132.59,-148.75\"/>\n",
       "</g>\n",
       "<!-- 124561204807376 -->\n",
       "<g id=\"node8\" class=\"node\">\n",
       "<title>124561204807376</title>\n",
       "<polygon fill=\"lightgrey\" stroke=\"black\" points=\"95,-141 6,-141 6,-122 95,-122 95,-141\"/>\n",
       "<text text-anchor=\"middle\" x=\"50.5\" y=\"-129\" font-family=\"monospace\" font-size=\"10.00\">PowBackward0</text>\n",
       "</g>\n",
       "<!-- 124561115986912&#45;&gt;124561204807376 -->\n",
       "<g id=\"edge7\" class=\"edge\">\n",
       "<title>124561115986912&#45;&gt;124561204807376</title>\n",
       "<path fill=\"none\" stroke=\"black\" d=\"M50.5,-176.75C50.5,-169.8 50.5,-159.85 50.5,-151.13\"/>\n",
       "<polygon fill=\"black\" stroke=\"black\" points=\"54,-151.09 50.5,-141.09 47,-151.09 54,-151.09\"/>\n",
       "</g>\n",
       "<!-- 124561160918928 -->\n",
       "<g id=\"node5\" class=\"node\">\n",
       "<title>124561160918928</title>\n",
       "<polygon fill=\"lightblue\" stroke=\"black\" points=\"80,-263 21,-263 21,-232 80,-232 80,-263\"/>\n",
       "<text text-anchor=\"middle\" x=\"50.5\" y=\"-239\" font-family=\"monospace\" font-size=\"10.00\"> (2, 2)</text>\n",
       "</g>\n",
       "<!-- 124561160918928&#45;&gt;124561115986912 -->\n",
       "<g id=\"edge3\" class=\"edge\">\n",
       "<title>124561160918928&#45;&gt;124561115986912</title>\n",
       "<path fill=\"none\" stroke=\"black\" d=\"M50.5,-231.92C50.5,-224.22 50.5,-214.69 50.5,-206.43\"/>\n",
       "<polygon fill=\"black\" stroke=\"black\" points=\"54,-206.25 50.5,-196.25 47,-206.25 54,-206.25\"/>\n",
       "</g>\n",
       "<!-- 124561115986960 -->\n",
       "<g id=\"node6\" class=\"node\">\n",
       "<title>124561115986960</title>\n",
       "<polygon fill=\"lightgrey\" stroke=\"black\" points=\"220,-196 119,-196 119,-177 220,-177 220,-196\"/>\n",
       "<text text-anchor=\"middle\" x=\"169.5\" y=\"-184\" font-family=\"monospace\" font-size=\"10.00\">AccumulateGrad</text>\n",
       "</g>\n",
       "<!-- 124561115986960&#45;&gt;124561204808336 -->\n",
       "<g id=\"edge4\" class=\"edge\">\n",
       "<title>124561115986960&#45;&gt;124561204808336</title>\n",
       "<path fill=\"none\" stroke=\"black\" d=\"M167.52,-176.75C165.93,-169.72 163.64,-159.62 161.65,-150.84\"/>\n",
       "<polygon fill=\"black\" stroke=\"black\" points=\"165.07,-150.07 159.44,-141.09 158.24,-151.62 165.07,-150.07\"/>\n",
       "</g>\n",
       "<!-- 124561160919504 -->\n",
       "<g id=\"node7\" class=\"node\">\n",
       "<title>124561160919504</title>\n",
       "<polygon fill=\"lightblue\" stroke=\"black\" points=\"199,-263 140,-263 140,-232 199,-232 199,-263\"/>\n",
       "<text text-anchor=\"middle\" x=\"169.5\" y=\"-239\" font-family=\"monospace\" font-size=\"10.00\"> (2, 2)</text>\n",
       "</g>\n",
       "<!-- 124561160919504&#45;&gt;124561115986960 -->\n",
       "<g id=\"edge5\" class=\"edge\">\n",
       "<title>124561160919504&#45;&gt;124561115986960</title>\n",
       "<path fill=\"none\" stroke=\"black\" d=\"M169.5,-231.92C169.5,-224.22 169.5,-214.69 169.5,-206.43\"/>\n",
       "<polygon fill=\"black\" stroke=\"black\" points=\"173,-206.25 169.5,-196.25 166,-206.25 173,-206.25\"/>\n",
       "</g>\n",
       "<!-- 124561204807376&#45;&gt;124561204422032 -->\n",
       "<g id=\"edge6\" class=\"edge\">\n",
       "<title>124561204807376&#45;&gt;124561204422032</title>\n",
       "<path fill=\"none\" stroke=\"black\" d=\"M59.25,-121.75C66.97,-114.03 78.4,-102.6 87.72,-93.28\"/>\n",
       "<polygon fill=\"black\" stroke=\"black\" points=\"90.31,-95.64 94.91,-86.09 85.36,-90.69 90.31,-95.64\"/>\n",
       "</g>\n",
       "</g>\n",
       "</svg>\n"
      ],
      "text/plain": [
       "<graphviz.graphs.Digraph at 0x7149b032c090>"
      ]
     },
     "execution_count": 44,
     "metadata": {},
     "output_type": "execute_result"
    }
   ],
   "source": [
    "a = torch.rand((2, 2), requires_grad=True)\n",
    "b = torch.rand((2, 2), requires_grad=True)\n",
    "\n",
    "c = a + b\n",
    "d = a ** 2\n",
    "e = c + d\n",
    "torchviz.make_dot(e)"
   ]
  },
  {
   "cell_type": "markdown",
   "metadata": {
    "slideshow": {
     "slide_type": "subslide"
    }
   },
   "source": [
    "- `detach()`: detaches a tensor from the computation graph."
   ]
  },
  {
   "cell_type": "code",
   "execution_count": 45,
   "metadata": {
    "scrolled": true,
    "slideshow": {
     "slide_type": "fragment"
    }
   },
   "outputs": [
    {
     "data": {
      "image/svg+xml": [
       "<?xml version=\"1.0\" encoding=\"UTF-8\" standalone=\"no\"?>\n",
       "<!DOCTYPE svg PUBLIC \"-//W3C//DTD SVG 1.1//EN\"\n",
       " \"http://www.w3.org/Graphics/SVG/1.1/DTD/svg11.dtd\">\n",
       "<!-- Generated by graphviz version 2.50.0 (0)\n",
       " -->\n",
       "<!-- Pages: 1 -->\n",
       "<svg width=\"228pt\" height=\"271pt\"\n",
       " viewBox=\"0.00 0.00 228.00 271.00\" xmlns=\"http://www.w3.org/2000/svg\" xmlns:xlink=\"http://www.w3.org/1999/xlink\">\n",
       "<g id=\"graph0\" class=\"graph\" transform=\"scale(1 1) rotate(0) translate(4 267)\">\n",
       "<polygon fill=\"white\" stroke=\"transparent\" points=\"-4,4 -4,-267 224,-267 224,4 -4,4\"/>\n",
       "<!-- 124561160925072 -->\n",
       "<g id=\"node1\" class=\"node\">\n",
       "<title>124561160925072</title>\n",
       "<polygon fill=\"#caff70\" stroke=\"black\" points=\"139,-31 80,-31 80,0 139,0 139,-31\"/>\n",
       "<text text-anchor=\"middle\" x=\"109.5\" y=\"-7\" font-family=\"monospace\" font-size=\"10.00\"> (2, 2)</text>\n",
       "</g>\n",
       "<!-- 124561303054768 -->\n",
       "<g id=\"node2\" class=\"node\">\n",
       "<title>124561303054768</title>\n",
       "<polygon fill=\"lightgrey\" stroke=\"black\" points=\"154,-86 65,-86 65,-67 154,-67 154,-86\"/>\n",
       "<text text-anchor=\"middle\" x=\"109.5\" y=\"-74\" font-family=\"monospace\" font-size=\"10.00\">AddBackward0</text>\n",
       "</g>\n",
       "<!-- 124561303054768&#45;&gt;124561160925072 -->\n",
       "<g id=\"edge6\" class=\"edge\">\n",
       "<title>124561303054768&#45;&gt;124561160925072</title>\n",
       "<path fill=\"none\" stroke=\"black\" d=\"M109.5,-66.79C109.5,-60.07 109.5,-50.4 109.5,-41.34\"/>\n",
       "<polygon fill=\"black\" stroke=\"black\" points=\"113,-41.19 109.5,-31.19 106,-41.19 113,-41.19\"/>\n",
       "</g>\n",
       "<!-- 124561204809296 -->\n",
       "<g id=\"node3\" class=\"node\">\n",
       "<title>124561204809296</title>\n",
       "<polygon fill=\"lightgrey\" stroke=\"black\" points=\"154,-141 65,-141 65,-122 154,-122 154,-141\"/>\n",
       "<text text-anchor=\"middle\" x=\"109.5\" y=\"-129\" font-family=\"monospace\" font-size=\"10.00\">AddBackward0</text>\n",
       "</g>\n",
       "<!-- 124561204809296&#45;&gt;124561303054768 -->\n",
       "<g id=\"edge1\" class=\"edge\">\n",
       "<title>124561204809296&#45;&gt;124561303054768</title>\n",
       "<path fill=\"none\" stroke=\"black\" d=\"M109.5,-121.75C109.5,-114.8 109.5,-104.85 109.5,-96.13\"/>\n",
       "<polygon fill=\"black\" stroke=\"black\" points=\"113,-96.09 109.5,-86.09 106,-96.09 113,-96.09\"/>\n",
       "</g>\n",
       "<!-- 124561115986912 -->\n",
       "<g id=\"node4\" class=\"node\">\n",
       "<title>124561115986912</title>\n",
       "<polygon fill=\"lightgrey\" stroke=\"black\" points=\"101,-196 0,-196 0,-177 101,-177 101,-196\"/>\n",
       "<text text-anchor=\"middle\" x=\"50.5\" y=\"-184\" font-family=\"monospace\" font-size=\"10.00\">AccumulateGrad</text>\n",
       "</g>\n",
       "<!-- 124561115986912&#45;&gt;124561204809296 -->\n",
       "<g id=\"edge2\" class=\"edge\">\n",
       "<title>124561115986912&#45;&gt;124561204809296</title>\n",
       "<path fill=\"none\" stroke=\"black\" d=\"M59.98,-176.98C68.7,-169.15 81.84,-157.34 92.4,-147.86\"/>\n",
       "<polygon fill=\"black\" stroke=\"black\" points=\"94.75,-150.46 99.85,-141.17 90.07,-145.25 94.75,-150.46\"/>\n",
       "</g>\n",
       "<!-- 124561160918928 -->\n",
       "<g id=\"node5\" class=\"node\">\n",
       "<title>124561160918928</title>\n",
       "<polygon fill=\"lightblue\" stroke=\"black\" points=\"80,-263 21,-263 21,-232 80,-232 80,-263\"/>\n",
       "<text text-anchor=\"middle\" x=\"50.5\" y=\"-239\" font-family=\"monospace\" font-size=\"10.00\"> (2, 2)</text>\n",
       "</g>\n",
       "<!-- 124561160918928&#45;&gt;124561115986912 -->\n",
       "<g id=\"edge3\" class=\"edge\">\n",
       "<title>124561160918928&#45;&gt;124561115986912</title>\n",
       "<path fill=\"none\" stroke=\"black\" d=\"M50.5,-231.92C50.5,-224.22 50.5,-214.69 50.5,-206.43\"/>\n",
       "<polygon fill=\"black\" stroke=\"black\" points=\"54,-206.25 50.5,-196.25 47,-206.25 54,-206.25\"/>\n",
       "</g>\n",
       "<!-- 124561115986960 -->\n",
       "<g id=\"node6\" class=\"node\">\n",
       "<title>124561115986960</title>\n",
       "<polygon fill=\"lightgrey\" stroke=\"black\" points=\"220,-196 119,-196 119,-177 220,-177 220,-196\"/>\n",
       "<text text-anchor=\"middle\" x=\"169.5\" y=\"-184\" font-family=\"monospace\" font-size=\"10.00\">AccumulateGrad</text>\n",
       "</g>\n",
       "<!-- 124561115986960&#45;&gt;124561204809296 -->\n",
       "<g id=\"edge4\" class=\"edge\">\n",
       "<title>124561115986960&#45;&gt;124561204809296</title>\n",
       "<path fill=\"none\" stroke=\"black\" d=\"M159.86,-176.98C150.99,-169.15 137.63,-157.34 126.89,-147.86\"/>\n",
       "<polygon fill=\"black\" stroke=\"black\" points=\"129.13,-145.17 119.32,-141.17 124.49,-150.41 129.13,-145.17\"/>\n",
       "</g>\n",
       "<!-- 124561160919504 -->\n",
       "<g id=\"node7\" class=\"node\">\n",
       "<title>124561160919504</title>\n",
       "<polygon fill=\"lightblue\" stroke=\"black\" points=\"199,-263 140,-263 140,-232 199,-232 199,-263\"/>\n",
       "<text text-anchor=\"middle\" x=\"169.5\" y=\"-239\" font-family=\"monospace\" font-size=\"10.00\"> (2, 2)</text>\n",
       "</g>\n",
       "<!-- 124561160919504&#45;&gt;124561115986960 -->\n",
       "<g id=\"edge5\" class=\"edge\">\n",
       "<title>124561160919504&#45;&gt;124561115986960</title>\n",
       "<path fill=\"none\" stroke=\"black\" d=\"M169.5,-231.92C169.5,-224.22 169.5,-214.69 169.5,-206.43\"/>\n",
       "<polygon fill=\"black\" stroke=\"black\" points=\"173,-206.25 169.5,-196.25 166,-206.25 173,-206.25\"/>\n",
       "</g>\n",
       "</g>\n",
       "</svg>\n"
      ],
      "text/plain": [
       "<graphviz.graphs.Digraph at 0x7149b0345dd0>"
      ]
     },
     "execution_count": 45,
     "metadata": {},
     "output_type": "execute_result"
    }
   ],
   "source": [
    "c = a + b\n",
    "d = (a ** 2).detach()\n",
    "e = c + d\n",
    "torchviz.make_dot(e)"
   ]
  },
  {
   "cell_type": "markdown",
   "metadata": {
    "slideshow": {
     "slide_type": "subslide"
    }
   },
   "source": [
    "- `no_grad()`: prevents book-keeping for the computation graph. Useful for faster inference during evaluations."
   ]
  },
  {
   "cell_type": "code",
   "execution_count": 47,
   "metadata": {
    "slideshow": {
     "slide_type": "fragment"
    }
   },
   "outputs": [
    {
     "data": {
      "image/svg+xml": [
       "<?xml version=\"1.0\" encoding=\"UTF-8\" standalone=\"no\"?>\n",
       "<!DOCTYPE svg PUBLIC \"-//W3C//DTD SVG 1.1//EN\"\n",
       " \"http://www.w3.org/Graphics/SVG/1.1/DTD/svg11.dtd\">\n",
       "<!-- Generated by graphviz version 2.50.0 (0)\n",
       " -->\n",
       "<!-- Pages: 1 -->\n",
       "<svg width=\"67pt\" height=\"39pt\"\n",
       " viewBox=\"0.00 0.00 67.00 39.00\" xmlns=\"http://www.w3.org/2000/svg\" xmlns:xlink=\"http://www.w3.org/1999/xlink\">\n",
       "<g id=\"graph0\" class=\"graph\" transform=\"scale(1 1) rotate(0) translate(4 35)\">\n",
       "<polygon fill=\"white\" stroke=\"transparent\" points=\"-4,4 -4,-35 63,-35 63,4 -4,4\"/>\n",
       "<!-- 124561259030736 -->\n",
       "<g id=\"node1\" class=\"node\">\n",
       "<title>124561259030736</title>\n",
       "<polygon fill=\"#caff70\" stroke=\"black\" points=\"59,-31 0,-31 0,0 59,0 59,-31\"/>\n",
       "<text text-anchor=\"middle\" x=\"29.5\" y=\"-7\" font-family=\"monospace\" font-size=\"10.00\"> (2, 2)</text>\n",
       "</g>\n",
       "</g>\n",
       "</svg>\n"
      ],
      "text/plain": [
       "<graphviz.graphs.Digraph at 0x7149a7b1b690>"
      ]
     },
     "execution_count": 47,
     "metadata": {},
     "output_type": "execute_result"
    }
   ],
   "source": [
    "with torch.no_grad():\n",
    "    c = a + b\n",
    "    d = a ** 2\n",
    "    e = c + d\n",
    "torchviz.make_dot(e)"
   ]
  },
  {
   "cell_type": "markdown",
   "metadata": {
    "slideshow": {
     "slide_type": "fragment"
    }
   },
   "source": [
    "- `inference_mode()`: similar to `no_grad()`, but disables autograd tracking altogether. Recommended for model inference during evaluations."
   ]
  },
  {
   "cell_type": "code",
   "execution_count": 48,
   "metadata": {
    "slideshow": {
     "slide_type": "fragment"
    }
   },
   "outputs": [
    {
     "ename": "RuntimeError",
     "evalue": "Setting requires_grad=True on inference tensor outside InferenceMode is not allowed.",
     "output_type": "error",
     "traceback": [
      "\u001b[0;31m---------------------------------------------------------------------------\u001b[0m",
      "\u001b[0;31mRuntimeError\u001b[0m                              Traceback (most recent call last)",
      "Cell \u001b[0;32mIn[48], line 5\u001b[0m\n\u001b[1;32m      3\u001b[0m     d \u001b[38;5;241m=\u001b[39m a \u001b[38;5;241m*\u001b[39m\u001b[38;5;241m*\u001b[39m \u001b[38;5;241m2\u001b[39m\n\u001b[1;32m      4\u001b[0m     e \u001b[38;5;241m=\u001b[39m c \u001b[38;5;241m+\u001b[39m d\n\u001b[0;32m----> 5\u001b[0m \u001b[43me\u001b[49m\u001b[38;5;241;43m.\u001b[39;49m\u001b[43mrequires_grad\u001b[49m \u001b[38;5;241m=\u001b[39m \u001b[38;5;28;01mTrue\u001b[39;00m\n",
      "\u001b[0;31mRuntimeError\u001b[0m: Setting requires_grad=True on inference tensor outside InferenceMode is not allowed."
     ]
    }
   ],
   "source": [
    "with torch.inference_mode():\n",
    "    c = a + b\n",
    "    d = a ** 2\n",
    "    e = c + d\n",
    "e.requires_grad = True"
   ]
  },
  {
   "cell_type": "markdown",
   "metadata": {
    "slideshow": {
     "slide_type": "slide"
    }
   },
   "source": [
    "### Putting it Together: Deep-Learning with Pytorch\n",
    "\n",
    "- Scenario: 2-Layer MLP with ReLU activation for learning floating-point subtraction\n",
    "- Data: $X \\in \\mathbb{R}^{2\\times m}, Y_{true} \\in \\mathbb{R}^{1\\times m}$\n",
    "- Forward Pass:\n",
    "\n",
    "$$W_1 \\in \\mathbb{R}^{2\\times2}, W_2 \\in \\mathbb{R}^{1\\times2}, b_1 \\in \\mathbb{R}^{2\\times1}, b_2 \\in \\mathbb{R}$$\n",
    "\n",
    "  1. $$ H_1 = \\text{ReLU}(W_1 X + b) $$\n",
    "  2. $$ Y_{predicted} = W_2 H_1 + b_2 $$"
   ]
  },
  {
   "cell_type": "markdown",
   "metadata": {
    "slideshow": {
     "slide_type": "subslide"
    }
   },
   "source": [
    "- Loss Function: MSE\n",
    "  $$L(W_1, W_2, b_1, b_2) = \\frac{1}{2m}\\sum_{i=1}^{m}(y_{predicted}^{(i)} - y_{true}^{(i)})^2$$\n",
    "  $$\\implies L(W_1, W_2, b_1, b_2) = \\frac{1}{2m} (Y_{predicted} - Y_{true})^\\top(Y_{predicted} - Y_{true})$$"
   ]
  },
  {
   "cell_type": "markdown",
   "metadata": {
    "slideshow": {
     "slide_type": "subslide"
    }
   },
   "source": [
    "- Backward Pass:\n",
    "  - $$\\frac{\\partial L}{\\partial W_2} = \\frac{\\partial L}{\\partial Y_{p}}\\frac{\\partial Y_{p}}{\\partial W_2} = \\frac{1}{m} (Y_p - Y_t) H_1^\\top $$\n",
    "  - $$\\frac{\\partial L}{\\partial b_2} = \\frac{\\partial L}{\\partial Y_{p}}\\frac{\\partial Y_{p}}{\\partial b_2} = \\frac{1}{m} \\sum_{i=1}^{m} (y_p^{(i)} - y_t^{(i)}) $$\n",
    "  - $$\\frac{\\partial L}{\\partial W_1} = \\frac{\\partial L}{\\partial Y_{p}}\\frac{\\partial Y_{p}}{\\partial H_1}\\frac{\\partial H_1}{\\partial W_1} = \\frac{1}{m} ( W_2^\\top (Y_p - Y_t)  \\cdot [H_1 > 0] ) X^\\top $$\n",
    "  - $$\\frac{\\partial L}{\\partial b_1} = \\frac{\\partial L}{\\partial Y_{p}}\\frac{\\partial Y_{p}}{\\partial H_1}\\frac{\\partial H_1}{\\partial b_1} = \\frac{1}{m} \\sum_{i=1}^{m} ( W_2^\\top (Y_p - Y_t)  \\cdot [H_1 > 0] ) ^ {(i)}$$"
   ]
  },
  {
   "cell_type": "code",
   "execution_count": 49,
   "metadata": {
    "slideshow": {
     "slide_type": "subslide"
    }
   },
   "outputs": [],
   "source": [
    "def mlp_init(x_dim, y_dim):\n",
    "    prng = numpy.random.default_rng(seed=20240130)\n",
    "    W1 = prng.uniform(-1, 1, size=(2, x_dim))\n",
    "    W2 = prng.uniform(-1, 1, size=(y_dim, 2))\n",
    "    b1 = numpy.zeros((2, 1))\n",
    "    b2 = numpy.zeros((y_dim, 1))\n",
    "\n",
    "    return W1, W2, b1, b2\n",
    "\n",
    "def mlp_forward(x, W1, W2, b1, b2):\n",
    "    if len(x.shape) < 2: x = x[:, numpy.newaxis].T\n",
    "    h1 = (W1 @ x.T) + b1\n",
    "    h1 = numpy.maximum(h1, 0)\n",
    "    return h1, ((W2 @ h1) + b2).T"
   ]
  },
  {
   "cell_type": "code",
   "execution_count": 50,
   "metadata": {
    "slideshow": {
     "slide_type": "subslide"
    }
   },
   "outputs": [],
   "source": [
    "def mlp_backward(x, y, h, y_pred, W1, W2, b1, b2, lr=0.01):\n",
    "    if len(x.shape) < 2: x = x[:, numpy.newaxis].T\n",
    "    if len(y.shape) < 2: y = y[:, numpy.newaxis]\n",
    "    if len(y_pred.shape) < 2: y_pred = y_pred[:, numpy.newaxis]\n",
    "\n",
    "    # compute gradients as per calculations\n",
    "    num_pts = x.shape[0]\n",
    "    grad_y_pred = (y_pred - y).T / num_pts\n",
    "\n",
    "    grad_h = W2.T @ grad_y_pred\n",
    "    grad_h[h <= 0] = 0\n",
    "\n",
    "    grad_W1 = grad_h @ x\n",
    "    grad_W2 = grad_y_pred @ h.T\n",
    "    grad_b1 = numpy.sum(grad_h, axis=1, keepdims=True) \n",
    "    grad_b2 = numpy.sum(grad_y_pred, axis=1, keepdims=True)\n",
    "\n",
    "    # update weights\n",
    "    W1 = W1 - lr * grad_W1\n",
    "    W2 = W2 - lr * grad_W2\n",
    "    b1 = b1 - lr * grad_b1\n",
    "    b2 = b2 - lr * grad_b2\n",
    "\n",
    "    return W1, W2, b1, b2"
   ]
  },
  {
   "cell_type": "code",
   "execution_count": 51,
   "metadata": {
    "slideshow": {
     "slide_type": "subslide"
    }
   },
   "outputs": [
    {
     "data": {
      "application/vnd.jupyter.widget-view+json": {
       "model_id": "f43489f44ef540b48d2157283311e1b8",
       "version_major": 2,
       "version_minor": 0
      },
      "text/plain": [
       "  0%|          | 0/10000 [00:00<?, ?it/s]"
      ]
     },
     "metadata": {},
     "output_type": "display_data"
    },
    {
     "name": "stderr",
     "output_type": "stream",
     "text": [
      "IOPub message rate exceeded.\n",
      "The notebook server will temporarily stop sending output\n",
      "to the client in order to avoid crashing it.\n",
      "To change this limit, set the config variable\n",
      "`--NotebookApp.iopub_msg_rate_limit`.\n",
      "\n",
      "Current values:\n",
      "NotebookApp.iopub_msg_rate_limit=1000.0 (msgs/sec)\n",
      "NotebookApp.rate_limit_window=3.0 (secs)\n",
      "\n",
      "IOPub message rate exceeded.\n",
      "The notebook server will temporarily stop sending output\n",
      "to the client in order to avoid crashing it.\n",
      "To change this limit, set the config variable\n",
      "`--NotebookApp.iopub_msg_rate_limit`.\n",
      "\n",
      "Current values:\n",
      "NotebookApp.iopub_msg_rate_limit=1000.0 (msgs/sec)\n",
      "NotebookApp.rate_limit_window=3.0 (secs)\n",
      "\n",
      "IOPub message rate exceeded.\n",
      "The notebook server will temporarily stop sending output\n",
      "to the client in order to avoid crashing it.\n",
      "To change this limit, set the config variable\n",
      "`--NotebookApp.iopub_msg_rate_limit`.\n",
      "\n",
      "Current values:\n",
      "NotebookApp.iopub_msg_rate_limit=1000.0 (msgs/sec)\n",
      "NotebookApp.rate_limit_window=3.0 (secs)\n",
      "\n",
      "IOPub message rate exceeded.\n",
      "The notebook server will temporarily stop sending output\n",
      "to the client in order to avoid crashing it.\n",
      "To change this limit, set the config variable\n",
      "`--NotebookApp.iopub_msg_rate_limit`.\n",
      "\n",
      "Current values:\n",
      "NotebookApp.iopub_msg_rate_limit=1000.0 (msgs/sec)\n",
      "NotebookApp.rate_limit_window=3.0 (secs)\n",
      "\n",
      "IOPub message rate exceeded.\n",
      "The notebook server will temporarily stop sending output\n",
      "to the client in order to avoid crashing it.\n",
      "To change this limit, set the config variable\n",
      "`--NotebookApp.iopub_msg_rate_limit`.\n",
      "\n",
      "Current values:\n",
      "NotebookApp.iopub_msg_rate_limit=1000.0 (msgs/sec)\n",
      "NotebookApp.rate_limit_window=3.0 (secs)\n",
      "\n"
     ]
    }
   ],
   "source": [
    "prng = numpy.random.default_rng(seed=20240130)\n",
    "X = prng.random(size=(1000, 2))\n",
    "Y = (X[:, 0] - X[:, 1]).reshape(-1, 1)\n",
    "\n",
    "losses = []\n",
    "W1, W2, b1, b2 = mlp_init(X.shape[-1], Y.shape[-1])\n",
    "\n",
    "num_epochs, batch_size = 100, 10\n",
    "num_batches = len(X) // batch_size\n",
    "\n",
    "with tqdm.tqdm(total = num_epochs * num_batches) as pbar:\n",
    "    for epoch in range(num_epochs):\n",
    "        pbar.set_description(f\"Epoch #{epoch+1}\")\n",
    "\n",
    "        for i in range(num_batches):\n",
    "            start = i * batch_size\n",
    "            x_batch = X[start:start+batch_size]\n",
    "            y_batch = Y[start:start+batch_size]\n",
    "\n",
    "            h, y_pred = mlp_forward(x_batch, W1, W2, b1, b2)\n",
    "            loss = 0.5 * numpy.mean((y_pred - y_batch) ** 2)\n",
    "            losses.append(float(loss.squeeze()))\n",
    "            W1, W2, b1, b2 = mlp_backward(x_batch, y_batch, h, y_pred, W1, W2, b1, b2)\n",
    "\n",
    "            pbar.update(1)\n",
    "            pbar.set_postfix(dict(loss=loss))"
   ]
  },
  {
   "cell_type": "code",
   "execution_count": 52,
   "metadata": {
    "slideshow": {
     "slide_type": "subslide"
    }
   },
   "outputs": [
    {
     "data": {
      "text/plain": [
       "[<matplotlib.lines.Line2D at 0x7149a7b0a490>]"
      ]
     },
     "execution_count": 52,
     "metadata": {},
     "output_type": "execute_result"
    },
    {
     "data": {
      "image/png": "[encoded data removed]",
      "text/plain": [
       "<Figure size 640x480 with 1 Axes>"
      ]
     },
     "metadata": {},
     "output_type": "display_data"
    }
   ],
   "source": [
    "pyplot.plot(losses)"
   ]
  },
  {
   "cell_type": "code",
   "execution_count": 53,
   "metadata": {
    "slideshow": {
     "slide_type": "fragment"
    }
   },
   "outputs": [
    {
     "data": {
      "text/plain": [
       "array(0.27104206)"
      ]
     },
     "execution_count": 53,
     "metadata": {},
     "output_type": "execute_result"
    }
   ],
   "source": [
    "mlp_forward(numpy.array([ 0.69, 0.42 ]), W1, W2, b1, b2)[-1].squeeze()"
   ]
  },
  {
   "cell_type": "markdown",
   "metadata": {
    "slideshow": {
     "slide_type": "subslide"
    }
   },
   "source": [
    "#### Simplification with PyTorch basic units"
   ]
  },
  {
   "cell_type": "code",
   "execution_count": null,
   "metadata": {
    "slideshow": {
     "slide_type": "fragment"
    }
   },
   "outputs": [],
   "source": [
    "def mlp_init_pt(x_dim, y_dim):\n",
    "    torch.manual_seed(20240130)\n",
    "    prng = numpy.random.default_rng(seed=20240130)\n",
    "    W1 = prng.uniform(-1, 1, size=(2, x_dim))\n",
    "    W2 = prng.uniform(-1, 1, size=(y_dim, 2))\n",
    "    W1 = torch.tensor(W1, requires_grad=True)\n",
    "    W2 = torch.tensor(W2, requires_grad=True)\n",
    "    b1 = torch.zeros((2, 1), requires_grad=True)\n",
    "    b2 = torch.zeros((y_dim, 1), requires_grad=True)\n",
    "    return W1, W2, b1, b2\n",
    "\n",
    "def mlp_forward_pt(x, W1, W2, b1, b2):\n",
    "    if len(x.shape) < 2: x = x[:, None].T\n",
    "    h1 = (W1 @ x.T) + b1\n",
    "    h1 = torch.where(h1 > 0, h1, 0)\n",
    "    return h1, ((W2 @ h1) + b2).T"
   ]
  },
  {
   "cell_type": "code",
   "execution_count": 54,
   "metadata": {
    "slideshow": {
     "slide_type": "subslide"
    }
   },
   "outputs": [],
   "source": [
    "def mlp_backward_pt(loss, W1, W2, b1, b2, lr=0.01):\n",
    "    loss.backward()\n",
    "\n",
    "    # update weights\n",
    "    W1.data = W1 - lr * W1.grad\n",
    "    W2.data = W2 - lr * W2.grad\n",
    "    b1.data = b1 - lr * b1.grad\n",
    "    b2.data = b2 - lr * b2.grad\n",
    "\n",
    "    W1.grad = W2.grad = b1.grad = b2.grad = None\n",
    "\n",
    "    return W1, W2, b1, b2"
   ]
  },
  {
   "cell_type": "code",
   "execution_count": null,
   "metadata": {
    "slideshow": {
     "slide_type": "subslide"
    }
   },
   "outputs": [],
   "source": [
    "X, Y = torch.as_tensor(X), torch.as_tensor(Y)\n",
    "\n",
    "losses = []\n",
    "W1, W2, b1, b2 = mlp_init_pt(X.shape[-1], Y.shape[-1])\n",
    "\n",
    "num_epochs, batch_size = 100, 10\n",
    "num_batches = len(X) // batch_size\n",
    "\n",
    "with tqdm.tqdm(total = num_epochs * num_batches) as pbar:\n",
    "    for epoch in range(num_epochs):\n",
    "        pbar.set_description(f\"Epoch #{epoch+1}\")\n",
    "\n",
    "        for i in range(num_batches):\n",
    "            start = i * batch_size\n",
    "            x_batch = X[start:start+batch_size]\n",
    "            y_batch = Y[start:start+batch_size]\n",
    "\n",
    "            h, y_pred = mlp_forward_pt(x_batch, W1, W2, b1, b2)\n",
    "            loss = 0.5 * torch.mean((y_pred - y_batch) ** 2)\n",
    "\n",
    "            losses.append(loss.squeeze().item())\n",
    "            W1, W2, b1, b2 = mlp_backward_pt(loss, W1, W2, b1, b2)\n",
    "\n",
    "            pbar.update(1)\n",
    "            pbar.set_postfix(dict(loss=loss.item()))"
   ]
  },
  {
   "cell_type": "code",
   "execution_count": null,
   "metadata": {
    "slideshow": {
     "slide_type": "subslide"
    }
   },
   "outputs": [],
   "source": [
    "pyplot.plot(losses)"
   ]
  },
  {
   "cell_type": "code",
   "execution_count": null,
   "metadata": {
    "slideshow": {
     "slide_type": "fragment"
    }
   },
   "outputs": [],
   "source": [
    "with torch.no_grad():\n",
    "    output = mlp_forward_pt(torch.tensor([ 0.69, 0.42 ], dtype=torch.float64), W1, W2, b1, b2)[-1].squeeze()\n",
    "output"
   ]
  },
  {
   "cell_type": "markdown",
   "metadata": {
    "slideshow": {
     "slide_type": "slide"
    }
   },
   "source": [
    "### Scaling Deep Learning with PyTorch Modules\n",
    "\n",
    "- `torch.nn`: Neural network utilties, activation functions, losses, etc.\n",
    "- `torch.optim`: Optimizers for deep learning, utilizing autograd.\n",
    "- `torch.utils.data`: Data processing utilities."
   ]
  },
  {
   "cell_type": "markdown",
   "metadata": {
    "slideshow": {
     "slide_type": "slide"
    }
   },
   "source": [
    "#### `torch.nn`\n",
    "\n",
    "- Provides neural network components: losses, layer modules, activations, etc."
   ]
  },
  {
   "cell_type": "markdown",
   "metadata": {
    "slideshow": {
     "slide_type": "fragment"
    }
   },
   "source": [
    "- Layer components: `nn.Linear`, `nn.Embedding`, `nn.Conv2d`, `nn.LSTM`, etc.\n",
    "    - Regularization and Stability: `nn.Dropout`, `nn.BatchNorm1d`, etc.\n",
    "    - Layer compositions: `nn.Module`, `nn.Sequential`, `nn.ModuleList`, `nn.ModuleDict`"
   ]
  },
  {
   "cell_type": "markdown",
   "metadata": {
    "slideshow": {
     "slide_type": "fragment"
    }
   },
   "source": [
    "```python\n",
    "model = torch.nn.Sequential(\n",
    "    torch.nn.Linear(X.shape[-1], 2),\n",
    "    torch.nn.ReLU(),\n",
    "    torch.nn.Linear(2, Y.shape[-1])\n",
    ")\n",
    "```"
   ]
  },
  {
   "cell_type": "markdown",
   "metadata": {
    "slideshow": {
     "slide_type": "fragment"
    }
   },
   "source": [
    "- Activations: `nn.ReLU` / `nn.functional.relu`, etc.\n",
    "- Losses: `nn.CrossEntropyLoss` / `nn.functional.cross_entropy`, etc."
   ]
  },
  {
   "cell_type": "markdown",
   "metadata": {
    "slideshow": {
     "slide_type": "subslide"
    }
   },
   "source": [
    "- Using `nn.Module` for fine-grained control:"
   ]
  },
  {
   "cell_type": "code",
   "execution_count": 55,
   "metadata": {
    "slideshow": {
     "slide_type": "fragment"
    }
   },
   "outputs": [],
   "source": [
    "class MLP(torch.nn.Module):\n",
    "    def __init__(self, x_dim, y_dim):\n",
    "        super().__init__()\n",
    "\n",
    "        self.layer_1 = torch.nn.Linear(x_dim, 2)\n",
    "        self.layer_1_act = torch.nn.ReLU()\n",
    "        self.layer_2 = torch.nn.Linear(2, y_dim)\n",
    "\n",
    "    def forward(self, inputs):\n",
    "        hidden = self.layer_1_act(self.layer_1(inputs))\n",
    "        return self.layer_2(hidden)"
   ]
  },
  {
   "cell_type": "code",
   "execution_count": 56,
   "metadata": {
    "slideshow": {
     "slide_type": "fragment"
    }
   },
   "outputs": [
    {
     "name": "stdout",
     "output_type": "stream",
     "text": [
      "layer_1.weight True\n",
      "layer_1.bias True\n",
      "layer_2.weight True\n",
      "layer_2.bias True\n"
     ]
    }
   ],
   "source": [
    "model = MLP(2, 1)\n",
    "\n",
    "for name, param in model.named_parameters():\n",
    "    print(name, param.requires_grad)"
   ]
  },
  {
   "cell_type": "markdown",
   "metadata": {
    "slideshow": {
     "slide_type": "slide"
    }
   },
   "source": [
    "#### `torch.utils.data`\n",
    "\n",
    "- Provides data processing utilites, such as a dataloader to process batches."
   ]
  },
  {
   "cell_type": "code",
   "execution_count": 64,
   "metadata": {
    "slideshow": {
     "slide_type": "fragment"
    }
   },
   "outputs": [
    {
     "data": {
      "text/plain": [
       "(tensor([0.4854, 0.2087]), tensor([0.6260]))"
      ]
     },
     "execution_count": 64,
     "metadata": {},
     "output_type": "execute_result"
    }
   ],
   "source": [
    "dataset = torch.utils.data.TensorDataset(torch.rand((40, 2)), torch.rand((40, 1)))\n",
    "dataset[2] # x and y clubbed as intended."
   ]
  },
  {
   "cell_type": "code",
   "execution_count": 65,
   "metadata": {
    "slideshow": {
     "slide_type": "fragment"
    }
   },
   "outputs": [
    {
     "name": "stdout",
     "output_type": "stream",
     "text": [
      "torch.Size([10, 2]) torch.Size([10, 1])\n",
      "torch.Size([10, 2]) torch.Size([10, 1])\n",
      "torch.Size([10, 2]) torch.Size([10, 1])\n",
      "torch.Size([10, 2]) torch.Size([10, 1])\n"
     ]
    }
   ],
   "source": [
    "dataloader = torch.utils.data.DataLoader(dataset, batch_size=10, shuffle=True, drop_last=True)\n",
    "for x_batch, y_batch in dataloader:\n",
    "    print(x_batch.shape, y_batch.shape)"
   ]
  },
  {
   "cell_type": "markdown",
   "metadata": {
    "slideshow": {
     "slide_type": "slide"
    }
   },
   "source": [
    "### `torch.optim`\n",
    "\n",
    "- Provides optimizers and schedulers for scalable deep learning.\n",
    "- Common: `torch.optim.Adam`, `torch.optim.SGD`, etc.\n",
    "    "
   ]
  },
  {
   "cell_type": "code",
   "execution_count": 66,
   "metadata": {
    "slideshow": {
     "slide_type": "fragment"
    }
   },
   "outputs": [],
   "source": [
    "model = MLP(X.shape[-1], Y.shape[-1])\n",
    "optimizer = torch.optim.SGD(model.parameters(), lr=0.01)"
   ]
  },
  {
   "cell_type": "code",
   "execution_count": null,
   "metadata": {
    "slideshow": {
     "slide_type": "fragment"
    }
   },
   "outputs": [],
   "source": [
    "# Sync gradients (optim specific W.data = W.data - eta * W.grad)\n",
    "optimizer.step()"
   ]
  },
  {
   "cell_type": "code",
   "execution_count": null,
   "metadata": {
    "slideshow": {
     "slide_type": "fragment"
    }
   },
   "outputs": [],
   "source": [
    "# Clear synced gradients from parameter tensors (optim specific W.grad = None)\n",
    "optimizer.zero_grad()"
   ]
  },
  {
   "cell_type": "markdown",
   "metadata": {
    "slideshow": {
     "slide_type": "slide"
    }
   },
   "source": [
    "#### Putting it together"
   ]
  },
  {
   "cell_type": "code",
   "execution_count": null,
   "metadata": {
    "slideshow": {
     "slide_type": "fragment"
    }
   },
   "outputs": [],
   "source": [
    "def mlp_init_true_pt(x_dim, y_dim):\n",
    "    model = MLP(x_dim, y_dim)\n",
    "    optimizer = torch.optim.SGD(model.parameters(), lr=0.01)\n",
    "    return model, optimizer\n",
    "\n",
    "def mlp_forward_true_pt(X, model):\n",
    "    return model(X)\n",
    "\n",
    "def mlp_backward_true_pt(loss, model, optimizer):\n",
    "    loss.backward()\n",
    "    optimizer.step()\n",
    "    model.zero_grad()"
   ]
  },
  {
   "cell_type": "code",
   "execution_count": null,
   "metadata": {
    "slideshow": {
     "slide_type": "subslide"
    }
   },
   "outputs": [],
   "source": [
    "losses = []\n",
    "model, optimizer = mlp_init_true_pt(X.shape[-1], Y.shape[-1])\n",
    "\n",
    "num_epochs, batch_size = 100, 10\n",
    "\n",
    "dataset    = torch.utils.data.TensorDataset(\n",
    "    torch.as_tensor(X, dtype=torch.float32),\n",
    "    torch.as_tensor(Y, dtype=torch.float32)\n",
    ")\n",
    "dataloader = torch.utils.data.DataLoader(dataset, batch_size, shuffle=True)\n",
    "\n",
    "with tqdm.tqdm(total = num_epochs * len(dataloader)) as pbar:\n",
    "    for epoch in range(num_epochs):\n",
    "        pbar.set_description(f\"Epoch #{epoch+1}\")\n",
    "\n",
    "        for x_batch, y_batch in dataloader:\n",
    "            y_pred = mlp_forward_true_pt(x_batch, model)\n",
    "            loss = torch.nn.functional.mse_loss(y_pred, y_batch)\n",
    "            mlp_backward_true_pt(loss, model, optimizer)\n",
    "\n",
    "            pbar.update(1)\n",
    "            pbar.set_postfix(dict(loss=loss.item()))\n",
    "            losses.append(loss.cpu().item())"
   ]
  },
  {
   "cell_type": "code",
   "execution_count": null,
   "metadata": {
    "scrolled": true,
    "slideshow": {
     "slide_type": "subslide"
    }
   },
   "outputs": [],
   "source": [
    "pyplot.plot(losses)"
   ]
  },
  {
   "cell_type": "code",
   "execution_count": null,
   "metadata": {
    "slideshow": {
     "slide_type": "fragment"
    }
   },
   "outputs": [],
   "source": [
    "with torch.no_grad():\n",
    "    output = model(torch.tensor([[ 0.69, 0.42 ]]))\n",
    "output"
   ]
  },
  {
   "cell_type": "markdown",
   "metadata": {
    "slideshow": {
     "slide_type": "subslide"
    }
   },
   "source": [
    "#### Inference Caveats\n",
    "\n",
    "- Some layers (`nn.Dropout`, `nn.LayerNorm`, etc.) behave differently as per inference mode: training or evaluation.\n",
    "- Set behavior jointly for all such components: `train()` / `eval()`"
   ]
  },
  {
   "cell_type": "code",
   "execution_count": null,
   "metadata": {
    "slideshow": {
     "slide_type": "fragment"
    }
   },
   "outputs": [],
   "source": [
    "# model should be used only for training\n",
    "model.train()\n",
    "\n",
    "# model should be used for inference\n",
    "model.eval() # or model.train(False)"
   ]
  },
  {
   "cell_type": "markdown",
   "metadata": {
    "slideshow": {
     "slide_type": "subslide"
    }
   },
   "source": [
    "#### Saving and Loading Trained Models\n",
    "\n",
    "- Saving: `torch.save` (with or without class information)\n",
    "- Loading: `torch.load`"
   ]
  },
  {
   "cell_type": "code",
   "execution_count": null,
   "metadata": {
    "slideshow": {
     "slide_type": "fragment"
    }
   },
   "outputs": [],
   "source": [
    "# save and load with existing model object\n",
    "torch.save(model.state_dict(), \"model_dict.pt\")\n",
    "model.load_state_dict(torch.load(\"model_dict.pt\"))"
   ]
  },
  {
   "cell_type": "code",
   "execution_count": null,
   "metadata": {
    "slideshow": {
     "slide_type": "fragment"
    }
   },
   "outputs": [],
   "source": [
    "# save and load without object\n",
    "torch.save(model, \"model.pt\")\n",
    "model = torch.load(\"model.pt\")"
   ]
  },
  {
   "cell_type": "markdown",
   "metadata": {
    "slideshow": {
     "slide_type": "slide"
    }
   },
   "source": [
    "### References\n",
    "\n",
    "- [Deep Learning with PyTorch: a 60 Minute Blitz by pytorch.org](https://pytorch.org/tutorials/beginner/deep_learning_60min_blitz.html)\n",
    "- [Tutorials about different things PyTorch](https://pytorch.org/tutorials)\n",
    "  - [Introduction to PyTorch - YouTube Series](https://pytorch.org/tutorials/beginner/introyt.html)\n",
    "- PyTorch Repository on [GitHub](https://github.com/pytorch/pytorch)\n",
    "- [PyTorch Cheatsheet for Quick References](https://pytorch.org/tutorials/beginner/ptcheat.html)\n",
    "- [Jupyter Slides - HKUST](https://digitalhumanities.hkust.edu.hk/tutorials/turn-your-jupyter-notebook-into-interactive-presentation-slides-using-anaconda/)\n",
    "\n",
    "- [RISE for jupyter](https://rise.readthedocs.io/)\n",
    "- [Pytorch Tensor Puzzles by Alexander Rush](https://github.com/srush/Tensor-Puzzles)"
   ]
  }
 ],
 "metadata": {
  "celltoolbar": "Slideshow",
  "kernelspec": {
   "display_name": "Python 3 (ipykernel)",
   "language": "python",
   "name": "python3"
  },
  "language_info": {
   "codemirror_mode": {
    "name": "ipython",
    "version": 3
   },
   "file_extension": ".py",
   "mimetype": "text/x-python",
   "name": "python",
   "nbconvert_exporter": "python",
   "pygments_lexer": "ipython3",
   "version": "3.11.11"
  }
 },
 "nbformat": 4,
 "nbformat_minor": 2
}
